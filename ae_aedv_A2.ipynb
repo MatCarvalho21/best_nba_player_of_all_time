{
 "cells": [
  {
   "attachments": {},
   "cell_type": "markdown",
   "id": "eb316c08-7584-48c7-8606-62898a47ac15",
   "metadata": {},
   "source": [
    "# Quem É O Melhor Jogador de Basquete de Todos os Tempos?"
   ]
  },
  {
   "attachments": {},
   "cell_type": "markdown",
   "id": "73928bed-04d2-4b7e-9839-1f63e9b29f7c",
   "metadata": {},
   "source": [
    "## Parte A:"
   ]
  },
  {
   "attachments": {},
   "cell_type": "markdown",
   "id": "ed805d26-058a-4513-8783-e7c3da4f6e6d",
   "metadata": {},
   "source": [
    "### Escolha da Base de Dados:"
   ]
  },
  {
   "attachments": {},
   "cell_type": "markdown",
   "id": "34bb95a2-c256-444d-8f59-a7167d13d974",
   "metadata": {},
   "source": [
    "Minha ideia inicial era comparar apenas o [LeBron James](https://www.nba.com/player/2544/lebron-james) e o [Michael Jordan](https://www.nba.com/stats/player/893/career), porém dei uma olhada no Kaggle, e mesmo que nenhuma base disponível lá tenha atendido os meus interesses, eu pude perceber que essa é uma discussão maior. Portanto vou analisar três jogadores, além dos dois já citados, [Kobe Bryant](https://www.nba.com/stats/player/977/career) será analisado. Uma crítica válida seria a ausência de outros jogadores, como [Larry Bird](https://www.nba.com/stats/player/1449/career) e [Magic Johnson](https://www.nba.com/stats/player/77142/career), porém esses são jogadores de uma basquete mais antigo e aplicar uma comparação estatística com jogadores de épocas tão diferentes seria um erro. Quanto a extração dos dados, ela terá que ser de certa forma manual. No site da NBA tenho todos os dados que preciso, vou apenas copiá-los, formatá-los e transformá-los em arquivos CSV convenientes. "
   ]
  },
  {
   "attachments": {},
   "cell_type": "markdown",
   "id": "f30d361a-3713-4635-ad47-b650ce676441",
   "metadata": {},
   "source": [
    "### Formulação da Hipótese:"
   ]
  },
  {
   "attachments": {},
   "cell_type": "markdown",
   "id": "84be7022-56c7-4ccc-81b6-feae0b052e6f",
   "metadata": {},
   "source": [
    "A formulação da hipótese de certa forma da foi anunciada, porém o meu objetivo, de maneira mais direta, é provar que LeBron James é o melhor jogador de basquete de todos os tempos. Indo contra um olhar saudosista que recusa o novo e se abraça de maneira irracional ao passado. "
   ]
  },
  {
   "attachments": {},
   "cell_type": "markdown",
   "id": "9be7651b-8ccd-4329-95a8-13937761d123",
   "metadata": {},
   "source": [
    "### Referências Visuais e Rascunhos:"
   ]
  },
  {
   "attachments": {},
   "cell_type": "markdown",
   "id": "df97ea24-5b05-4073-8f6a-6f74c774fa64",
   "metadata": {},
   "source": [
    "![Rascunho 1](imagens/rascunho.jpeg \"Minha Primeira Referência.\")"
   ]
  },
  {
   "attachments": {},
   "cell_type": "markdown",
   "id": "2eddb8f4-2b70-46ce-b446-39099f32b0d8",
   "metadata": {},
   "source": [
    "## Parte B:"
   ]
  },
  {
   "attachments": {},
   "cell_type": "markdown",
   "id": "dd7a222f-42be-445e-8caa-92a1da1c36be",
   "metadata": {},
   "source": [
    "### Extraíndo as Bases de Dados:"
   ]
  },
  {
   "attachments": {},
   "cell_type": "markdown",
   "id": "645dd4fa-5b01-4dbe-87ba-fda74bf5f6c9",
   "metadata": {},
   "source": [
    "Incialmente, vamos importar as bibliotecas que vamos utilizar ao longo da análise, e depois criar os dataframes com os quais vamos trabalhar. Esses dataframes são criados a partir dos nossos arquivos csv criados com os dados extraídos do site da NBA. "
   ]
  },
  {
   "cell_type": "code",
   "execution_count": 101,
   "id": "97e353ca-8303-4e2d-ac9c-2552ad5d26e0",
   "metadata": {
    "tags": []
   },
   "outputs": [],
   "source": [
    "import pandas as pd "
   ]
  },
  {
   "cell_type": "code",
   "execution_count": 102,
   "id": "ccc27b6a-ebf1-4ddf-9d7e-f341fb53f3a3",
   "metadata": {
    "tags": []
   },
   "outputs": [],
   "source": [
    "temporada_regular = pd.read_csv(\"bases_de_dados/stats_regular_season.csv\")\n",
    "playoffs = pd.read_csv(\"bases_de_dados/stats_playoffs.csv\")"
   ]
  },
  {
   "attachments": {},
   "cell_type": "markdown",
   "id": "c7372404-deb8-4ba7-a4d8-bd2d757e751e",
   "metadata": {},
   "source": [
    "### Análise Unidimensional dos Dados:"
   ]
  },
  {
   "attachments": {},
   "cell_type": "markdown",
   "id": "52fad48b-ce6b-409f-a1e6-e89d0bed3e48",
   "metadata": {},
   "source": [
    "Nesse momento, vamos classificar as variáveis de acordo com o seu tipo. Essa classificação vai ser crucial e vai determinar qual tipo de análise teremos que fazer em cada uma. Além de entender o que cada coluna significa na nossa base de dados. Vale destacar que será feita uma análise para cada jogador. "
   ]
  },
  {
   "attachments": {},
   "cell_type": "markdown",
   "id": "80f57183-3026-448f-947f-c9a9eaf4a0ba",
   "metadata": {},
   "source": [
    "| **Nome da Variável** | **Classificação** | **Class. Específica** |      **Siginficado**      |\n",
    "|----------------------|-------------------|-----------------------|---------------------------|\n",
    "| PLAYER               | Qualitativa       | Nominal               |Nome do Jogador            |\n",
    "| SEASON               | Qualitativa       | Ordinal               |Temporada                  |\n",
    "| TEAM                 | Qualitativa       | Nominal               |Time                       |\n",
    "| AGE                  | Quantitativa      | Discreta              |Idade                      |\n",
    "| GP                   | Quantitativa      | Discreta              |Jogos Disputados           |\n",
    "| GS                   | Quantitativa      | Discreta              |Jogos de Titular           |\n",
    "| MIN                  | Quantitativa      | Contínua              |Minutos Jogados            |\n",
    "| PTS                  | Quantitativa      | Contínua              |Pontos Totais              |\n",
    "| FGM                  | Quantitativa      | Contínua              |Arremessos Convertidos     |\n",
    "| FGA                  | Quantitativa      | Contínua              |Arremessos Tentados        |\n",
    "| FG%                  | Quantitativa      | Contínua              |Porce. Arreme. Conver.     |\n",
    "| 3PM                  | Quantitativa      | Contínua              |Arre.3Pts Convertidos      |\n",
    "| 3PA                  | Quantitativa      | Contínua              |Arre. 3Pts Tentados        |\n",
    "| 3P%                  | Quantitativa      | Contínua              |Porce. Arreme. 3Pts Conver.|\n",
    "| FTM                  | Quantitativa      | Contínua              |Lances Livres Convertidos  |\n",
    "| FTA                  | Quantitativa      | Contínua              |Lances Livres Tentados     |\n",
    "| FT%                  | Quantitativa      | Contínua              |Porce. Lances Liv. Conver. |\n",
    "| OREB                 | Quantitativa      | Contínua              |Rebotes Ofensivos          |\n",
    "| DREB                 | Quantitativa      | Contínua              |Rebotes Defensivos         |\n",
    "| REB                  | Quantitativa      | Contínua              |Rebotes Totais             |\n",
    "| AST                  | Quantitativa      | Contínua              |Assistências               |\n",
    "| STL                  | Quantitativa      | Contínua              |Roubadas de Bolas          |\n",
    "| BLK                  | Quantitativa      | Contínua              |Bloqueios ou \"Tocos\"       |\n",
    "| TOV                  | Quantitativa      | Contínua              |Perdas de Bolas            |\n",
    "| PF                   | Quantitativa      | Contínua              |Faltas Pessoais            |"
   ]
  },
  {
   "cell_type": "code",
   "execution_count": 103,
   "id": "e6caecc1",
   "metadata": {},
   "outputs": [],
   "source": [
    "from funcoes_estatistica import contagem"
   ]
  },
  {
   "attachments": {},
   "cell_type": "markdown",
   "id": "a4ff2b68",
   "metadata": {},
   "source": [
    "#### Análise Das Variáveis Qualitativas:"
   ]
  },
  {
   "attachments": {},
   "cell_type": "markdown",
   "id": "7c38284c",
   "metadata": {},
   "source": [
    "Para as variáveis qualitativas, o ideal é que seja feita contagem. Pois elas poderão nos retornar quantas temporadas cada jogador jogou e quantas temporadas ele atuou em cada time. Lembrando que nesse caso a diferença entre temporada regular e playoffs não importa. A função que vai fazer a contagem foi feita por mim e importada acima para retornar exatamente o que eu desejava."
   ]
  },
  {
   "attachments": {},
   "cell_type": "markdown",
   "id": "ac5c4d98",
   "metadata": {},
   "source": [
    "#### Contagem Das Temporadas:"
   ]
  },
  {
   "cell_type": "code",
   "execution_count": 104,
   "id": "a5bbdea8",
   "metadata": {},
   "outputs": [
    {
     "name": "stdout",
     "output_type": "stream",
     "text": [
      "{'LEBRON JAMES': 20, 'MICHAEL JORDAN': 15, 'KOBE BRYANT': 20}\n",
      "PLAYER:\n",
      "O valor LEBRON JAMES tem 20 ocorrências.\n",
      "O valor MICHAEL JORDAN tem 15 ocorrências.\n",
      "O valor KOBE BRYANT tem 20 ocorrências.\n"
     ]
    }
   ],
   "source": [
    "contagem(temporada_regular, [\"PLAYER\"])"
   ]
  },
  {
   "attachments": {},
   "cell_type": "markdown",
   "id": "12e12bde",
   "metadata": {},
   "source": [
    "Nessa chunck, vamos contar quantos registros cada jogador tem. Isso vai indicar quantas temporadas de NBA ele disputou, note que Michael, embora tenha atuado até os 40 anos, não chega perto da longevidade de Kobe e Lebron. O desempate se dá pelo fato de LeBron ainda estar em atividade e possuir mais dois anos de contrato com o Los Angeles Lakers, portanto se tornará, com toda a certeza, o jogador mais longevo entre os três. Portanto, ponto para LeBron James!"
   ]
  },
  {
   "attachments": {},
   "cell_type": "markdown",
   "id": "dd2bc084",
   "metadata": {},
   "source": [
    "#### Criação de Uma Base Para Cada Jogador:"
   ]
  },
  {
   "cell_type": "code",
   "execution_count": 105,
   "id": "7289e3b6",
   "metadata": {},
   "outputs": [],
   "source": [
    "\n",
    "kobe_df_rs = temporada_regular[temporada_regular[\"PLAYER\"] == \"KOBE BRYANT\"] \n",
    "kobe_df_po = playoffs[playoffs[\"PLAYER\"] == \"KOBE BRYANT\"] \n",
    "lebron_df_rs = temporada_regular[temporada_regular[\"PLAYER\"] == \"LEBRON JAMES\"] \n",
    "lebron_df_po = playoffs[playoffs[\"PLAYER\"] == \"LEBRON JAMES\"] \n",
    "jordan_df_rs = temporada_regular[temporada_regular[\"PLAYER\"] == \"MICHAEL JORDAN\"] \n",
    "jordan_df_rss = playoffs[playoffs[\"PLAYER\"] == \"MICHAEL JORDAN\"] "
   ]
  },
  {
   "attachments": {},
   "cell_type": "markdown",
   "id": "5aa47f85",
   "metadata": {},
   "source": [
    "#### Contagem Dos Times Por Jogador:"
   ]
  },
  {
   "attachments": {},
   "cell_type": "markdown",
   "id": "9a15b4c6",
   "metadata": {},
   "source": [
    "* KOBE BRYANT"
   ]
  },
  {
   "cell_type": "code",
   "execution_count": 106,
   "id": "fba7a5c6",
   "metadata": {},
   "outputs": [
    {
     "name": "stdout",
     "output_type": "stream",
     "text": [
      "{'LAL': 20}\n",
      "TEAM:\n",
      "O valor LAL tem 20 ocorrências.\n"
     ]
    }
   ],
   "source": [
    "contagem(kobe_df_rs, [\"TEAM\"])"
   ]
  },
  {
   "attachments": {},
   "cell_type": "markdown",
   "id": "59c8b7ca",
   "metadata": {},
   "source": [
    "* LEBRON JAMES"
   ]
  },
  {
   "cell_type": "code",
   "execution_count": 107,
   "id": "5b63b065",
   "metadata": {},
   "outputs": [
    {
     "name": "stdout",
     "output_type": "stream",
     "text": [
      "{'LAL': 5, 'MIA': 4, 'CLE': 11}\n",
      "TEAM:\n",
      "O valor LAL tem 5 ocorrências.\n",
      "O valor MIA tem 4 ocorrências.\n",
      "O valor CLE tem 11 ocorrências.\n"
     ]
    }
   ],
   "source": [
    "contagem(lebron_df_rs, [\"TEAM\"])"
   ]
  },
  {
   "attachments": {},
   "cell_type": "markdown",
   "id": "267afca9",
   "metadata": {},
   "source": [
    "* MICHAEL JORDAN"
   ]
  },
  {
   "cell_type": "code",
   "execution_count": 108,
   "id": "365768cf",
   "metadata": {},
   "outputs": [
    {
     "name": "stdout",
     "output_type": "stream",
     "text": [
      "{'WAS': 2, 'CHI': 13}\n",
      "TEAM:\n",
      "O valor WAS tem 2 ocorrências.\n",
      "O valor CHI tem 13 ocorrências.\n"
     ]
    }
   ],
   "source": [
    "contagem(jordan_df_rs, [\"TEAM\"])"
   ]
  },
  {
   "attachments": {},
   "cell_type": "markdown",
   "id": "d710899b",
   "metadata": {},
   "source": [
    "Nessa chucnk, vamos apenas analisar quantas temporadas cada jogador passou em cada time. Kobe, ficou a carreira toda em LA onde teve muito sucesso, porém concentrado nos anos 2000's. LeBron jogou em três equipes e teve destaque ao longo de todos esses 20 anos, foi campeão em todas elas e espalhou a sua dominância pela liga. Jordan jogou a grande parte da carreira pelos Bulls, onde conquistou 6 títulos nos anos 90, por isso tem a carreira mais vitoriosa entre os jogadores citados aqui, porém sua passagem por Washington foi muito decepcionante, tendo sequer se classificado para os playoff, os oito melhores times da temporada regular. Nessa etapa não existe uma vantagem clara para nenhum deles, existem vantagens em ficar a vida inteira em uma mesma equipe, e existem vantagens em se provar em várias equipes."
   ]
  },
  {
   "attachments": {},
   "cell_type": "markdown",
   "id": "28e0bf57-3fe3-45f0-b54e-30bc17951b27",
   "metadata": {},
   "source": [
    "## Parte C:"
   ]
  },
  {
   "attachments": {},
   "cell_type": "markdown",
   "id": "c6c442e7-2081-4656-af0a-b3de8ea67ad1",
   "metadata": {},
   "source": [
    "## Parte D:"
   ]
  }
 ],
 "metadata": {
  "kernelspec": {
   "display_name": "Python 3 (ipykernel)",
   "language": "python",
   "name": "python3"
  },
  "language_info": {
   "codemirror_mode": {
    "name": "ipython",
    "version": 3
   },
   "file_extension": ".py",
   "mimetype": "text/x-python",
   "name": "python",
   "nbconvert_exporter": "python",
   "pygments_lexer": "ipython3",
   "version": "3.10.6"
  }
 },
 "nbformat": 4,
 "nbformat_minor": 5
}
