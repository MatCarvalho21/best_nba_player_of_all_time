{
 "cells": [
  {
   "cell_type": "markdown",
   "id": "eb316c08-7584-48c7-8606-62898a47ac15",
   "metadata": {},
   "source": [
    "# Quem É O Melhor Jogador de Basquete de Todos os Tempos?"
   ]
  },
  {
   "cell_type": "markdown",
   "id": "73928bed-04d2-4b7e-9839-1f63e9b29f7c",
   "metadata": {},
   "source": [
    "## Parte A:"
   ]
  },
  {
   "cell_type": "markdown",
   "id": "ed805d26-058a-4513-8783-e7c3da4f6e6d",
   "metadata": {},
   "source": [
    "### Escolha da Base de Dados:"
   ]
  },
  {
   "cell_type": "markdown",
   "id": "34bb95a2-c256-444d-8f59-a7167d13d974",
   "metadata": {},
   "source": [
    "Minha ideia inicial era comparar apenas o [LeBron James](https://www.nba.com/player/2544/lebron-james) e o [Michael Jordan](https://www.nba.com/stats/player/893/career), porém dei uma olhada no Kaggle, e mesmo que nenhuma base disponível lá tenha atendido os meus interesses, eu pude perceber que essa é uma discussão maior. Portanto vou analisar três jogadores, além dos dois já citados, [Kobe Bryant](https://www.nba.com/stats/player/977/career) será analisado. Uma crítica válida seria a ausência de outros jogadores, como [Larry Bird](https://www.nba.com/stats/player/1449/career) e [Magic Johnson](https://www.nba.com/stats/player/77142/career), porém esses são jogadores de uma basquete mais antigo e aplicar uma comparação estatística com jogadores de épocas tão diferentes seria um erro. Quanto a extração dos dados, ela terá que ser de certa forma manual. No site da NBA tenho todos os dados que preciso, vou apenas copiá-los, formatá-los e transformá-los em arquivos CSV convenientes. "
   ]
  },
  {
   "cell_type": "markdown",
   "id": "f30d361a-3713-4635-ad47-b650ce676441",
   "metadata": {},
   "source": [
    "### Formulação da Hipótese:"
   ]
  },
  {
   "cell_type": "markdown",
   "id": "84be7022-56c7-4ccc-81b6-feae0b052e6f",
   "metadata": {},
   "source": [
    "A formulação da hipótese de certa forma da foi anunciada, porém o meu objetivo, de maneira mais direta, é provar que LeBron James é o melhor jogador de basquete de todos os tempos. Indo contra um olhar saudosista que recusa o novo e se abraça de maneira irracional ao passado. "
   ]
  },
  {
   "cell_type": "markdown",
   "id": "9be7651b-8ccd-4329-95a8-13937761d123",
   "metadata": {},
   "source": [
    "### Referências Visuais e Rascunhos:"
   ]
  },
  {
   "cell_type": "markdown",
   "id": "df97ea24-5b05-4073-8f6a-6f74c774fa64",
   "metadata": {},
   "source": [
    "![Rascunho 1](imagens/rascunho.jpeg \"Minha Primeira Referência.\")"
   ]
  },
  {
   "cell_type": "markdown",
   "id": "2eddb8f4-2b70-46ce-b446-39099f32b0d8",
   "metadata": {},
   "source": [
    "## Parte B:"
   ]
  },
  {
   "cell_type": "markdown",
   "id": "dd7a222f-42be-445e-8caa-92a1da1c36be",
   "metadata": {},
   "source": [
    "### Extraíndo as Bases de Dados:"
   ]
  },
  {
   "cell_type": "markdown",
   "id": "645dd4fa-5b01-4dbe-87ba-fda74bf5f6c9",
   "metadata": {},
   "source": [
    "Incialmente, vamos importar as bibliotecas que vamos utilizar ao longo da análise, e depois criar os dataframes com os quais vamos trabalhar. Esses dataframes são criados a partir dos nossos arquivos csv criados com os dados extraídos do site da NBA. "
   ]
  },
  {
   "cell_type": "code",
   "execution_count": 11,
   "id": "97e353ca-8303-4e2d-ac9c-2552ad5d26e0",
   "metadata": {
    "tags": []
   },
   "outputs": [],
   "source": [
    "import pandas as pd "
   ]
  },
  {
   "cell_type": "code",
   "execution_count": 12,
   "id": "ccc27b6a-ebf1-4ddf-9d7e-f341fb53f3a3",
   "metadata": {
    "tags": []
   },
   "outputs": [],
   "source": [
    "temporada_regular = pd.read_csv(\"bases_de_dados/stats_regular_season.csv\")\n",
    "playoffs = pd.read_csv(\"bases_de_dados/stats_playoffs.csv\")"
   ]
  },
  {
   "cell_type": "markdown",
   "id": "c7372404-deb8-4ba7-a4d8-bd2d757e751e",
   "metadata": {},
   "source": [
    "### Análise Unidimensional dos Dados:"
   ]
  },
  {
   "cell_type": "markdown",
   "id": "52fad48b-ce6b-409f-a1e6-e89d0bed3e48",
   "metadata": {},
   "source": [
    "Nesse momento, vamos classificar as variáveis de acordo com o seu tipo. Essa classificação vai ser crucial e vai determinar qual tipo de análise teremos que fazer em cada uma. Além de entender o que cada coluna significa na nossa base de dados. Vale destacar que será feita uma análise para cada jogador. "
   ]
  },
  {
   "cell_type": "markdown",
   "id": "80f57183-3026-448f-947f-c9a9eaf4a0ba",
   "metadata": {},
   "source": [
    "| **Nome da Variável** | **Classificação** | **Class. Específica** |      **Siginficado**      |\n",
    "|----------------------|-------------------|-----------------------|---------------------------|\n",
    "| PLAYER               | Qualitativa       | Nominal               |Nome do Jogador            |\n",
    "| SEASON               | Qualitativa       | Ordinal               |Temporada                  |\n",
    "| TEAM                 | Qualitativa       | Nominal               |Time                       |\n",
    "| AGE                  | Quantitativa      | Discreta              |Idade                      |\n",
    "| GP                   | Quantitativa      | Discreta              |Jogos Disputados           |\n",
    "| GS                   | Quantitativa      | Discreta              |Jogos de Titular           |\n",
    "| MIN                  | Quantitativa      | Contínua              |Minutos Jogados            |\n",
    "| PTS                  | Quantitativa      | Contínua              |Pontos Totais              |\n",
    "| FGM                  | Quantitativa      | Contínua              |Arremessos Convertidos     |\n",
    "| FGA                  | Quantitativa      | Contínua              |Arremessos Tentados        |\n",
    "| FG%                  | Quantitativa      | Contínua              |Porce. Arreme. Conver.     |\n",
    "| 3PM                  | Quantitativa      | Contínua              |Arre.3Pts Convertidos      |\n",
    "| 3PA                  | Quantitativa      | Contínua              |Arre. 3Pts Tentados        |\n",
    "| 3P%                  | Quantitativa      | Contínua              |Porce. Arreme. 3Pts Conver.|\n",
    "| FTM                  | Quantitativa      | Contínua              |Lances Livres Convertidos  |\n",
    "| FTA                  | Quantitativa      | Contínua              |Lances Livres Tentados     |\n",
    "| FT%                  | Quantitativa      | Contínua              |Porce. Lances Liv. Conver. |\n",
    "| OREB                 | Quantitativa      | Contínua              |Rebotes Ofensivos          |\n",
    "| DREB                 | Quantitativa      | Contínua              |Rebotes Defensivos         |\n",
    "| REB                  | Quantitativa      | Contínua              |Rebotes Totais             |\n",
    "| AST                  | Quantitativa      | Contínua              |Assistências               |\n",
    "| STL                  | Quantitativa      | Contínua              |Roubadas de Bolas          |\n",
    "| BLK                  | Quantitativa      | Contínua              |Bloqueios ou \"Tocos\"       |\n",
    "| TOV                  | Quantitativa      | Contínua              |Perdas de Bolas            |\n",
    "| PF                   | Quantitativa      | Contínua              |Faltas Pessoais            |"
   ]
  },
  {
   "cell_type": "code",
   "execution_count": 13,
   "id": "e6caecc1",
   "metadata": {},
   "outputs": [],
   "source": [
    "import funcoes_estatistica"
   ]
  },
  {
   "cell_type": "markdown",
   "id": "a4ff2b68",
   "metadata": {},
   "source": [
    "#### Análise Das Variáveis Qualitativas:"
   ]
  },
  {
   "cell_type": "markdown",
   "id": "7c38284c",
   "metadata": {},
   "source": [
    "Para as variáveis qualitativas, o ideal é que seja feita contagem. Pois elas poderão nos retornar quantas temporadas cada jogador jogou e quantas temporadas ele atuou em cada time. Lembrando que nesse caso a diferença entre temporada regular e playoffs não importa. A função que vai fazer a contagem foi feita por mim e importada acima para retornar exatamente o que eu desejava."
   ]
  },
  {
   "cell_type": "markdown",
   "id": "ac5c4d98",
   "metadata": {},
   "source": [
    "#### Contagem Das Temporadas:"
   ]
  },
  {
   "cell_type": "code",
   "execution_count": 14,
   "id": "a5bbdea8",
   "metadata": {},
   "outputs": [
    {
     "name": "stdout",
     "output_type": "stream",
     "text": [
      "PLAYER:\n",
      "O item MICHAEL JORDAN tem 15 ocorrências nessa base de dados.\n",
      "O item KOBE BRYANT tem 20 ocorrências nessa base de dados.\n",
      "O item LEBRON JAMES tem 20 ocorrências nessa base de dados.\n"
     ]
    }
   ],
   "source": [
    "funcoes_estatistica.contagem(temporada_regular, [\"PLAYER\"])"
   ]
  },
  {
   "cell_type": "markdown",
   "id": "12e12bde",
   "metadata": {},
   "source": [
    "Nessa chunck, vamos contar quantos registros cada jogador tem. Isso vai indicar quantas temporadas de NBA ele disputou, note que Michael, embora tenha atuado até os 40 anos, não chega perto da longevidade de Kobe e Lebron. O desempate se dá pelo fato de LeBron ainda estar em atividade e possuir mais dois anos de contrato com o Los Angeles Lakers, portanto se tornará, com toda a certeza, o jogador mais longevo entre os três. Portanto, ponto para LeBron James!"
   ]
  },
  {
   "cell_type": "markdown",
   "id": "dd2bc084",
   "metadata": {},
   "source": [
    "#### Criação de Uma Base Para Cada Jogador:"
   ]
  },
  {
   "cell_type": "code",
   "execution_count": 15,
   "id": "7289e3b6",
   "metadata": {},
   "outputs": [],
   "source": [
    "\n",
    "kobe_df_rs = temporada_regular[temporada_regular[\"PLAYER\"] == \"KOBE BRYANT\"] \n",
    "kobe_df_po = playoffs[playoffs[\"PLAYER\"] == \"KOBE BRYANT\"] \n",
    "lebron_df_rs = temporada_regular[temporada_regular[\"PLAYER\"] == \"LEBRON JAMES\"] \n",
    "lebron_df_po = playoffs[playoffs[\"PLAYER\"] == \"LEBRON JAMES\"] \n",
    "jordan_df_rs = temporada_regular[temporada_regular[\"PLAYER\"] == \"MICHAEL JORDAN\"] \n",
    "jordan_df_rss = playoffs[playoffs[\"PLAYER\"] == \"MICHAEL JORDAN\"] "
   ]
  },
  {
   "cell_type": "markdown",
   "id": "5aa47f85",
   "metadata": {},
   "source": [
    "#### Contagem Dos Times Por Jogador:"
   ]
  },
  {
   "cell_type": "markdown",
   "id": "9a15b4c6",
   "metadata": {},
   "source": [
    "* KOBE BRYANT"
   ]
  },
  {
   "cell_type": "code",
   "execution_count": 16,
   "id": "fba7a5c6",
   "metadata": {},
   "outputs": [
    {
     "name": "stdout",
     "output_type": "stream",
     "text": [
      "TEAM:\n",
      "O item LAL tem 20 ocorrências nessa base de dados.\n"
     ]
    }
   ],
   "source": [
    "funcoes_estatistica.contagem(kobe_df_rs, [\"TEAM\"])"
   ]
  },
  {
   "cell_type": "markdown",
   "id": "59c8b7ca",
   "metadata": {},
   "source": [
    "* LEBRON JAMES"
   ]
  },
  {
   "cell_type": "code",
   "execution_count": 17,
   "id": "5b63b065",
   "metadata": {},
   "outputs": [
    {
     "name": "stdout",
     "output_type": "stream",
     "text": [
      "TEAM:\n",
      "O item MIA tem 4 ocorrências nessa base de dados.\n",
      "O item CLE tem 11 ocorrências nessa base de dados.\n",
      "O item LAL tem 5 ocorrências nessa base de dados.\n"
     ]
    }
   ],
   "source": [
    "funcoes_estatistica.contagem(lebron_df_rs, [\"TEAM\"])"
   ]
  },
  {
   "cell_type": "markdown",
   "id": "267afca9",
   "metadata": {},
   "source": [
    "* MICHAEL JORDAN"
   ]
  },
  {
   "cell_type": "code",
   "execution_count": 18,
   "id": "365768cf",
   "metadata": {},
   "outputs": [
    {
     "name": "stdout",
     "output_type": "stream",
     "text": [
      "TEAM:\n",
      "O item WAS tem 2 ocorrências nessa base de dados.\n",
      "O item CHI tem 13 ocorrências nessa base de dados.\n"
     ]
    }
   ],
   "source": [
    "funcoes_estatistica.contagem(jordan_df_rs, [\"TEAM\"])"
   ]
  },
  {
   "cell_type": "markdown",
   "id": "d710899b",
   "metadata": {},
   "source": [
    "Nessa chucnk, vamos apenas analisar quantas temporadas cada jogador passou em cada time. Kobe, ficou a carreira toda em LA onde teve muito sucesso, porém concentrado nos anos 2000's. LeBron jogou em três equipes e teve destaque ao longo de todos esses 20 anos, foi campeão em todas elas e espalhou a sua dominância pela liga. Jordan jogou a grande parte da carreira pelos Bulls, onde conquistou 6 títulos nos anos 90, por isso tem a carreira mais vitoriosa entre os jogadores citados aqui, porém sua passagem por Washington foi muito decepcionante, tendo sequer se classificado para os playoff, os oito melhores times da temporada regular. Nessa etapa não existe uma vantagem clara para nenhum deles, existem vantagens em ficar a vida inteira em uma mesma equipe, e existem vantagens em se provar em várias equipes."
   ]
  },
  {
   "cell_type": "markdown",
   "id": "e8184265",
   "metadata": {},
   "source": [
    "#### Análise Das Variáveis Qualitativas:"
   ]
  },
  {
   "cell_type": "code",
   "execution_count": 19,
   "id": "efe28929",
   "metadata": {},
   "outputs": [],
   "source": [
    "lista_variaveis_quant = [\"GP\", \"GS\", \"MIN\", \"PTS\", \"FGM\", \"FGA\", \"FG%\", \"3PM\", \"3PA\", \"3P%\", \"FTM\",\n",
    "                          \"FTA\", \"FT%\", \"OREB\", \"DREB\", \"REB\", \"AST\", \"STL\", \"BLK\", \"TOV\", \"PF\"]"
   ]
  },
  {
   "cell_type": "code",
   "execution_count": 20,
   "id": "6c0234c2",
   "metadata": {},
   "outputs": [
    {
     "ename": "NotRenderableError",
     "evalue": "unable to render float; a string or other renderable object is required",
     "output_type": "error",
     "traceback": [
      "\u001b[0;31m---------------------------------------------------------------------------\u001b[0m",
      "\u001b[0;31mNotRenderableError\u001b[0m                        Traceback (most recent call last)",
      "Cell \u001b[0;32mIn[20], line 1\u001b[0m\n\u001b[0;32m----> 1\u001b[0m \u001b[43mfuncoes_estatistica\u001b[49m\u001b[38;5;241;43m.\u001b[39;49m\u001b[43mmedidas_de_resumo\u001b[49m\u001b[43m(\u001b[49m\u001b[43mkobe_df_rs\u001b[49m\u001b[43m,\u001b[49m\u001b[43m \u001b[49m\u001b[43mkobe_df_po\u001b[49m\u001b[43m,\u001b[49m\u001b[43mlista_variaveis_quant\u001b[49m\u001b[43m,\u001b[49m\u001b[43m \u001b[49m\u001b[38;5;124;43m\"\u001b[39;49m\u001b[38;5;124;43mMedidas de Resumo Kobe Bryant RS X PO\u001b[39;49m\u001b[38;5;124;43m\"\u001b[39;49m\u001b[43m)\u001b[49m\n",
      "File \u001b[0;32m~/A2_AEDV_GITHUB/funcoes_estatistica.py:54\u001b[0m, in \u001b[0;36mmedidas_de_resumo\u001b[0;34m(base_de_dados_rs, base_de_dados_po, lista_de_variáveis, titulo)\u001b[0m\n\u001b[1;32m     51\u001b[0m     table\u001b[38;5;241m.\u001b[39madd_column(column)\n\u001b[1;32m     53\u001b[0m \u001b[38;5;28;01mfor\u001b[39;00m row \u001b[38;5;129;01min\u001b[39;00m linhas:\n\u001b[0;32m---> 54\u001b[0m     \u001b[43mtable\u001b[49m\u001b[38;5;241;43m.\u001b[39;49m\u001b[43madd_row\u001b[49m\u001b[43m(\u001b[49m\u001b[38;5;241;43m*\u001b[39;49m\u001b[43mrow\u001b[49m\u001b[43m,\u001b[49m\u001b[43m \u001b[49m\u001b[43mstyle\u001b[49m\u001b[38;5;241;43m=\u001b[39;49m\u001b[38;5;124;43m'\u001b[39;49m\u001b[38;5;124;43mbright_green\u001b[39;49m\u001b[38;5;124;43m'\u001b[39;49m\u001b[43m)\u001b[49m\n\u001b[1;32m     56\u001b[0m console \u001b[38;5;241m=\u001b[39m Console()\n\u001b[1;32m     57\u001b[0m console\u001b[38;5;241m.\u001b[39mprint(table)\n",
      "File \u001b[0;32m~/.local/lib/python3.10/site-packages/rich/table.py:460\u001b[0m, in \u001b[0;36mTable.add_row\u001b[0;34m(self, style, end_section, *renderables)\u001b[0m\n\u001b[1;32m    458\u001b[0m         add_cell(column, renderable)\n\u001b[1;32m    459\u001b[0m     \u001b[38;5;28;01melse\u001b[39;00m:\n\u001b[0;32m--> 460\u001b[0m         \u001b[38;5;28;01mraise\u001b[39;00m errors\u001b[38;5;241m.\u001b[39mNotRenderableError(\n\u001b[1;32m    461\u001b[0m             \u001b[38;5;124mf\u001b[39m\u001b[38;5;124m\"\u001b[39m\u001b[38;5;124munable to render \u001b[39m\u001b[38;5;132;01m{\u001b[39;00m\u001b[38;5;28mtype\u001b[39m(renderable)\u001b[38;5;241m.\u001b[39m\u001b[38;5;18m__name__\u001b[39m\u001b[38;5;132;01m}\u001b[39;00m\u001b[38;5;124m; a string or other renderable object is required\u001b[39m\u001b[38;5;124m\"\u001b[39m\n\u001b[1;32m    462\u001b[0m         )\n\u001b[1;32m    463\u001b[0m \u001b[38;5;28mself\u001b[39m\u001b[38;5;241m.\u001b[39mrows\u001b[38;5;241m.\u001b[39mappend(Row(style\u001b[38;5;241m=\u001b[39mstyle, end_section\u001b[38;5;241m=\u001b[39mend_section))\n",
      "\u001b[0;31mNotRenderableError\u001b[0m: unable to render float; a string or other renderable object is required"
     ]
    }
   ],
   "source": [
    "funcoes_estatistica.medidas_de_resumo(kobe_df_rs, kobe_df_po,lista_variaveis_quant, \"Medidas de Resumo Kobe Bryant RS X PO\")"
   ]
  },
  {
   "cell_type": "markdown",
   "id": "28e0bf57-3fe3-45f0-b54e-30bc17951b27",
   "metadata": {},
   "source": [
    "## Parte C:"
   ]
  },
  {
   "cell_type": "markdown",
   "id": "c6c442e7-2081-4656-af0a-b3de8ea67ad1",
   "metadata": {},
   "source": [
    "## Parte D:"
   ]
  },
  {
   "cell_type": "code",
   "execution_count": null,
   "id": "584279c7-bf70-44af-ad9f-4e5818a96d12",
   "metadata": {},
   "outputs": [],
   "source": []
  },
  {
   "cell_type": "code",
   "execution_count": null,
   "id": "b55e7d0b-eb31-425a-bd72-f93a37b928a7",
   "metadata": {},
   "outputs": [],
   "source": []
  },
  {
   "cell_type": "code",
   "execution_count": null,
   "id": "37691cfe-3eab-4ea9-bc78-93de30a408fd",
   "metadata": {},
   "outputs": [],
   "source": []
  },
  {
   "cell_type": "code",
   "execution_count": null,
   "id": "c56d3f58-3a1e-4b82-9201-6812d7a4c840",
   "metadata": {},
   "outputs": [],
   "source": []
  },
  {
   "cell_type": "code",
   "execution_count": null,
   "id": "d5554693-00ba-4019-a682-c8de07250007",
   "metadata": {},
   "outputs": [],
   "source": []
  },
  {
   "cell_type": "code",
   "execution_count": null,
   "id": "e0ba5d33-11a6-4781-8097-5fce956a4a97",
   "metadata": {},
   "outputs": [],
   "source": []
  }
 ],
 "metadata": {
  "kernelspec": {
   "display_name": "Python 3 (ipykernel)",
   "language": "python",
   "name": "python3"
  },
  "language_info": {
   "codemirror_mode": {
    "name": "ipython",
    "version": 3
   },
   "file_extension": ".py",
   "mimetype": "text/x-python",
   "name": "python",
   "nbconvert_exporter": "python",
   "pygments_lexer": "ipython3",
   "version": "3.10.6"
  }
 },
 "nbformat": 4,
 "nbformat_minor": 5
}
