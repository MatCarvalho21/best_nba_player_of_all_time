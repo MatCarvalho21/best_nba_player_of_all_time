{
 "cells": [
  {
   "cell_type": "markdown",
   "id": "eb316c08-7584-48c7-8606-62898a47ac15",
   "metadata": {},
   "source": [
    "# Quem É O Melhor Jogador de Basquete de Todos os Tempos?"
   ]
  },
  {
   "cell_type": "markdown",
   "id": "73928bed-04d2-4b7e-9839-1f63e9b29f7c",
   "metadata": {},
   "source": [
    "## Parte A:"
   ]
  },
  {
   "cell_type": "markdown",
   "id": "ed805d26-058a-4513-8783-e7c3da4f6e6d",
   "metadata": {},
   "source": [
    "### Escolha da Base de Dados:"
   ]
  },
  {
   "cell_type": "markdown",
   "id": "34bb95a2-c256-444d-8f59-a7167d13d974",
   "metadata": {},
   "source": [
    "Minha ideia inicial era comparar apenas o [LeBron James](https://www.nba.com/player/2544/lebron-james) e o [Michael Jordan](https://www.nba.com/stats/player/893/career), porém dei uma olhada no Kaggle, e mesmo que nenhuma base disponível lá tenha atendido os meus interesses, eu pude perceber que essa é uma discussão maior. Portanto vou analisar três jogadores, além dos dois já citados, [Kobe Bryant](https://www.nba.com/stats/player/977/career) será analisado. Uma crítica válida seria a ausência de outros jogadores, como [Larry Bird](https://www.nba.com/stats/player/1449/career) e [Magic Johnson](https://www.nba.com/stats/player/77142/career), porém esses são jogadores de uma basquete mais antigo e aplicar uma comparação estatística com jogadores de épocas tão diferentes seria um erro. Quanto a extração dos dados, ela terá que ser de certa forma manual. No site da NBA tenho todos os dados que preciso, vou apenas copiá-los, formatá-los e transformá-los em arquivos CSV convenientes. "
   ]
  },
  {
   "cell_type": "markdown",
   "id": "f30d361a-3713-4635-ad47-b650ce676441",
   "metadata": {},
   "source": [
    "### Formulação da Hipótese:"
   ]
  },
  {
   "cell_type": "markdown",
   "id": "84be7022-56c7-4ccc-81b6-feae0b052e6f",
   "metadata": {},
   "source": [
    "A formulação da hipótese de certa forma da foi anunciada, porém o meu objetivo, de maneira mais direta, é provar que LeBron James é o melhor jogador de basquete de todos os tempos. Indo contra um olhar saudosista que recusa o novo e se abraça de maneira irracional ao passado. "
   ]
  },
  {
   "cell_type": "markdown",
   "id": "9be7651b-8ccd-4329-95a8-13937761d123",
   "metadata": {},
   "source": [
    "### Referências Visuais e Rascunhos:"
   ]
  },
  {
   "cell_type": "markdown",
   "id": "df97ea24-5b05-4073-8f6a-6f74c774fa64",
   "metadata": {},
   "source": [
    "![Rascunho 1](imagens/rascunho2.jpeg \"Minha Primeira Referência.\")\n",
    "<img align=\"left\" width=\"100\" height=\"100\">"
   ]
  },
  {
   "cell_type": "markdown",
   "id": "d702ae27-78c1-4dbb-8c92-c6cb048c56c9",
   "metadata": {},
   "source": [
    "![Inspirações](imagens/inspiracoes.png \"Inspirações Para a Peça Gráfica.\")"
   ]
  },
  {
   "cell_type": "markdown",
   "id": "2eddb8f4-2b70-46ce-b446-39099f32b0d8",
   "metadata": {},
   "source": [
    "## Parte B:"
   ]
  },
  {
   "cell_type": "markdown",
   "id": "dd7a222f-42be-445e-8caa-92a1da1c36be",
   "metadata": {},
   "source": [
    "### Extraíndo as Bases de Dados:"
   ]
  },
  {
   "cell_type": "markdown",
   "id": "645dd4fa-5b01-4dbe-87ba-fda74bf5f6c9",
   "metadata": {},
   "source": [
    "Incialmente, vamos importar as bibliotecas que vamos utilizar ao longo da análise, e depois criar os dataframes com os quais vamos trabalhar. Esses dataframes são criados a partir dos nossos arquivos csv criados com os dados extraídos do site da NBA. "
   ]
  },
  {
   "cell_type": "code",
   "execution_count": 1,
   "id": "97e353ca-8303-4e2d-ac9c-2552ad5d26e0",
   "metadata": {
    "tags": []
   },
   "outputs": [],
   "source": [
    "import pandas as pd "
   ]
  },
  {
   "cell_type": "code",
   "execution_count": 2,
   "id": "ccc27b6a-ebf1-4ddf-9d7e-f341fb53f3a3",
   "metadata": {
    "tags": []
   },
   "outputs": [],
   "source": [
    "temporada_regular = pd.read_csv(\"bases_de_dados/stats_regular_season.csv\")\n",
    "playoffs = pd.read_csv(\"bases_de_dados/stats_playoffs.csv\")"
   ]
  },
  {
   "cell_type": "markdown",
   "id": "c7372404-deb8-4ba7-a4d8-bd2d757e751e",
   "metadata": {},
   "source": [
    "### Análise Unidimensional dos Dados:"
   ]
  },
  {
   "cell_type": "markdown",
   "id": "52fad48b-ce6b-409f-a1e6-e89d0bed3e48",
   "metadata": {},
   "source": [
    "Nesse momento, vamos classificar as variáveis de acordo com o seu tipo. Essa classificação vai ser crucial e vai determinar qual tipo de análise teremos que fazer em cada uma. Além de entender o que cada coluna significa na nossa base de dados. Vale destacar que será feita uma análise para cada jogador. "
   ]
  },
  {
   "cell_type": "markdown",
   "id": "80f57183-3026-448f-947f-c9a9eaf4a0ba",
   "metadata": {},
   "source": [
    "| **Nome da Variável** | **Classificação** | **Class. Específica** |      **Siginficado**      |\n",
    "|----------------------|-------------------|-----------------------|---------------------------|\n",
    "| PLAYER               | Qualitativa       | Nominal               |Nome do Jogador            |\n",
    "| SEASON               | Qualitativa       | Ordinal               |Temporada                  |\n",
    "| TEAM                 | Qualitativa       | Nominal               |Time                       |\n",
    "| AGE                  | Quantitativa      | Discreta              |Idade                      |\n",
    "| GP                   | Quantitativa      | Discreta              |Jogos Disputados           |\n",
    "| GS                   | Quantitativa      | Discreta              |Jogos de Titular           |\n",
    "| MIN                  | Quantitativa      | Contínua              |Minutos Jogados            |\n",
    "| PTS                  | Quantitativa      | Contínua              |Pontos Totais              |\n",
    "| FGM                  | Quantitativa      | Contínua              |Arremessos Convertidos     |\n",
    "| FGA                  | Quantitativa      | Contínua              |Arremessos Tentados        |\n",
    "| FG%                  | Quantitativa      | Contínua              |Porce. Arreme. Conver.     |\n",
    "| 3PM                  | Quantitativa      | Contínua              |Arre.3Pts Convertidos      |\n",
    "| 3PA                  | Quantitativa      | Contínua              |Arre. 3Pts Tentados        |\n",
    "| 3P%                  | Quantitativa      | Contínua              |Porce. Arreme. 3Pts Conver.|\n",
    "| FTM                  | Quantitativa      | Contínua              |Lances Livres Convertidos  |\n",
    "| FTA                  | Quantitativa      | Contínua              |Lances Livres Tentados     |\n",
    "| FT%                  | Quantitativa      | Contínua              |Porce. Lances Liv. Conver. |\n",
    "| OREB                 | Quantitativa      | Contínua              |Rebotes Ofensivos          |\n",
    "| DREB                 | Quantitativa      | Contínua              |Rebotes Defensivos         |\n",
    "| REB                  | Quantitativa      | Contínua              |Rebotes Totais             |\n",
    "| AST                  | Quantitativa      | Contínua              |Assistências               |\n",
    "| STL                  | Quantitativa      | Contínua              |Roubadas de Bolas          |\n",
    "| BLK                  | Quantitativa      | Contínua              |Bloqueios ou \"Tocos\"       |\n",
    "| TOV                  | Quantitativa      | Contínua              |Perdas de Bolas            |\n",
    "| PF                   | Quantitativa      | Contínua              |Faltas Pessoais            |"
   ]
  },
  {
   "cell_type": "code",
   "execution_count": 3,
   "id": "e6caecc1",
   "metadata": {},
   "outputs": [],
   "source": [
    "import funcoes_estatistica"
   ]
  },
  {
   "cell_type": "markdown",
   "id": "a4ff2b68",
   "metadata": {},
   "source": [
    "#### Análise Das Variáveis Qualitativas:"
   ]
  },
  {
   "cell_type": "markdown",
   "id": "7c38284c",
   "metadata": {},
   "source": [
    "Para as variáveis qualitativas, o ideal é que seja feita contagem. Pois elas poderão nos retornar quantas temporadas cada jogador jogou e quantas temporadas ele atuou em cada time. Lembrando que nesse caso a diferença entre temporada regular e playoffs não importa. A função que vai fazer a contagem foi feita por mim e importada acima para retornar exatamente o que eu desejava."
   ]
  },
  {
   "cell_type": "markdown",
   "id": "ac5c4d98",
   "metadata": {},
   "source": [
    "#### Contagem Das Temporadas:"
   ]
  },
  {
   "cell_type": "code",
   "execution_count": 4,
   "id": "a5bbdea8",
   "metadata": {},
   "outputs": [
    {
     "name": "stdout",
     "output_type": "stream",
     "text": [
      "PLAYER:\n",
      "O item LEBRON JAMES tem 20 ocorrências nessa base de dados.\n",
      "O item MICHAEL JORDAN tem 15 ocorrências nessa base de dados.\n",
      "O item KOBE BRYANT tem 20 ocorrências nessa base de dados.\n"
     ]
    }
   ],
   "source": [
    "funcoes_estatistica.contagem(temporada_regular, [\"PLAYER\"])"
   ]
  },
  {
   "cell_type": "markdown",
   "id": "12e12bde",
   "metadata": {},
   "source": [
    "Nessa chunck, vamos contar quantos registros cada jogador tem. Isso vai indicar quantas temporadas de NBA ele disputou, note que Michael, embora tenha atuado até os 40 anos, não chega perto da longevidade de Kobe e Lebron. O desempate se dá pelo fato de LeBron ainda estar em atividade e possuir mais dois anos de contrato com o Los Angeles Lakers, portanto se tornará, com toda a certeza, o jogador mais longevo entre os três. Portanto, ponto para LeBron James!"
   ]
  },
  {
   "cell_type": "markdown",
   "id": "dd2bc084",
   "metadata": {},
   "source": [
    "#### Criação de Uma Base Para Cada Jogador:"
   ]
  },
  {
   "cell_type": "code",
   "execution_count": 5,
   "id": "7289e3b6",
   "metadata": {},
   "outputs": [],
   "source": [
    "\n",
    "kobe_df_rs = temporada_regular[temporada_regular[\"PLAYER\"] == \"KOBE BRYANT\"] \n",
    "kobe_df_po = playoffs[playoffs[\"PLAYER\"] == \"KOBE BRYANT\"] \n",
    "lebron_df_rs = temporada_regular[temporada_regular[\"PLAYER\"] == \"LEBRON JAMES\"] \n",
    "lebron_df_po = playoffs[playoffs[\"PLAYER\"] == \"LEBRON JAMES\"] \n",
    "jordan_df_rs = temporada_regular[temporada_regular[\"PLAYER\"] == \"MICHAEL JORDAN\"] \n",
    "jordan_df_po = playoffs[playoffs[\"PLAYER\"] == \"MICHAEL JORDAN\"] "
   ]
  },
  {
   "cell_type": "markdown",
   "id": "5aa47f85",
   "metadata": {},
   "source": [
    "#### Contagem Dos Times Por Jogador:"
   ]
  },
  {
   "cell_type": "markdown",
   "id": "9a15b4c6",
   "metadata": {},
   "source": [
    "* KOBE BRYANT"
   ]
  },
  {
   "cell_type": "code",
   "execution_count": 6,
   "id": "fba7a5c6",
   "metadata": {},
   "outputs": [
    {
     "name": "stdout",
     "output_type": "stream",
     "text": [
      "TEAM:\n",
      "O item LAL tem 20 ocorrências nessa base de dados.\n"
     ]
    }
   ],
   "source": [
    "funcoes_estatistica.contagem(kobe_df_rs, [\"TEAM\"])"
   ]
  },
  {
   "cell_type": "markdown",
   "id": "59c8b7ca",
   "metadata": {},
   "source": [
    "* LEBRON JAMES"
   ]
  },
  {
   "cell_type": "code",
   "execution_count": 7,
   "id": "5b63b065",
   "metadata": {},
   "outputs": [
    {
     "name": "stdout",
     "output_type": "stream",
     "text": [
      "TEAM:\n",
      "O item CLE tem 11 ocorrências nessa base de dados.\n",
      "O item MIA tem 4 ocorrências nessa base de dados.\n",
      "O item LAL tem 5 ocorrências nessa base de dados.\n"
     ]
    }
   ],
   "source": [
    "funcoes_estatistica.contagem(lebron_df_rs, [\"TEAM\"])"
   ]
  },
  {
   "cell_type": "markdown",
   "id": "267afca9",
   "metadata": {},
   "source": [
    "* MICHAEL JORDAN"
   ]
  },
  {
   "cell_type": "code",
   "execution_count": 8,
   "id": "365768cf",
   "metadata": {},
   "outputs": [
    {
     "name": "stdout",
     "output_type": "stream",
     "text": [
      "TEAM:\n",
      "O item CHI tem 13 ocorrências nessa base de dados.\n",
      "O item WAS tem 2 ocorrências nessa base de dados.\n"
     ]
    }
   ],
   "source": [
    "funcoes_estatistica.contagem(jordan_df_rs, [\"TEAM\"])"
   ]
  },
  {
   "cell_type": "markdown",
   "id": "d710899b",
   "metadata": {},
   "source": [
    "Nessa chucnk, vamos apenas analisar quantas temporadas cada jogador passou em cada time. Kobe, ficou a carreira toda em LA onde teve muito sucesso, porém concentrado nos anos 2000's. LeBron jogou em três equipes e teve destaque ao longo de todos esses 20 anos, foi campeão em todas elas e espalhou a sua dominância pela liga. Jordan jogou a grande parte da carreira pelos Bulls, onde conquistou 6 títulos nos anos 90, por isso tem a carreira mais vitoriosa entre os jogadores citados aqui, porém sua passagem por Washington foi muito decepcionante, tendo sequer se classificado para os playoff, os oito melhores times da temporada regular. Nessa etapa não existe uma vantagem clara para nenhum deles, existem vantagens em ficar a vida inteira em uma mesma equipe, e existem vantagens em se provar em várias equipes."
   ]
  },
  {
   "cell_type": "markdown",
   "id": "e8184265",
   "metadata": {},
   "source": [
    "#### Análise Das Variáveis Quantitativas:"
   ]
  },
  {
   "cell_type": "markdown",
   "id": "b0867124-a104-41b6-a5e0-93f21515db89",
   "metadata": {},
   "source": [
    "A análise da variáeis quantitativas foi o que me fez escolher o python. Eu criei uma função, assim como nas contagens acima, que recebe bases de dados e retorna os dados já sumarizados dentro de uma tabela. Essa função foi feita especialmente para esse trabalho para retornar a tabela do jeito que eu imaginava. As tabelas possuem as seguintes colunas:`VARIÁVEL`, `MÉDIA_RS`, `MEDIANA_RS`, `DP_RS`, `VAR_RS_LOG100`, `MÁX_RS`, `MÍN_RS`, `MÉDIA_PO`, `MEDIANA_PO`, `DP_PO`, `VAR_PO_LOG100`, `MÁX_PO`, `MÍN_PO`, nessa ordem. Elas representam a medida indicada e qual a origem dos dados, PO ou RS. Logo abaixo, na tag `Conclusões`, vou analisar variável por variável e descobrir qual jogador se destaca em cada uma. "
   ]
  },
  {
   "cell_type": "code",
   "execution_count": 9,
   "id": "efe28929",
   "metadata": {},
   "outputs": [],
   "source": [
    "lista_variaveis_quant = [\"GP\", \"GS\", \"MIN\", \"PTS\", \"FGM\", \"FGA\", \"FG%\", \"3PM\", \"3PA\", \"3P%\", \"FTM\",\n",
    "                          \"FTA\", \"FT%\", \"OREB\", \"DREB\", \"REB\", \"AST\", \"STL\", \"BLK\", \"TOV\", \"PF\"]"
   ]
  },
  {
   "cell_type": "code",
   "execution_count": 10,
   "id": "6c0234c2",
   "metadata": {},
   "outputs": [
    {
     "data": {
      "text/html": [
       "<pre style=\"white-space:pre;overflow-x:auto;line-height:normal;font-family:Menlo,'DejaVu Sans Mono',consolas,'Courier New',monospace\"><span style=\"font-style: italic\">                                       Medidas de Resumo Kobe Bryant RS X PO                                       </span>\n",
       "┏━━━━━━━━┳━━━━━━━━┳━━━━━━━━┳━━━━━━━┳━━━━━━━━┳━━━━━━━━┳━━━━━━━━┳━━━━━━━━┳━━━━━━━━┳━━━━━━━┳━━━━━━━━┳━━━━━━━━┳━━━━━━━┓\n",
       "┃<span style=\"font-weight: bold\"> VARIÁ… </span>┃<span style=\"font-weight: bold\"> MÉDIA… </span>┃<span style=\"font-weight: bold\"> MEDIA… </span>┃<span style=\"font-weight: bold\"> DP_RS </span>┃<span style=\"font-weight: bold\"> VAR_R… </span>┃<span style=\"font-weight: bold\"> MÁX_RS </span>┃<span style=\"font-weight: bold\"> MÍN_RS </span>┃<span style=\"font-weight: bold\"> MÉDIA… </span>┃<span style=\"font-weight: bold\"> MEDIA… </span>┃<span style=\"font-weight: bold\"> DP_PO </span>┃<span style=\"font-weight: bold\"> VAR_P… </span>┃<span style=\"font-weight: bold\"> MÁX_PO </span>┃<span style=\"font-weight: bold\"> MÍN_… </span>┃\n",
       "┡━━━━━━━━╇━━━━━━━━╇━━━━━━━━╇━━━━━━━╇━━━━━━━━╇━━━━━━━━╇━━━━━━━━╇━━━━━━━━╇━━━━━━━━╇━━━━━━━╇━━━━━━━━╇━━━━━━━━╇━━━━━━━┩\n",
       "│<span style=\"color: #000000; text-decoration-color: #000000\"> GP     </span>│<span style=\"color: #000000; text-decoration-color: #000000\"> 67.3   </span>│<span style=\"color: #000000; text-decoration-color: #000000\"> 72.0   </span>│<span style=\"color: #000000; text-decoration-color: #000000\"> 18.4  </span>│<span style=\"color: #000000; text-decoration-color: #000000\"> 3.6    </span>│<span style=\"color: #000000; text-decoration-color: #000000\"> 82     </span>│<span style=\"color: #000000; text-decoration-color: #000000\"> 6      </span>│<span style=\"color: #000000; text-decoration-color: #000000\"> 14.7   </span>│<span style=\"color: #000000; text-decoration-color: #000000\"> 12     </span>│<span style=\"color: #000000; text-decoration-color: #000000\"> 6.2   </span>│<span style=\"color: #000000; text-decoration-color: #000000\"> 0.4    </span>│<span style=\"color: #000000; text-decoration-color: #000000\"> 23     </span>│<span style=\"color: #000000; text-decoration-color: #000000\"> 5     </span>│\n",
       "│<span style=\"color: #000000; text-decoration-color: #000000\"> GS     </span>│<span style=\"color: #000000; text-decoration-color: #000000\"> 59.9   </span>│<span style=\"color: #000000; text-decoration-color: #000000\"> 67.0   </span>│<span style=\"color: #000000; text-decoration-color: #000000\"> 26.2  </span>│<span style=\"color: #000000; text-decoration-color: #000000\"> 7.2    </span>│<span style=\"color: #000000; text-decoration-color: #000000\"> 82     </span>│<span style=\"color: #000000; text-decoration-color: #000000\"> 1      </span>│<span style=\"color: #000000; text-decoration-color: #000000\"> 13.3   </span>│<span style=\"color: #000000; text-decoration-color: #000000\"> 12     </span>│<span style=\"color: #000000; text-decoration-color: #000000\"> 7.9   </span>│<span style=\"color: #000000; text-decoration-color: #000000\"> 0.7    </span>│<span style=\"color: #000000; text-decoration-color: #000000\"> 23     </span>│<span style=\"color: #000000; text-decoration-color: #000000\"> 0     </span>│\n",
       "│<span style=\"color: #000000; text-decoration-color: #000000\"> MIN    </span>│<span style=\"color: #000000; text-decoration-color: #000000\"> 2432.7 </span>│<span style=\"color: #000000; text-decoration-color: #000000\"> 2734.0 </span>│<span style=\"color: #000000; text-decoration-color: #000000\"> 818.2 </span>│<span style=\"color: #000000; text-decoration-color: #000000\"> 7046.5 </span>│<span style=\"color: #000000; text-decoration-color: #000000\"> 3404   </span>│<span style=\"color: #000000; text-decoration-color: #000000\"> 177    </span>│<span style=\"color: #000000; text-decoration-color: #000000\"> 576    </span>│<span style=\"color: #000000; text-decoration-color: #000000\"> 531    </span>│<span style=\"color: #000000; text-decoration-color: #000000\"> 294.7 </span>│<span style=\"color: #000000; text-decoration-color: #000000\"> 930.5  </span>│<span style=\"color: #000000; text-decoration-color: #000000\"> 973    </span>│<span style=\"color: #000000; text-decoration-color: #000000\"> 133   </span>│\n",
       "│<span style=\"color: #000000; text-decoration-color: #000000\"> PTS    </span>│<span style=\"color: #000000; text-decoration-color: #000000\"> 1682.2 </span>│<span style=\"color: #000000; text-decoration-color: #000000\"> 1878.5 </span>│<span style=\"color: #000000; text-decoration-color: #000000\"> 689.1 </span>│<span style=\"color: #000000; text-decoration-color: #000000\"> 4998.8 </span>│<span style=\"color: #000000; text-decoration-color: #000000\"> 2832   </span>│<span style=\"color: #000000; text-decoration-color: #000000\"> 83     </span>│<span style=\"color: #000000; text-decoration-color: #000000\"> 376    </span>│<span style=\"color: #000000; text-decoration-color: #000000\"> 385    </span>│<span style=\"color: #000000; text-decoration-color: #000000\"> 205.3 </span>│<span style=\"color: #000000; text-decoration-color: #000000\"> 451.7  </span>│<span style=\"color: #000000; text-decoration-color: #000000\"> 695    </span>│<span style=\"color: #000000; text-decoration-color: #000000\"> 74    </span>│\n",
       "│<span style=\"color: #000000; text-decoration-color: #000000\"> FGM    </span>│<span style=\"color: #000000; text-decoration-color: #000000\"> 586.0  </span>│<span style=\"color: #000000; text-decoration-color: #000000\"> 637.5  </span>│<span style=\"color: #000000; text-decoration-color: #000000\"> 242.7 </span>│<span style=\"color: #000000; text-decoration-color: #000000\"> 620.0  </span>│<span style=\"color: #000000; text-decoration-color: #000000\"> 978    </span>│<span style=\"color: #000000; text-decoration-color: #000000\"> 31     </span>│<span style=\"color: #000000; text-decoration-color: #000000\"> 134.3  </span>│<span style=\"color: #000000; text-decoration-color: #000000\"> 137    </span>│<span style=\"color: #000000; text-decoration-color: #000000\"> 72.5  </span>│<span style=\"color: #000000; text-decoration-color: #000000\"> 56.2   </span>│<span style=\"color: #000000; text-decoration-color: #000000\"> 242    </span>│<span style=\"color: #000000; text-decoration-color: #000000\"> 21    </span>│\n",
       "│<span style=\"color: #000000; text-decoration-color: #000000\"> FGA    </span>│<span style=\"color: #000000; text-decoration-color: #000000\"> 1310   </span>│<span style=\"color: #000000; text-decoration-color: #000000\"> 1423.0 </span>│<span style=\"color: #000000; text-decoration-color: #000000\"> 509.6 </span>│<span style=\"color: #000000; text-decoration-color: #000000\"> 2733.9 </span>│<span style=\"color: #000000; text-decoration-color: #000000\"> 2173   </span>│<span style=\"color: #000000; text-decoration-color: #000000\"> 73     </span>│<span style=\"color: #000000; text-decoration-color: #000000\"> 299.9  </span>│<span style=\"color: #000000; text-decoration-color: #000000\"> 317    </span>│<span style=\"color: #000000; text-decoration-color: #000000\"> 159.2 </span>│<span style=\"color: #000000; text-decoration-color: #000000\"> 271.7  </span>│<span style=\"color: #000000; text-decoration-color: #000000\"> 530    </span>│<span style=\"color: #000000; text-decoration-color: #000000\"> 55    </span>│\n",
       "│<span style=\"color: #000000; text-decoration-color: #000000\"> FG%    </span>│<span style=\"color: #000000; text-decoration-color: #000000\"> 44.1   </span>│<span style=\"color: #000000; text-decoration-color: #000000\"> 45.1   </span>│<span style=\"color: #000000; text-decoration-color: #000000\"> 3.0   </span>│<span style=\"color: #000000; text-decoration-color: #000000\"> 0.1    </span>│<span style=\"color: #000000; text-decoration-color: #000000\"> 46.9   </span>│<span style=\"color: #000000; text-decoration-color: #000000\"> 35.8   </span>│<span style=\"color: #000000; text-decoration-color: #000000\"> 44.3   </span>│<span style=\"color: #000000; text-decoration-color: #000000\"> 44.2   </span>│<span style=\"color: #000000; text-decoration-color: #000000\"> 2.8   </span>│<span style=\"color: #000000; text-decoration-color: #000000\"> 0.1    </span>│<span style=\"color: #000000; text-decoration-color: #000000\"> 49.7   </span>│<span style=\"color: #000000; text-decoration-color: #000000\"> 38.2  </span>│\n",
       "│<span style=\"color: #000000; text-decoration-color: #000000\"> 3PM    </span>│<span style=\"color: #000000; text-decoration-color: #000000\"> 91.3   </span>│<span style=\"color: #000000; text-decoration-color: #000000\"> 93.0   </span>│<span style=\"color: #000000; text-decoration-color: #000000\"> 46.3  </span>│<span style=\"color: #000000; text-decoration-color: #000000\"> 22.5   </span>│<span style=\"color: #000000; text-decoration-color: #000000\"> 180    </span>│<span style=\"color: #000000; text-decoration-color: #000000\"> 3      </span>│<span style=\"color: #000000; text-decoration-color: #000000\"> 19.5   </span>│<span style=\"color: #000000; text-decoration-color: #000000\"> 17     </span>│<span style=\"color: #000000; text-decoration-color: #000000\"> 12.2  </span>│<span style=\"color: #000000; text-decoration-color: #000000\"> 1.6    </span>│<span style=\"color: #000000; text-decoration-color: #000000\"> 49     </span>│<span style=\"color: #000000; text-decoration-color: #000000\"> 3     </span>│\n",
       "│<span style=\"color: #000000; text-decoration-color: #000000\"> 3PA    </span>│<span style=\"color: #000000; text-decoration-color: #000000\"> 277.3  </span>│<span style=\"color: #000000; text-decoration-color: #000000\"> 294.0  </span>│<span style=\"color: #000000; text-decoration-color: #000000\"> 132.0 </span>│<span style=\"color: #000000; text-decoration-color: #000000\"> 183.5  </span>│<span style=\"color: #000000; text-decoration-color: #000000\"> 518    </span>│<span style=\"color: #000000; text-decoration-color: #000000\"> 16     </span>│<span style=\"color: #000000; text-decoration-color: #000000\"> 58.8   </span>│<span style=\"color: #000000; text-decoration-color: #000000\"> 58     </span>│<span style=\"color: #000000; text-decoration-color: #000000\"> 34.8  </span>│<span style=\"color: #000000; text-decoration-color: #000000\"> 13.0   </span>│<span style=\"color: #000000; text-decoration-color: #000000\"> 131    </span>│<span style=\"color: #000000; text-decoration-color: #000000\"> 14    </span>│\n",
       "│<span style=\"color: #000000; text-decoration-color: #000000\"> 3P%    </span>│<span style=\"color: #000000; text-decoration-color: #000000\"> 31.8   </span>│<span style=\"color: #000000; text-decoration-color: #000000\"> 32.5   </span>│<span style=\"color: #000000; text-decoration-color: #000000\"> 4.4   </span>│<span style=\"color: #000000; text-decoration-color: #000000\"> 0.2    </span>│<span style=\"color: #000000; text-decoration-color: #000000\"> 38.3   </span>│<span style=\"color: #000000; text-decoration-color: #000000\"> 18.8   </span>│<span style=\"color: #000000; text-decoration-color: #000000\"> 32.5   </span>│<span style=\"color: #000000; text-decoration-color: #000000\"> 34.4   </span>│<span style=\"color: #000000; text-decoration-color: #000000\"> 5.5   </span>│<span style=\"color: #000000; text-decoration-color: #000000\"> 0.3    </span>│<span style=\"color: #000000; text-decoration-color: #000000\"> 40.3   </span>│<span style=\"color: #000000; text-decoration-color: #000000\"> 21.4  </span>│\n",
       "│<span style=\"color: #000000; text-decoration-color: #000000\"> FTM    </span>│<span style=\"color: #000000; text-decoration-color: #000000\"> 418.9  </span>│<span style=\"color: #000000; text-decoration-color: #000000\"> 464.5  </span>│<span style=\"color: #000000; text-decoration-color: #000000\"> 176.8 </span>│<span style=\"color: #000000; text-decoration-color: #000000\"> 329.1  </span>│<span style=\"color: #000000; text-decoration-color: #000000\"> 696    </span>│<span style=\"color: #000000; text-decoration-color: #000000\"> 18     </span>│<span style=\"color: #000000; text-decoration-color: #000000\"> 88     </span>│<span style=\"color: #000000; text-decoration-color: #000000\"> 86     </span>│<span style=\"color: #000000; text-decoration-color: #000000\"> 50.5  </span>│<span style=\"color: #000000; text-decoration-color: #000000\"> 27.4   </span>│<span style=\"color: #000000; text-decoration-color: #000000\"> 174    </span>│<span style=\"color: #000000; text-decoration-color: #000000\"> 26    </span>│\n",
       "│<span style=\"color: #000000; text-decoration-color: #000000\"> FTA    </span>│<span style=\"color: #000000; text-decoration-color: #000000\"> 500.6  </span>│<span style=\"color: #000000; text-decoration-color: #000000\"> 549.0  </span>│<span style=\"color: #000000; text-decoration-color: #000000\"> 207.1 </span>│<span style=\"color: #000000; text-decoration-color: #000000\"> 451.7  </span>│<span style=\"color: #000000; text-decoration-color: #000000\"> 819    </span>│<span style=\"color: #000000; text-decoration-color: #000000\"> 21     </span>│<span style=\"color: #000000; text-decoration-color: #000000\"> 107.8  </span>│<span style=\"color: #000000; text-decoration-color: #000000\"> 104    </span>│<span style=\"color: #000000; text-decoration-color: #000000\"> 60.1  </span>│<span style=\"color: #000000; text-decoration-color: #000000\"> 38.8   </span>│<span style=\"color: #000000; text-decoration-color: #000000\"> 197    </span>│<span style=\"color: #000000; text-decoration-color: #000000\"> 30    </span>│\n",
       "│<span style=\"color: #000000; text-decoration-color: #000000\"> FT%    </span>│<span style=\"color: #000000; text-decoration-color: #000000\"> 83.5   </span>│<span style=\"color: #000000; text-decoration-color: #000000\"> 83.9   </span>│<span style=\"color: #000000; text-decoration-color: #000000\"> 1.8   </span>│<span style=\"color: #000000; text-decoration-color: #000000\"> 0.0    </span>│<span style=\"color: #000000; text-decoration-color: #000000\"> 86.8   </span>│<span style=\"color: #000000; text-decoration-color: #000000\"> 79.4   </span>│<span style=\"color: #000000; text-decoration-color: #000000\"> 81.4   </span>│<span style=\"color: #000000; text-decoration-color: #000000\"> 82.0   </span>│<span style=\"color: #000000; text-decoration-color: #000000\"> 5.4   </span>│<span style=\"color: #000000; text-decoration-color: #000000\"> 0.3    </span>│<span style=\"color: #000000; text-decoration-color: #000000\"> 91.9   </span>│<span style=\"color: #000000; text-decoration-color: #000000\"> 68.9  </span>│\n",
       "│<span style=\"color: #000000; text-decoration-color: #000000\"> OREB   </span>│<span style=\"color: #000000; text-decoration-color: #000000\"> 75.0   </span>│<span style=\"color: #000000; text-decoration-color: #000000\"> 78.5   </span>│<span style=\"color: #000000; text-decoration-color: #000000\"> 28.7  </span>│<span style=\"color: #000000; text-decoration-color: #000000\"> 8.7    </span>│<span style=\"color: #000000; text-decoration-color: #000000\"> 112    </span>│<span style=\"color: #000000; text-decoration-color: #000000\"> 2      </span>│<span style=\"color: #000000; text-decoration-color: #000000\"> 15.3   </span>│<span style=\"color: #000000; text-decoration-color: #000000\"> 16     </span>│<span style=\"color: #000000; text-decoration-color: #000000\"> 9.2   </span>│<span style=\"color: #000000; text-decoration-color: #000000\"> 0.9    </span>│<span style=\"color: #000000; text-decoration-color: #000000\"> 29     </span>│<span style=\"color: #000000; text-decoration-color: #000000\"> 1     </span>│\n",
       "│<span style=\"color: #000000; text-decoration-color: #000000\"> DREB   </span>│<span style=\"color: #000000; text-decoration-color: #000000\"> 277.4  </span>│<span style=\"color: #000000; text-decoration-color: #000000\"> 302.5  </span>│<span style=\"color: #000000; text-decoration-color: #000000\"> 105.9 </span>│<span style=\"color: #000000; text-decoration-color: #000000\"> 117.9  </span>│<span style=\"color: #000000; text-decoration-color: #000000\"> 458    </span>│<span style=\"color: #000000; text-decoration-color: #000000\"> 24     </span>│<span style=\"color: #000000; text-decoration-color: #000000\"> 59.3   </span>│<span style=\"color: #000000; text-decoration-color: #000000\"> 45     </span>│<span style=\"color: #000000; text-decoration-color: #000000\"> 33.3  </span>│<span style=\"color: #000000; text-decoration-color: #000000\"> 11.9   </span>│<span style=\"color: #000000; text-decoration-color: #000000\"> 112    </span>│<span style=\"color: #000000; text-decoration-color: #000000\"> 10    </span>│\n",
       "│<span style=\"color: #000000; text-decoration-color: #000000\"> REB    </span>│<span style=\"color: #000000; text-decoration-color: #000000\"> 352.4  </span>│<span style=\"color: #000000; text-decoration-color: #000000\"> 395.5  </span>│<span style=\"color: #000000; text-decoration-color: #000000\"> 128.4 </span>│<span style=\"color: #000000; text-decoration-color: #000000\"> 173.6  </span>│<span style=\"color: #000000; text-decoration-color: #000000\"> 564    </span>│<span style=\"color: #000000; text-decoration-color: #000000\"> 26     </span>│<span style=\"color: #000000; text-decoration-color: #000000\"> 74.6   </span>│<span style=\"color: #000000; text-decoration-color: #000000\"> 61     </span>│<span style=\"color: #000000; text-decoration-color: #000000\"> 41.2  </span>│<span style=\"color: #000000; text-decoration-color: #000000\"> 18.2   </span>│<span style=\"color: #000000; text-decoration-color: #000000\"> 138    </span>│<span style=\"color: #000000; text-decoration-color: #000000\"> 11    </span>│\n",
       "│<span style=\"color: #000000; text-decoration-color: #000000\"> AST    </span>│<span style=\"color: #000000; text-decoration-color: #000000\"> 315.3  </span>│<span style=\"color: #000000; text-decoration-color: #000000\"> 349.0  </span>│<span style=\"color: #000000; text-decoration-color: #000000\"> 123.7 </span>│<span style=\"color: #000000; text-decoration-color: #000000\"> 161.1  </span>│<span style=\"color: #000000; text-decoration-color: #000000\"> 481    </span>│<span style=\"color: #000000; text-decoration-color: #000000\"> 38     </span>│<span style=\"color: #000000; text-decoration-color: #000000\"> 69.3   </span>│<span style=\"color: #000000; text-decoration-color: #000000\"> 62     </span>│<span style=\"color: #000000; text-decoration-color: #000000\"> 41.3  </span>│<span style=\"color: #000000; text-decoration-color: #000000\"> 18.2   </span>│<span style=\"color: #000000; text-decoration-color: #000000\"> 126    </span>│<span style=\"color: #000000; text-decoration-color: #000000\"> 11    </span>│\n",
       "│<span style=\"color: #000000; text-decoration-color: #000000\"> STL    </span>│<span style=\"color: #000000; text-decoration-color: #000000\"> 97.2   </span>│<span style=\"color: #000000; text-decoration-color: #000000\"> 106.0  </span>│<span style=\"color: #000000; text-decoration-color: #000000\"> 39.2  </span>│<span style=\"color: #000000; text-decoration-color: #000000\"> 16.2   </span>│<span style=\"color: #000000; text-decoration-color: #000000\"> 181    </span>│<span style=\"color: #000000; text-decoration-color: #000000\"> 7      </span>│<span style=\"color: #000000; text-decoration-color: #000000\"> 20.7   </span>│<span style=\"color: #000000; text-decoration-color: #000000\"> 16     </span>│<span style=\"color: #000000; text-decoration-color: #000000\"> 12.7  </span>│<span style=\"color: #000000; text-decoration-color: #000000\"> 1.7    </span>│<span style=\"color: #000000; text-decoration-color: #000000\"> 42     </span>│<span style=\"color: #000000; text-decoration-color: #000000\"> 3     </span>│\n",
       "│<span style=\"color: #000000; text-decoration-color: #000000\"> BLK    </span>│<span style=\"color: #000000; text-decoration-color: #000000\"> 32     </span>│<span style=\"color: #000000; text-decoration-color: #000000\"> 32.5   </span>│<span style=\"color: #000000; text-decoration-color: #000000\"> 17.4  </span>│<span style=\"color: #000000; text-decoration-color: #000000\"> 3.2    </span>│<span style=\"color: #000000; text-decoration-color: #000000\"> 67     </span>│<span style=\"color: #000000; text-decoration-color: #000000\"> 1      </span>│<span style=\"color: #000000; text-decoration-color: #000000\"> 9.6    </span>│<span style=\"color: #000000; text-decoration-color: #000000\"> 8      </span>│<span style=\"color: #000000; text-decoration-color: #000000\"> 8.5   </span>│<span style=\"color: #000000; text-decoration-color: #000000\"> 0.8    </span>│<span style=\"color: #000000; text-decoration-color: #000000\"> 32     </span>│<span style=\"color: #000000; text-decoration-color: #000000\"> 1     </span>│\n",
       "│<span style=\"color: #000000; text-decoration-color: #000000\"> TOV    </span>│<span style=\"color: #000000; text-decoration-color: #000000\"> 200.5  </span>│<span style=\"color: #000000; text-decoration-color: #000000\"> 215.0  </span>│<span style=\"color: #000000; text-decoration-color: #000000\"> 64.6  </span>│<span style=\"color: #000000; text-decoration-color: #000000\"> 43.9   </span>│<span style=\"color: #000000; text-decoration-color: #000000\"> 288    </span>│<span style=\"color: #000000; text-decoration-color: #000000\"> 34     </span>│<span style=\"color: #000000; text-decoration-color: #000000\"> 43.1   </span>│<span style=\"color: #000000; text-decoration-color: #000000\"> 42     </span>│<span style=\"color: #000000; text-decoration-color: #000000\"> 19.5  </span>│<span style=\"color: #000000; text-decoration-color: #000000\"> 4.1    </span>│<span style=\"color: #000000; text-decoration-color: #000000\"> 79     </span>│<span style=\"color: #000000; text-decoration-color: #000000\"> 11    </span>│\n",
       "│<span style=\"color: #000000; text-decoration-color: #000000\"> PF     </span>│<span style=\"color: #000000; text-decoration-color: #000000\"> 167.7  </span>│<span style=\"color: #000000; text-decoration-color: #000000\"> 178.0  </span>│<span style=\"color: #000000; text-decoration-color: #000000\"> 58.8  </span>│<span style=\"color: #000000; text-decoration-color: #000000\"> 36.4   </span>│<span style=\"color: #000000; text-decoration-color: #000000\"> 233    </span>│<span style=\"color: #000000; text-decoration-color: #000000\"> 9      </span>│<span style=\"color: #000000; text-decoration-color: #000000\"> 44     </span>│<span style=\"color: #000000; text-decoration-color: #000000\"> 35     </span>│<span style=\"color: #000000; text-decoration-color: #000000\"> 22.3  </span>│<span style=\"color: #000000; text-decoration-color: #000000\"> 5.3    </span>│<span style=\"color: #000000; text-decoration-color: #000000\"> 89     </span>│<span style=\"color: #000000; text-decoration-color: #000000\"> 10    </span>│\n",
       "└────────┴────────┴────────┴───────┴────────┴────────┴────────┴────────┴────────┴───────┴────────┴────────┴───────┘\n",
       "</pre>\n"
      ],
      "text/plain": [
       "\u001b[3m                                       Medidas de Resumo Kobe Bryant RS X PO                                       \u001b[0m\n",
       "┏━━━━━━━━┳━━━━━━━━┳━━━━━━━━┳━━━━━━━┳━━━━━━━━┳━━━━━━━━┳━━━━━━━━┳━━━━━━━━┳━━━━━━━━┳━━━━━━━┳━━━━━━━━┳━━━━━━━━┳━━━━━━━┓\n",
       "┃\u001b[1m \u001b[0m\u001b[1mVARIÁ…\u001b[0m\u001b[1m \u001b[0m┃\u001b[1m \u001b[0m\u001b[1mMÉDIA…\u001b[0m\u001b[1m \u001b[0m┃\u001b[1m \u001b[0m\u001b[1mMEDIA…\u001b[0m\u001b[1m \u001b[0m┃\u001b[1m \u001b[0m\u001b[1mDP_RS\u001b[0m\u001b[1m \u001b[0m┃\u001b[1m \u001b[0m\u001b[1mVAR_R…\u001b[0m\u001b[1m \u001b[0m┃\u001b[1m \u001b[0m\u001b[1mMÁX_RS\u001b[0m\u001b[1m \u001b[0m┃\u001b[1m \u001b[0m\u001b[1mMÍN_RS\u001b[0m\u001b[1m \u001b[0m┃\u001b[1m \u001b[0m\u001b[1mMÉDIA…\u001b[0m\u001b[1m \u001b[0m┃\u001b[1m \u001b[0m\u001b[1mMEDIA…\u001b[0m\u001b[1m \u001b[0m┃\u001b[1m \u001b[0m\u001b[1mDP_PO\u001b[0m\u001b[1m \u001b[0m┃\u001b[1m \u001b[0m\u001b[1mVAR_P…\u001b[0m\u001b[1m \u001b[0m┃\u001b[1m \u001b[0m\u001b[1mMÁX_PO\u001b[0m\u001b[1m \u001b[0m┃\u001b[1m \u001b[0m\u001b[1mMÍN_…\u001b[0m\u001b[1m \u001b[0m┃\n",
       "┡━━━━━━━━╇━━━━━━━━╇━━━━━━━━╇━━━━━━━╇━━━━━━━━╇━━━━━━━━╇━━━━━━━━╇━━━━━━━━╇━━━━━━━━╇━━━━━━━╇━━━━━━━━╇━━━━━━━━╇━━━━━━━┩\n",
       "│\u001b[30m \u001b[0m\u001b[30mGP    \u001b[0m\u001b[30m \u001b[0m│\u001b[30m \u001b[0m\u001b[30m67.3  \u001b[0m\u001b[30m \u001b[0m│\u001b[30m \u001b[0m\u001b[30m72.0  \u001b[0m\u001b[30m \u001b[0m│\u001b[30m \u001b[0m\u001b[30m18.4 \u001b[0m\u001b[30m \u001b[0m│\u001b[30m \u001b[0m\u001b[30m3.6   \u001b[0m\u001b[30m \u001b[0m│\u001b[30m \u001b[0m\u001b[30m82    \u001b[0m\u001b[30m \u001b[0m│\u001b[30m \u001b[0m\u001b[30m6     \u001b[0m\u001b[30m \u001b[0m│\u001b[30m \u001b[0m\u001b[30m14.7  \u001b[0m\u001b[30m \u001b[0m│\u001b[30m \u001b[0m\u001b[30m12    \u001b[0m\u001b[30m \u001b[0m│\u001b[30m \u001b[0m\u001b[30m6.2  \u001b[0m\u001b[30m \u001b[0m│\u001b[30m \u001b[0m\u001b[30m0.4   \u001b[0m\u001b[30m \u001b[0m│\u001b[30m \u001b[0m\u001b[30m23    \u001b[0m\u001b[30m \u001b[0m│\u001b[30m \u001b[0m\u001b[30m5    \u001b[0m\u001b[30m \u001b[0m│\n",
       "│\u001b[30m \u001b[0m\u001b[30mGS    \u001b[0m\u001b[30m \u001b[0m│\u001b[30m \u001b[0m\u001b[30m59.9  \u001b[0m\u001b[30m \u001b[0m│\u001b[30m \u001b[0m\u001b[30m67.0  \u001b[0m\u001b[30m \u001b[0m│\u001b[30m \u001b[0m\u001b[30m26.2 \u001b[0m\u001b[30m \u001b[0m│\u001b[30m \u001b[0m\u001b[30m7.2   \u001b[0m\u001b[30m \u001b[0m│\u001b[30m \u001b[0m\u001b[30m82    \u001b[0m\u001b[30m \u001b[0m│\u001b[30m \u001b[0m\u001b[30m1     \u001b[0m\u001b[30m \u001b[0m│\u001b[30m \u001b[0m\u001b[30m13.3  \u001b[0m\u001b[30m \u001b[0m│\u001b[30m \u001b[0m\u001b[30m12    \u001b[0m\u001b[30m \u001b[0m│\u001b[30m \u001b[0m\u001b[30m7.9  \u001b[0m\u001b[30m \u001b[0m│\u001b[30m \u001b[0m\u001b[30m0.7   \u001b[0m\u001b[30m \u001b[0m│\u001b[30m \u001b[0m\u001b[30m23    \u001b[0m\u001b[30m \u001b[0m│\u001b[30m \u001b[0m\u001b[30m0    \u001b[0m\u001b[30m \u001b[0m│\n",
       "│\u001b[30m \u001b[0m\u001b[30mMIN   \u001b[0m\u001b[30m \u001b[0m│\u001b[30m \u001b[0m\u001b[30m2432.7\u001b[0m\u001b[30m \u001b[0m│\u001b[30m \u001b[0m\u001b[30m2734.0\u001b[0m\u001b[30m \u001b[0m│\u001b[30m \u001b[0m\u001b[30m818.2\u001b[0m\u001b[30m \u001b[0m│\u001b[30m \u001b[0m\u001b[30m7046.5\u001b[0m\u001b[30m \u001b[0m│\u001b[30m \u001b[0m\u001b[30m3404  \u001b[0m\u001b[30m \u001b[0m│\u001b[30m \u001b[0m\u001b[30m177   \u001b[0m\u001b[30m \u001b[0m│\u001b[30m \u001b[0m\u001b[30m576   \u001b[0m\u001b[30m \u001b[0m│\u001b[30m \u001b[0m\u001b[30m531   \u001b[0m\u001b[30m \u001b[0m│\u001b[30m \u001b[0m\u001b[30m294.7\u001b[0m\u001b[30m \u001b[0m│\u001b[30m \u001b[0m\u001b[30m930.5 \u001b[0m\u001b[30m \u001b[0m│\u001b[30m \u001b[0m\u001b[30m973   \u001b[0m\u001b[30m \u001b[0m│\u001b[30m \u001b[0m\u001b[30m133  \u001b[0m\u001b[30m \u001b[0m│\n",
       "│\u001b[30m \u001b[0m\u001b[30mPTS   \u001b[0m\u001b[30m \u001b[0m│\u001b[30m \u001b[0m\u001b[30m1682.2\u001b[0m\u001b[30m \u001b[0m│\u001b[30m \u001b[0m\u001b[30m1878.5\u001b[0m\u001b[30m \u001b[0m│\u001b[30m \u001b[0m\u001b[30m689.1\u001b[0m\u001b[30m \u001b[0m│\u001b[30m \u001b[0m\u001b[30m4998.8\u001b[0m\u001b[30m \u001b[0m│\u001b[30m \u001b[0m\u001b[30m2832  \u001b[0m\u001b[30m \u001b[0m│\u001b[30m \u001b[0m\u001b[30m83    \u001b[0m\u001b[30m \u001b[0m│\u001b[30m \u001b[0m\u001b[30m376   \u001b[0m\u001b[30m \u001b[0m│\u001b[30m \u001b[0m\u001b[30m385   \u001b[0m\u001b[30m \u001b[0m│\u001b[30m \u001b[0m\u001b[30m205.3\u001b[0m\u001b[30m \u001b[0m│\u001b[30m \u001b[0m\u001b[30m451.7 \u001b[0m\u001b[30m \u001b[0m│\u001b[30m \u001b[0m\u001b[30m695   \u001b[0m\u001b[30m \u001b[0m│\u001b[30m \u001b[0m\u001b[30m74   \u001b[0m\u001b[30m \u001b[0m│\n",
       "│\u001b[30m \u001b[0m\u001b[30mFGM   \u001b[0m\u001b[30m \u001b[0m│\u001b[30m \u001b[0m\u001b[30m586.0 \u001b[0m\u001b[30m \u001b[0m│\u001b[30m \u001b[0m\u001b[30m637.5 \u001b[0m\u001b[30m \u001b[0m│\u001b[30m \u001b[0m\u001b[30m242.7\u001b[0m\u001b[30m \u001b[0m│\u001b[30m \u001b[0m\u001b[30m620.0 \u001b[0m\u001b[30m \u001b[0m│\u001b[30m \u001b[0m\u001b[30m978   \u001b[0m\u001b[30m \u001b[0m│\u001b[30m \u001b[0m\u001b[30m31    \u001b[0m\u001b[30m \u001b[0m│\u001b[30m \u001b[0m\u001b[30m134.3 \u001b[0m\u001b[30m \u001b[0m│\u001b[30m \u001b[0m\u001b[30m137   \u001b[0m\u001b[30m \u001b[0m│\u001b[30m \u001b[0m\u001b[30m72.5 \u001b[0m\u001b[30m \u001b[0m│\u001b[30m \u001b[0m\u001b[30m56.2  \u001b[0m\u001b[30m \u001b[0m│\u001b[30m \u001b[0m\u001b[30m242   \u001b[0m\u001b[30m \u001b[0m│\u001b[30m \u001b[0m\u001b[30m21   \u001b[0m\u001b[30m \u001b[0m│\n",
       "│\u001b[30m \u001b[0m\u001b[30mFGA   \u001b[0m\u001b[30m \u001b[0m│\u001b[30m \u001b[0m\u001b[30m1310  \u001b[0m\u001b[30m \u001b[0m│\u001b[30m \u001b[0m\u001b[30m1423.0\u001b[0m\u001b[30m \u001b[0m│\u001b[30m \u001b[0m\u001b[30m509.6\u001b[0m\u001b[30m \u001b[0m│\u001b[30m \u001b[0m\u001b[30m2733.9\u001b[0m\u001b[30m \u001b[0m│\u001b[30m \u001b[0m\u001b[30m2173  \u001b[0m\u001b[30m \u001b[0m│\u001b[30m \u001b[0m\u001b[30m73    \u001b[0m\u001b[30m \u001b[0m│\u001b[30m \u001b[0m\u001b[30m299.9 \u001b[0m\u001b[30m \u001b[0m│\u001b[30m \u001b[0m\u001b[30m317   \u001b[0m\u001b[30m \u001b[0m│\u001b[30m \u001b[0m\u001b[30m159.2\u001b[0m\u001b[30m \u001b[0m│\u001b[30m \u001b[0m\u001b[30m271.7 \u001b[0m\u001b[30m \u001b[0m│\u001b[30m \u001b[0m\u001b[30m530   \u001b[0m\u001b[30m \u001b[0m│\u001b[30m \u001b[0m\u001b[30m55   \u001b[0m\u001b[30m \u001b[0m│\n",
       "│\u001b[30m \u001b[0m\u001b[30mFG%   \u001b[0m\u001b[30m \u001b[0m│\u001b[30m \u001b[0m\u001b[30m44.1  \u001b[0m\u001b[30m \u001b[0m│\u001b[30m \u001b[0m\u001b[30m45.1  \u001b[0m\u001b[30m \u001b[0m│\u001b[30m \u001b[0m\u001b[30m3.0  \u001b[0m\u001b[30m \u001b[0m│\u001b[30m \u001b[0m\u001b[30m0.1   \u001b[0m\u001b[30m \u001b[0m│\u001b[30m \u001b[0m\u001b[30m46.9  \u001b[0m\u001b[30m \u001b[0m│\u001b[30m \u001b[0m\u001b[30m35.8  \u001b[0m\u001b[30m \u001b[0m│\u001b[30m \u001b[0m\u001b[30m44.3  \u001b[0m\u001b[30m \u001b[0m│\u001b[30m \u001b[0m\u001b[30m44.2  \u001b[0m\u001b[30m \u001b[0m│\u001b[30m \u001b[0m\u001b[30m2.8  \u001b[0m\u001b[30m \u001b[0m│\u001b[30m \u001b[0m\u001b[30m0.1   \u001b[0m\u001b[30m \u001b[0m│\u001b[30m \u001b[0m\u001b[30m49.7  \u001b[0m\u001b[30m \u001b[0m│\u001b[30m \u001b[0m\u001b[30m38.2 \u001b[0m\u001b[30m \u001b[0m│\n",
       "│\u001b[30m \u001b[0m\u001b[30m3PM   \u001b[0m\u001b[30m \u001b[0m│\u001b[30m \u001b[0m\u001b[30m91.3  \u001b[0m\u001b[30m \u001b[0m│\u001b[30m \u001b[0m\u001b[30m93.0  \u001b[0m\u001b[30m \u001b[0m│\u001b[30m \u001b[0m\u001b[30m46.3 \u001b[0m\u001b[30m \u001b[0m│\u001b[30m \u001b[0m\u001b[30m22.5  \u001b[0m\u001b[30m \u001b[0m│\u001b[30m \u001b[0m\u001b[30m180   \u001b[0m\u001b[30m \u001b[0m│\u001b[30m \u001b[0m\u001b[30m3     \u001b[0m\u001b[30m \u001b[0m│\u001b[30m \u001b[0m\u001b[30m19.5  \u001b[0m\u001b[30m \u001b[0m│\u001b[30m \u001b[0m\u001b[30m17    \u001b[0m\u001b[30m \u001b[0m│\u001b[30m \u001b[0m\u001b[30m12.2 \u001b[0m\u001b[30m \u001b[0m│\u001b[30m \u001b[0m\u001b[30m1.6   \u001b[0m\u001b[30m \u001b[0m│\u001b[30m \u001b[0m\u001b[30m49    \u001b[0m\u001b[30m \u001b[0m│\u001b[30m \u001b[0m\u001b[30m3    \u001b[0m\u001b[30m \u001b[0m│\n",
       "│\u001b[30m \u001b[0m\u001b[30m3PA   \u001b[0m\u001b[30m \u001b[0m│\u001b[30m \u001b[0m\u001b[30m277.3 \u001b[0m\u001b[30m \u001b[0m│\u001b[30m \u001b[0m\u001b[30m294.0 \u001b[0m\u001b[30m \u001b[0m│\u001b[30m \u001b[0m\u001b[30m132.0\u001b[0m\u001b[30m \u001b[0m│\u001b[30m \u001b[0m\u001b[30m183.5 \u001b[0m\u001b[30m \u001b[0m│\u001b[30m \u001b[0m\u001b[30m518   \u001b[0m\u001b[30m \u001b[0m│\u001b[30m \u001b[0m\u001b[30m16    \u001b[0m\u001b[30m \u001b[0m│\u001b[30m \u001b[0m\u001b[30m58.8  \u001b[0m\u001b[30m \u001b[0m│\u001b[30m \u001b[0m\u001b[30m58    \u001b[0m\u001b[30m \u001b[0m│\u001b[30m \u001b[0m\u001b[30m34.8 \u001b[0m\u001b[30m \u001b[0m│\u001b[30m \u001b[0m\u001b[30m13.0  \u001b[0m\u001b[30m \u001b[0m│\u001b[30m \u001b[0m\u001b[30m131   \u001b[0m\u001b[30m \u001b[0m│\u001b[30m \u001b[0m\u001b[30m14   \u001b[0m\u001b[30m \u001b[0m│\n",
       "│\u001b[30m \u001b[0m\u001b[30m3P%   \u001b[0m\u001b[30m \u001b[0m│\u001b[30m \u001b[0m\u001b[30m31.8  \u001b[0m\u001b[30m \u001b[0m│\u001b[30m \u001b[0m\u001b[30m32.5  \u001b[0m\u001b[30m \u001b[0m│\u001b[30m \u001b[0m\u001b[30m4.4  \u001b[0m\u001b[30m \u001b[0m│\u001b[30m \u001b[0m\u001b[30m0.2   \u001b[0m\u001b[30m \u001b[0m│\u001b[30m \u001b[0m\u001b[30m38.3  \u001b[0m\u001b[30m \u001b[0m│\u001b[30m \u001b[0m\u001b[30m18.8  \u001b[0m\u001b[30m \u001b[0m│\u001b[30m \u001b[0m\u001b[30m32.5  \u001b[0m\u001b[30m \u001b[0m│\u001b[30m \u001b[0m\u001b[30m34.4  \u001b[0m\u001b[30m \u001b[0m│\u001b[30m \u001b[0m\u001b[30m5.5  \u001b[0m\u001b[30m \u001b[0m│\u001b[30m \u001b[0m\u001b[30m0.3   \u001b[0m\u001b[30m \u001b[0m│\u001b[30m \u001b[0m\u001b[30m40.3  \u001b[0m\u001b[30m \u001b[0m│\u001b[30m \u001b[0m\u001b[30m21.4 \u001b[0m\u001b[30m \u001b[0m│\n",
       "│\u001b[30m \u001b[0m\u001b[30mFTM   \u001b[0m\u001b[30m \u001b[0m│\u001b[30m \u001b[0m\u001b[30m418.9 \u001b[0m\u001b[30m \u001b[0m│\u001b[30m \u001b[0m\u001b[30m464.5 \u001b[0m\u001b[30m \u001b[0m│\u001b[30m \u001b[0m\u001b[30m176.8\u001b[0m\u001b[30m \u001b[0m│\u001b[30m \u001b[0m\u001b[30m329.1 \u001b[0m\u001b[30m \u001b[0m│\u001b[30m \u001b[0m\u001b[30m696   \u001b[0m\u001b[30m \u001b[0m│\u001b[30m \u001b[0m\u001b[30m18    \u001b[0m\u001b[30m \u001b[0m│\u001b[30m \u001b[0m\u001b[30m88    \u001b[0m\u001b[30m \u001b[0m│\u001b[30m \u001b[0m\u001b[30m86    \u001b[0m\u001b[30m \u001b[0m│\u001b[30m \u001b[0m\u001b[30m50.5 \u001b[0m\u001b[30m \u001b[0m│\u001b[30m \u001b[0m\u001b[30m27.4  \u001b[0m\u001b[30m \u001b[0m│\u001b[30m \u001b[0m\u001b[30m174   \u001b[0m\u001b[30m \u001b[0m│\u001b[30m \u001b[0m\u001b[30m26   \u001b[0m\u001b[30m \u001b[0m│\n",
       "│\u001b[30m \u001b[0m\u001b[30mFTA   \u001b[0m\u001b[30m \u001b[0m│\u001b[30m \u001b[0m\u001b[30m500.6 \u001b[0m\u001b[30m \u001b[0m│\u001b[30m \u001b[0m\u001b[30m549.0 \u001b[0m\u001b[30m \u001b[0m│\u001b[30m \u001b[0m\u001b[30m207.1\u001b[0m\u001b[30m \u001b[0m│\u001b[30m \u001b[0m\u001b[30m451.7 \u001b[0m\u001b[30m \u001b[0m│\u001b[30m \u001b[0m\u001b[30m819   \u001b[0m\u001b[30m \u001b[0m│\u001b[30m \u001b[0m\u001b[30m21    \u001b[0m\u001b[30m \u001b[0m│\u001b[30m \u001b[0m\u001b[30m107.8 \u001b[0m\u001b[30m \u001b[0m│\u001b[30m \u001b[0m\u001b[30m104   \u001b[0m\u001b[30m \u001b[0m│\u001b[30m \u001b[0m\u001b[30m60.1 \u001b[0m\u001b[30m \u001b[0m│\u001b[30m \u001b[0m\u001b[30m38.8  \u001b[0m\u001b[30m \u001b[0m│\u001b[30m \u001b[0m\u001b[30m197   \u001b[0m\u001b[30m \u001b[0m│\u001b[30m \u001b[0m\u001b[30m30   \u001b[0m\u001b[30m \u001b[0m│\n",
       "│\u001b[30m \u001b[0m\u001b[30mFT%   \u001b[0m\u001b[30m \u001b[0m│\u001b[30m \u001b[0m\u001b[30m83.5  \u001b[0m\u001b[30m \u001b[0m│\u001b[30m \u001b[0m\u001b[30m83.9  \u001b[0m\u001b[30m \u001b[0m│\u001b[30m \u001b[0m\u001b[30m1.8  \u001b[0m\u001b[30m \u001b[0m│\u001b[30m \u001b[0m\u001b[30m0.0   \u001b[0m\u001b[30m \u001b[0m│\u001b[30m \u001b[0m\u001b[30m86.8  \u001b[0m\u001b[30m \u001b[0m│\u001b[30m \u001b[0m\u001b[30m79.4  \u001b[0m\u001b[30m \u001b[0m│\u001b[30m \u001b[0m\u001b[30m81.4  \u001b[0m\u001b[30m \u001b[0m│\u001b[30m \u001b[0m\u001b[30m82.0  \u001b[0m\u001b[30m \u001b[0m│\u001b[30m \u001b[0m\u001b[30m5.4  \u001b[0m\u001b[30m \u001b[0m│\u001b[30m \u001b[0m\u001b[30m0.3   \u001b[0m\u001b[30m \u001b[0m│\u001b[30m \u001b[0m\u001b[30m91.9  \u001b[0m\u001b[30m \u001b[0m│\u001b[30m \u001b[0m\u001b[30m68.9 \u001b[0m\u001b[30m \u001b[0m│\n",
       "│\u001b[30m \u001b[0m\u001b[30mOREB  \u001b[0m\u001b[30m \u001b[0m│\u001b[30m \u001b[0m\u001b[30m75.0  \u001b[0m\u001b[30m \u001b[0m│\u001b[30m \u001b[0m\u001b[30m78.5  \u001b[0m\u001b[30m \u001b[0m│\u001b[30m \u001b[0m\u001b[30m28.7 \u001b[0m\u001b[30m \u001b[0m│\u001b[30m \u001b[0m\u001b[30m8.7   \u001b[0m\u001b[30m \u001b[0m│\u001b[30m \u001b[0m\u001b[30m112   \u001b[0m\u001b[30m \u001b[0m│\u001b[30m \u001b[0m\u001b[30m2     \u001b[0m\u001b[30m \u001b[0m│\u001b[30m \u001b[0m\u001b[30m15.3  \u001b[0m\u001b[30m \u001b[0m│\u001b[30m \u001b[0m\u001b[30m16    \u001b[0m\u001b[30m \u001b[0m│\u001b[30m \u001b[0m\u001b[30m9.2  \u001b[0m\u001b[30m \u001b[0m│\u001b[30m \u001b[0m\u001b[30m0.9   \u001b[0m\u001b[30m \u001b[0m│\u001b[30m \u001b[0m\u001b[30m29    \u001b[0m\u001b[30m \u001b[0m│\u001b[30m \u001b[0m\u001b[30m1    \u001b[0m\u001b[30m \u001b[0m│\n",
       "│\u001b[30m \u001b[0m\u001b[30mDREB  \u001b[0m\u001b[30m \u001b[0m│\u001b[30m \u001b[0m\u001b[30m277.4 \u001b[0m\u001b[30m \u001b[0m│\u001b[30m \u001b[0m\u001b[30m302.5 \u001b[0m\u001b[30m \u001b[0m│\u001b[30m \u001b[0m\u001b[30m105.9\u001b[0m\u001b[30m \u001b[0m│\u001b[30m \u001b[0m\u001b[30m117.9 \u001b[0m\u001b[30m \u001b[0m│\u001b[30m \u001b[0m\u001b[30m458   \u001b[0m\u001b[30m \u001b[0m│\u001b[30m \u001b[0m\u001b[30m24    \u001b[0m\u001b[30m \u001b[0m│\u001b[30m \u001b[0m\u001b[30m59.3  \u001b[0m\u001b[30m \u001b[0m│\u001b[30m \u001b[0m\u001b[30m45    \u001b[0m\u001b[30m \u001b[0m│\u001b[30m \u001b[0m\u001b[30m33.3 \u001b[0m\u001b[30m \u001b[0m│\u001b[30m \u001b[0m\u001b[30m11.9  \u001b[0m\u001b[30m \u001b[0m│\u001b[30m \u001b[0m\u001b[30m112   \u001b[0m\u001b[30m \u001b[0m│\u001b[30m \u001b[0m\u001b[30m10   \u001b[0m\u001b[30m \u001b[0m│\n",
       "│\u001b[30m \u001b[0m\u001b[30mREB   \u001b[0m\u001b[30m \u001b[0m│\u001b[30m \u001b[0m\u001b[30m352.4 \u001b[0m\u001b[30m \u001b[0m│\u001b[30m \u001b[0m\u001b[30m395.5 \u001b[0m\u001b[30m \u001b[0m│\u001b[30m \u001b[0m\u001b[30m128.4\u001b[0m\u001b[30m \u001b[0m│\u001b[30m \u001b[0m\u001b[30m173.6 \u001b[0m\u001b[30m \u001b[0m│\u001b[30m \u001b[0m\u001b[30m564   \u001b[0m\u001b[30m \u001b[0m│\u001b[30m \u001b[0m\u001b[30m26    \u001b[0m\u001b[30m \u001b[0m│\u001b[30m \u001b[0m\u001b[30m74.6  \u001b[0m\u001b[30m \u001b[0m│\u001b[30m \u001b[0m\u001b[30m61    \u001b[0m\u001b[30m \u001b[0m│\u001b[30m \u001b[0m\u001b[30m41.2 \u001b[0m\u001b[30m \u001b[0m│\u001b[30m \u001b[0m\u001b[30m18.2  \u001b[0m\u001b[30m \u001b[0m│\u001b[30m \u001b[0m\u001b[30m138   \u001b[0m\u001b[30m \u001b[0m│\u001b[30m \u001b[0m\u001b[30m11   \u001b[0m\u001b[30m \u001b[0m│\n",
       "│\u001b[30m \u001b[0m\u001b[30mAST   \u001b[0m\u001b[30m \u001b[0m│\u001b[30m \u001b[0m\u001b[30m315.3 \u001b[0m\u001b[30m \u001b[0m│\u001b[30m \u001b[0m\u001b[30m349.0 \u001b[0m\u001b[30m \u001b[0m│\u001b[30m \u001b[0m\u001b[30m123.7\u001b[0m\u001b[30m \u001b[0m│\u001b[30m \u001b[0m\u001b[30m161.1 \u001b[0m\u001b[30m \u001b[0m│\u001b[30m \u001b[0m\u001b[30m481   \u001b[0m\u001b[30m \u001b[0m│\u001b[30m \u001b[0m\u001b[30m38    \u001b[0m\u001b[30m \u001b[0m│\u001b[30m \u001b[0m\u001b[30m69.3  \u001b[0m\u001b[30m \u001b[0m│\u001b[30m \u001b[0m\u001b[30m62    \u001b[0m\u001b[30m \u001b[0m│\u001b[30m \u001b[0m\u001b[30m41.3 \u001b[0m\u001b[30m \u001b[0m│\u001b[30m \u001b[0m\u001b[30m18.2  \u001b[0m\u001b[30m \u001b[0m│\u001b[30m \u001b[0m\u001b[30m126   \u001b[0m\u001b[30m \u001b[0m│\u001b[30m \u001b[0m\u001b[30m11   \u001b[0m\u001b[30m \u001b[0m│\n",
       "│\u001b[30m \u001b[0m\u001b[30mSTL   \u001b[0m\u001b[30m \u001b[0m│\u001b[30m \u001b[0m\u001b[30m97.2  \u001b[0m\u001b[30m \u001b[0m│\u001b[30m \u001b[0m\u001b[30m106.0 \u001b[0m\u001b[30m \u001b[0m│\u001b[30m \u001b[0m\u001b[30m39.2 \u001b[0m\u001b[30m \u001b[0m│\u001b[30m \u001b[0m\u001b[30m16.2  \u001b[0m\u001b[30m \u001b[0m│\u001b[30m \u001b[0m\u001b[30m181   \u001b[0m\u001b[30m \u001b[0m│\u001b[30m \u001b[0m\u001b[30m7     \u001b[0m\u001b[30m \u001b[0m│\u001b[30m \u001b[0m\u001b[30m20.7  \u001b[0m\u001b[30m \u001b[0m│\u001b[30m \u001b[0m\u001b[30m16    \u001b[0m\u001b[30m \u001b[0m│\u001b[30m \u001b[0m\u001b[30m12.7 \u001b[0m\u001b[30m \u001b[0m│\u001b[30m \u001b[0m\u001b[30m1.7   \u001b[0m\u001b[30m \u001b[0m│\u001b[30m \u001b[0m\u001b[30m42    \u001b[0m\u001b[30m \u001b[0m│\u001b[30m \u001b[0m\u001b[30m3    \u001b[0m\u001b[30m \u001b[0m│\n",
       "│\u001b[30m \u001b[0m\u001b[30mBLK   \u001b[0m\u001b[30m \u001b[0m│\u001b[30m \u001b[0m\u001b[30m32    \u001b[0m\u001b[30m \u001b[0m│\u001b[30m \u001b[0m\u001b[30m32.5  \u001b[0m\u001b[30m \u001b[0m│\u001b[30m \u001b[0m\u001b[30m17.4 \u001b[0m\u001b[30m \u001b[0m│\u001b[30m \u001b[0m\u001b[30m3.2   \u001b[0m\u001b[30m \u001b[0m│\u001b[30m \u001b[0m\u001b[30m67    \u001b[0m\u001b[30m \u001b[0m│\u001b[30m \u001b[0m\u001b[30m1     \u001b[0m\u001b[30m \u001b[0m│\u001b[30m \u001b[0m\u001b[30m9.6   \u001b[0m\u001b[30m \u001b[0m│\u001b[30m \u001b[0m\u001b[30m8     \u001b[0m\u001b[30m \u001b[0m│\u001b[30m \u001b[0m\u001b[30m8.5  \u001b[0m\u001b[30m \u001b[0m│\u001b[30m \u001b[0m\u001b[30m0.8   \u001b[0m\u001b[30m \u001b[0m│\u001b[30m \u001b[0m\u001b[30m32    \u001b[0m\u001b[30m \u001b[0m│\u001b[30m \u001b[0m\u001b[30m1    \u001b[0m\u001b[30m \u001b[0m│\n",
       "│\u001b[30m \u001b[0m\u001b[30mTOV   \u001b[0m\u001b[30m \u001b[0m│\u001b[30m \u001b[0m\u001b[30m200.5 \u001b[0m\u001b[30m \u001b[0m│\u001b[30m \u001b[0m\u001b[30m215.0 \u001b[0m\u001b[30m \u001b[0m│\u001b[30m \u001b[0m\u001b[30m64.6 \u001b[0m\u001b[30m \u001b[0m│\u001b[30m \u001b[0m\u001b[30m43.9  \u001b[0m\u001b[30m \u001b[0m│\u001b[30m \u001b[0m\u001b[30m288   \u001b[0m\u001b[30m \u001b[0m│\u001b[30m \u001b[0m\u001b[30m34    \u001b[0m\u001b[30m \u001b[0m│\u001b[30m \u001b[0m\u001b[30m43.1  \u001b[0m\u001b[30m \u001b[0m│\u001b[30m \u001b[0m\u001b[30m42    \u001b[0m\u001b[30m \u001b[0m│\u001b[30m \u001b[0m\u001b[30m19.5 \u001b[0m\u001b[30m \u001b[0m│\u001b[30m \u001b[0m\u001b[30m4.1   \u001b[0m\u001b[30m \u001b[0m│\u001b[30m \u001b[0m\u001b[30m79    \u001b[0m\u001b[30m \u001b[0m│\u001b[30m \u001b[0m\u001b[30m11   \u001b[0m\u001b[30m \u001b[0m│\n",
       "│\u001b[30m \u001b[0m\u001b[30mPF    \u001b[0m\u001b[30m \u001b[0m│\u001b[30m \u001b[0m\u001b[30m167.7 \u001b[0m\u001b[30m \u001b[0m│\u001b[30m \u001b[0m\u001b[30m178.0 \u001b[0m\u001b[30m \u001b[0m│\u001b[30m \u001b[0m\u001b[30m58.8 \u001b[0m\u001b[30m \u001b[0m│\u001b[30m \u001b[0m\u001b[30m36.4  \u001b[0m\u001b[30m \u001b[0m│\u001b[30m \u001b[0m\u001b[30m233   \u001b[0m\u001b[30m \u001b[0m│\u001b[30m \u001b[0m\u001b[30m9     \u001b[0m\u001b[30m \u001b[0m│\u001b[30m \u001b[0m\u001b[30m44    \u001b[0m\u001b[30m \u001b[0m│\u001b[30m \u001b[0m\u001b[30m35    \u001b[0m\u001b[30m \u001b[0m│\u001b[30m \u001b[0m\u001b[30m22.3 \u001b[0m\u001b[30m \u001b[0m│\u001b[30m \u001b[0m\u001b[30m5.3   \u001b[0m\u001b[30m \u001b[0m│\u001b[30m \u001b[0m\u001b[30m89    \u001b[0m\u001b[30m \u001b[0m│\u001b[30m \u001b[0m\u001b[30m10   \u001b[0m\u001b[30m \u001b[0m│\n",
       "└────────┴────────┴────────┴───────┴────────┴────────┴────────┴────────┴────────┴───────┴────────┴────────┴───────┘\n"
      ]
     },
     "metadata": {},
     "output_type": "display_data"
    }
   ],
   "source": [
    "funcoes_estatistica.medidas_de_resumo(kobe_df_rs, kobe_df_po,lista_variaveis_quant, \"Medidas de Resumo Kobe Bryant RS X PO\")"
   ]
  },
  {
   "cell_type": "code",
   "execution_count": 11,
   "id": "9621f6aa-1742-4e96-aae8-ddcc4e7f5e7c",
   "metadata": {},
   "outputs": [
    {
     "data": {
      "text/html": [
       "<pre style=\"white-space:pre;overflow-x:auto;line-height:normal;font-family:Menlo,'DejaVu Sans Mono',consolas,'Courier New',monospace\"><span style=\"font-style: italic\">                                      Medidas de Resumo LeBron James RS X PO                                       </span>\n",
       "┏━━━━━━━━┳━━━━━━━━┳━━━━━━━━┳━━━━━━━┳━━━━━━━━┳━━━━━━━━┳━━━━━━━━┳━━━━━━━━┳━━━━━━━━┳━━━━━━━┳━━━━━━━━┳━━━━━━━━┳━━━━━━━┓\n",
       "┃<span style=\"font-weight: bold\"> VARIÁ… </span>┃<span style=\"font-weight: bold\"> MÉDIA… </span>┃<span style=\"font-weight: bold\"> MEDIA… </span>┃<span style=\"font-weight: bold\"> DP_RS </span>┃<span style=\"font-weight: bold\"> VAR_R… </span>┃<span style=\"font-weight: bold\"> MÁX_RS </span>┃<span style=\"font-weight: bold\"> MÍN_RS </span>┃<span style=\"font-weight: bold\"> MÉDIA… </span>┃<span style=\"font-weight: bold\"> MEDIA… </span>┃<span style=\"font-weight: bold\"> DP_PO </span>┃<span style=\"font-weight: bold\"> VAR_P… </span>┃<span style=\"font-weight: bold\"> MÁX_PO </span>┃<span style=\"font-weight: bold\"> MÍN_… </span>┃\n",
       "┡━━━━━━━━╇━━━━━━━━╇━━━━━━━━╇━━━━━━━╇━━━━━━━━╇━━━━━━━━╇━━━━━━━━╇━━━━━━━━╇━━━━━━━━╇━━━━━━━╇━━━━━━━━╇━━━━━━━━╇━━━━━━━┩\n",
       "│<span style=\"color: #000000; text-decoration-color: #000000\"> GP     </span>│<span style=\"color: #000000; text-decoration-color: #000000\"> 71.0   </span>│<span style=\"color: #000000; text-decoration-color: #000000\"> 76.0   </span>│<span style=\"color: #000000; text-decoration-color: #000000\"> 10.5  </span>│<span style=\"color: #000000; text-decoration-color: #000000\"> 1.2    </span>│<span style=\"color: #000000; text-decoration-color: #000000\"> 82     </span>│<span style=\"color: #000000; text-decoration-color: #000000\"> 45     </span>│<span style=\"color: #000000; text-decoration-color: #000000\"> 17.6   </span>│<span style=\"color: #000000; text-decoration-color: #000000\"> 20.0   </span>│<span style=\"color: #000000; text-decoration-color: #000000\"> 4.8   </span>│<span style=\"color: #000000; text-decoration-color: #000000\"> 0.2    </span>│<span style=\"color: #000000; text-decoration-color: #000000\"> 23     </span>│<span style=\"color: #000000; text-decoration-color: #000000\"> 6     </span>│\n",
       "│<span style=\"color: #000000; text-decoration-color: #000000\"> GS     </span>│<span style=\"color: #000000; text-decoration-color: #000000\"> 71.0   </span>│<span style=\"color: #000000; text-decoration-color: #000000\"> 76.0   </span>│<span style=\"color: #000000; text-decoration-color: #000000\"> 10.5  </span>│<span style=\"color: #000000; text-decoration-color: #000000\"> 1.2    </span>│<span style=\"color: #000000; text-decoration-color: #000000\"> 82     </span>│<span style=\"color: #000000; text-decoration-color: #000000\"> 45     </span>│<span style=\"color: #000000; text-decoration-color: #000000\"> 17.6   </span>│<span style=\"color: #000000; text-decoration-color: #000000\"> 20.0   </span>│<span style=\"color: #000000; text-decoration-color: #000000\"> 4.8   </span>│<span style=\"color: #000000; text-decoration-color: #000000\"> 0.2    </span>│<span style=\"color: #000000; text-decoration-color: #000000\"> 23     </span>│<span style=\"color: #000000; text-decoration-color: #000000\"> 6     </span>│\n",
       "│<span style=\"color: #000000; text-decoration-color: #000000\"> MIN    </span>│<span style=\"color: #000000; text-decoration-color: #000000\"> 2704.6 </span>│<span style=\"color: #000000; text-decoration-color: #000000\"> 2889.5 </span>│<span style=\"color: #000000; text-decoration-color: #000000\"> 511.2 </span>│<span style=\"color: #000000; text-decoration-color: #000000\"> 2751.2 </span>│<span style=\"color: #000000; text-decoration-color: #000000\"> 3388   </span>│<span style=\"color: #000000; text-decoration-color: #000000\"> 1504   </span>│<span style=\"color: #000000; text-decoration-color: #000000\"> 728.4  </span>│<span style=\"color: #000000; text-decoration-color: #000000\"> 762.5  </span>│<span style=\"color: #000000; text-decoration-color: #000000\"> 201.9 </span>│<span style=\"color: #000000; text-decoration-color: #000000\"> 434.8  </span>│<span style=\"color: #000000; text-decoration-color: #000000\"> 983    </span>│<span style=\"color: #000000; text-decoration-color: #000000\"> 224   </span>│\n",
       "│<span style=\"color: #000000; text-decoration-color: #000000\"> PTS    </span>│<span style=\"color: #000000; text-decoration-color: #000000\"> 1932.6 </span>│<span style=\"color: #000000; text-decoration-color: #000000\"> 1995.0 </span>│<span style=\"color: #000000; text-decoration-color: #000000\"> 327.7 </span>│<span style=\"color: #000000; text-decoration-color: #000000\"> 1130.4 </span>│<span style=\"color: #000000; text-decoration-color: #000000\"> 2478   </span>│<span style=\"color: #000000; text-decoration-color: #000000\"> 1126   </span>│<span style=\"color: #000000; text-decoration-color: #000000\"> 501.4  </span>│<span style=\"color: #000000; text-decoration-color: #000000\"> 524.5  </span>│<span style=\"color: #000000; text-decoration-color: #000000\"> 146.0 </span>│<span style=\"color: #000000; text-decoration-color: #000000\"> 227.4  </span>│<span style=\"color: #000000; text-decoration-color: #000000\"> 748    </span>│<span style=\"color: #000000; text-decoration-color: #000000\"> 140   </span>│\n",
       "│<span style=\"color: #000000; text-decoration-color: #000000\"> FGM    </span>│<span style=\"color: #000000; text-decoration-color: #000000\"> 707.6  </span>│<span style=\"color: #000000; text-decoration-color: #000000\"> 747.5  </span>│<span style=\"color: #000000; text-decoration-color: #000000\"> 108.4 </span>│<span style=\"color: #000000; text-decoration-color: #000000\"> 123.8  </span>│<span style=\"color: #000000; text-decoration-color: #000000\"> 875    </span>│<span style=\"color: #000000; text-decoration-color: #000000\"> 422    </span>│<span style=\"color: #000000; text-decoration-color: #000000\"> 179.5  </span>│<span style=\"color: #000000; text-decoration-color: #000000\"> 183.0  </span>│<span style=\"color: #000000; text-decoration-color: #000000\"> 56.0  </span>│<span style=\"color: #000000; text-decoration-color: #000000\"> 33.5   </span>│<span style=\"color: #000000; text-decoration-color: #000000\"> 275    </span>│<span style=\"color: #000000; text-decoration-color: #000000\"> 54    </span>│\n",
       "│<span style=\"color: #000000; text-decoration-color: #000000\"> FGA    </span>│<span style=\"color: #000000; text-decoration-color: #000000\"> 1402.2 </span>│<span style=\"color: #000000; text-decoration-color: #000000\"> 1385.0 </span>│<span style=\"color: #000000; text-decoration-color: #000000\"> 229.4 </span>│<span style=\"color: #000000; text-decoration-color: #000000\"> 554.0  </span>│<span style=\"color: #000000; text-decoration-color: #000000\"> 1823   </span>│<span style=\"color: #000000; text-decoration-color: #000000\"> 823    </span>│<span style=\"color: #000000; text-decoration-color: #000000\"> 362.3  </span>│<span style=\"color: #000000; text-decoration-color: #000000\"> 377.5  </span>│<span style=\"color: #000000; text-decoration-color: #000000\"> 108.2 </span>│<span style=\"color: #000000; text-decoration-color: #000000\"> 124.9  </span>│<span style=\"color: #000000; text-decoration-color: #000000\"> 544    </span>│<span style=\"color: #000000; text-decoration-color: #000000\"> 114   </span>│\n",
       "│<span style=\"color: #000000; text-decoration-color: #000000\"> FG%    </span>│<span style=\"color: #000000; text-decoration-color: #000000\"> 50.7   </span>│<span style=\"color: #000000; text-decoration-color: #000000\"> 50.6   </span>│<span style=\"color: #000000; text-decoration-color: #000000\"> 3.4   </span>│<span style=\"color: #000000; text-decoration-color: #000000\"> 0.1    </span>│<span style=\"color: #000000; text-decoration-color: #000000\"> 56.7   </span>│<span style=\"color: #000000; text-decoration-color: #000000\"> 41.7   </span>│<span style=\"color: #000000; text-decoration-color: #000000\"> 49.5   </span>│<span style=\"color: #000000; text-decoration-color: #000000\"> 49.9   </span>│<span style=\"color: #000000; text-decoration-color: #000000\"> 4.9   </span>│<span style=\"color: #000000; text-decoration-color: #000000\"> 0.3    </span>│<span style=\"color: #000000; text-decoration-color: #000000\"> 56.5   </span>│<span style=\"color: #000000; text-decoration-color: #000000\"> 41.1  </span>│\n",
       "│<span style=\"color: #000000; text-decoration-color: #000000\"> 3PM    </span>│<span style=\"color: #000000; text-decoration-color: #000000\"> 113.0  </span>│<span style=\"color: #000000; text-decoration-color: #000000\"> 114.5  </span>│<span style=\"color: #000000; text-decoration-color: #000000\"> 25.9  </span>│<span style=\"color: #000000; text-decoration-color: #000000\"> 7.0    </span>│<span style=\"color: #000000; text-decoration-color: #000000\"> 161    </span>│<span style=\"color: #000000; text-decoration-color: #000000\"> 54     </span>│<span style=\"color: #000000; text-decoration-color: #000000\"> 28.8   </span>│<span style=\"color: #000000; text-decoration-color: #000000\"> 27.5   </span>│<span style=\"color: #000000; text-decoration-color: #000000\"> 8.5   </span>│<span style=\"color: #000000; text-decoration-color: #000000\"> 0.8    </span>│<span style=\"color: #000000; text-decoration-color: #000000\"> 44     </span>│<span style=\"color: #000000; text-decoration-color: #000000\"> 18    </span>│\n",
       "│<span style=\"color: #000000; text-decoration-color: #000000\"> 3PA    </span>│<span style=\"color: #000000; text-decoration-color: #000000\"> 328.1  </span>│<span style=\"color: #000000; text-decoration-color: #000000\"> 333.0  </span>│<span style=\"color: #000000; text-decoration-color: #000000\"> 70.8  </span>│<span style=\"color: #000000; text-decoration-color: #000000\"> 52.7   </span>│<span style=\"color: #000000; text-decoration-color: #000000\"> 448    </span>│<span style=\"color: #000000; text-decoration-color: #000000\"> 149    </span>│<span style=\"color: #000000; text-decoration-color: #000000\"> 86.8   </span>│<span style=\"color: #000000; text-decoration-color: #000000\"> 85.5   </span>│<span style=\"color: #000000; text-decoration-color: #000000\"> 21.1  </span>│<span style=\"color: #000000; text-decoration-color: #000000\"> 4.7    </span>│<span style=\"color: #000000; text-decoration-color: #000000\"> 119    </span>│<span style=\"color: #000000; text-decoration-color: #000000\"> 48    </span>│\n",
       "│<span style=\"color: #000000; text-decoration-color: #000000\"> 3P%    </span>│<span style=\"color: #000000; text-decoration-color: #000000\"> 34.4   </span>│<span style=\"color: #000000; text-decoration-color: #000000\"> 34.6   </span>│<span style=\"color: #000000; text-decoration-color: #000000\"> 2.6   </span>│<span style=\"color: #000000; text-decoration-color: #000000\"> 0.1    </span>│<span style=\"color: #000000; text-decoration-color: #000000\"> 40.6   </span>│<span style=\"color: #000000; text-decoration-color: #000000\"> 29.0   </span>│<span style=\"color: #000000; text-decoration-color: #000000\"> 33.3   </span>│<span style=\"color: #000000; text-decoration-color: #000000\"> 34.1   </span>│<span style=\"color: #000000; text-decoration-color: #000000\"> 5.7   </span>│<span style=\"color: #000000; text-decoration-color: #000000\"> 0.3    </span>│<span style=\"color: #000000; text-decoration-color: #000000\"> 41.1   </span>│<span style=\"color: #000000; text-decoration-color: #000000\"> 22.7  </span>│\n",
       "│<span style=\"color: #000000; text-decoration-color: #000000\"> FTM    </span>│<span style=\"color: #000000; text-decoration-color: #000000\"> 404.4  </span>│<span style=\"color: #000000; text-decoration-color: #000000\"> 387.5  </span>│<span style=\"color: #000000; text-decoration-color: #000000\"> 121.8 </span>│<span style=\"color: #000000; text-decoration-color: #000000\"> 156.0  </span>│<span style=\"color: #000000; text-decoration-color: #000000\"> 601    </span>│<span style=\"color: #000000; text-decoration-color: #000000\"> 178    </span>│<span style=\"color: #000000; text-decoration-color: #000000\"> 113.7  </span>│<span style=\"color: #000000; text-decoration-color: #000000\"> 120.5  </span>│<span style=\"color: #000000; text-decoration-color: #000000\"> 38.0  </span>│<span style=\"color: #000000; text-decoration-color: #000000\"> 15.4   </span>│<span style=\"color: #000000; text-decoration-color: #000000\"> 173    </span>│<span style=\"color: #000000; text-decoration-color: #000000\"> 14    </span>│\n",
       "│<span style=\"color: #000000; text-decoration-color: #000000\"> FTA    </span>│<span style=\"color: #000000; text-decoration-color: #000000\"> 550    </span>│<span style=\"color: #000000; text-decoration-color: #000000\"> 531.0  </span>│<span style=\"color: #000000; text-decoration-color: #000000\"> 158.3 </span>│<span style=\"color: #000000; text-decoration-color: #000000\"> 263.8  </span>│<span style=\"color: #000000; text-decoration-color: #000000\"> 814    </span>│<span style=\"color: #000000; text-decoration-color: #000000\"> 255    </span>│<span style=\"color: #000000; text-decoration-color: #000000\"> 153.5  </span>│<span style=\"color: #000000; text-decoration-color: #000000\"> 161.0  </span>│<span style=\"color: #000000; text-decoration-color: #000000\"> 49.3  </span>│<span style=\"color: #000000; text-decoration-color: #000000\"> 25.9   </span>│<span style=\"color: #000000; text-decoration-color: #000000\"> 234    </span>│<span style=\"color: #000000; text-decoration-color: #000000\"> 23    </span>│\n",
       "│<span style=\"color: #000000; text-decoration-color: #000000\"> FT%    </span>│<span style=\"color: #000000; text-decoration-color: #000000\"> 73.3   </span>│<span style=\"color: #000000; text-decoration-color: #000000\"> 74.4   </span>│<span style=\"color: #000000; text-decoration-color: #000000\"> 3.3   </span>│<span style=\"color: #000000; text-decoration-color: #000000\"> 0.1    </span>│<span style=\"color: #000000; text-decoration-color: #000000\"> 78.0   </span>│<span style=\"color: #000000; text-decoration-color: #000000\"> 66.5   </span>│<span style=\"color: #000000; text-decoration-color: #000000\"> 73.2   </span>│<span style=\"color: #000000; text-decoration-color: #000000\"> 73.8   </span>│<span style=\"color: #000000; text-decoration-color: #000000\"> 4.5   </span>│<span style=\"color: #000000; text-decoration-color: #000000\"> 0.2    </span>│<span style=\"color: #000000; text-decoration-color: #000000\"> 80.6   </span>│<span style=\"color: #000000; text-decoration-color: #000000\"> 60.9  </span>│\n",
       "│<span style=\"color: #000000; text-decoration-color: #000000\"> OREB   </span>│<span style=\"color: #000000; text-decoration-color: #000000\"> 83.3   </span>│<span style=\"color: #000000; text-decoration-color: #000000\"> 82.0   </span>│<span style=\"color: #000000; text-decoration-color: #000000\"> 23.9  </span>│<span style=\"color: #000000; text-decoration-color: #000000\"> 6.0    </span>│<span style=\"color: #000000; text-decoration-color: #000000\"> 133    </span>│<span style=\"color: #000000; text-decoration-color: #000000\"> 29     </span>│<span style=\"color: #000000; text-decoration-color: #000000\"> 26.6   </span>│<span style=\"color: #000000; text-decoration-color: #000000\"> 25.5   </span>│<span style=\"color: #000000; text-decoration-color: #000000\"> 11.8  </span>│<span style=\"color: #000000; text-decoration-color: #000000\"> 1.5    </span>│<span style=\"color: #000000; text-decoration-color: #000000\"> 54     </span>│<span style=\"color: #000000; text-decoration-color: #000000\"> 7     </span>│\n",
       "│<span style=\"color: #000000; text-decoration-color: #000000\"> DREB   </span>│<span style=\"color: #000000; text-decoration-color: #000000\"> 450.1  </span>│<span style=\"color: #000000; text-decoration-color: #000000\"> 456.5  </span>│<span style=\"color: #000000; text-decoration-color: #000000\"> 70.0  </span>│<span style=\"color: #000000; text-decoration-color: #000000\"> 51.5   </span>│<span style=\"color: #000000; text-decoration-color: #000000\"> 612    </span>│<span style=\"color: #000000; text-decoration-color: #000000\"> 317    </span>│<span style=\"color: #000000; text-decoration-color: #000000\"> 132.7  </span>│<span style=\"color: #000000; text-decoration-color: #000000\"> 138.5  </span>│<span style=\"color: #000000; text-decoration-color: #000000\"> 42.0  </span>│<span style=\"color: #000000; text-decoration-color: #000000\"> 18.8   </span>│<span style=\"color: #000000; text-decoration-color: #000000\"> 198    </span>│<span style=\"color: #000000; text-decoration-color: #000000\"> 36    </span>│\n",
       "│<span style=\"color: #000000; text-decoration-color: #000000\"> REB    </span>│<span style=\"color: #000000; text-decoration-color: #000000\"> 533.4  </span>│<span style=\"color: #000000; text-decoration-color: #000000\"> 543.5  </span>│<span style=\"color: #000000; text-decoration-color: #000000\"> 84.5  </span>│<span style=\"color: #000000; text-decoration-color: #000000\"> 75.2   </span>│<span style=\"color: #000000; text-decoration-color: #000000\"> 709    </span>│<span style=\"color: #000000; text-decoration-color: #000000\"> 346    </span>│<span style=\"color: #000000; text-decoration-color: #000000\"> 159.3  </span>│<span style=\"color: #000000; text-decoration-color: #000000\"> 162.5  </span>│<span style=\"color: #000000; text-decoration-color: #000000\"> 51.4  </span>│<span style=\"color: #000000; text-decoration-color: #000000\"> 28.1   </span>│<span style=\"color: #000000; text-decoration-color: #000000\"> 226    </span>│<span style=\"color: #000000; text-decoration-color: #000000\"> 43    </span>│\n",
       "│<span style=\"color: #000000; text-decoration-color: #000000\"> AST    </span>│<span style=\"color: #000000; text-decoration-color: #000000\"> 521    </span>│<span style=\"color: #000000; text-decoration-color: #000000\"> 517.5  </span>│<span style=\"color: #000000; text-decoration-color: #000000\"> 107.1 </span>│<span style=\"color: #000000; text-decoration-color: #000000\"> 120.8  </span>│<span style=\"color: #000000; text-decoration-color: #000000\"> 747    </span>│<span style=\"color: #000000; text-decoration-color: #000000\"> 349    </span>│<span style=\"color: #000000; text-decoration-color: #000000\"> 126.4  </span>│<span style=\"color: #000000; text-decoration-color: #000000\"> 126.0  </span>│<span style=\"color: #000000; text-decoration-color: #000000\"> 40.8  </span>│<span style=\"color: #000000; text-decoration-color: #000000\"> 17.8   </span>│<span style=\"color: #000000; text-decoration-color: #000000\"> 198    </span>│<span style=\"color: #000000; text-decoration-color: #000000\"> 48    </span>│\n",
       "│<span style=\"color: #000000; text-decoration-color: #000000\"> STL    </span>│<span style=\"color: #000000; text-decoration-color: #000000\"> 109.3  </span>│<span style=\"color: #000000; text-decoration-color: #000000\"> 118.5  </span>│<span style=\"color: #000000; text-decoration-color: #000000\"> 31.1  </span>│<span style=\"color: #000000; text-decoration-color: #000000\"> 10.2   </span>│<span style=\"color: #000000; text-decoration-color: #000000\"> 177    </span>│<span style=\"color: #000000; text-decoration-color: #000000\"> 48     </span>│<span style=\"color: #000000; text-decoration-color: #000000\"> 29.4   </span>│<span style=\"color: #000000; text-decoration-color: #000000\"> 31.5   </span>│<span style=\"color: #000000; text-decoration-color: #000000\"> 10.4  </span>│<span style=\"color: #000000; text-decoration-color: #000000\"> 1.2    </span>│<span style=\"color: #000000; text-decoration-color: #000000\"> 49     </span>│<span style=\"color: #000000; text-decoration-color: #000000\"> 9     </span>│\n",
       "│<span style=\"color: #000000; text-decoration-color: #000000\"> BLK    </span>│<span style=\"color: #000000; text-decoration-color: #000000\"> 53.6   </span>│<span style=\"color: #000000; text-decoration-color: #000000\"> 51.0   </span>│<span style=\"color: #000000; text-decoration-color: #000000\"> 18.0  </span>│<span style=\"color: #000000; text-decoration-color: #000000\"> 3.4    </span>│<span style=\"color: #000000; text-decoration-color: #000000\"> 93     </span>│<span style=\"color: #000000; text-decoration-color: #000000\"> 25     </span>│<span style=\"color: #000000; text-decoration-color: #000000\"> 16.9   </span>│<span style=\"color: #000000; text-decoration-color: #000000\"> 18.0   </span>│<span style=\"color: #000000; text-decoration-color: #000000\"> 6.4   </span>│<span style=\"color: #000000; text-decoration-color: #000000\"> 0.4    </span>│<span style=\"color: #000000; text-decoration-color: #000000\"> 27     </span>│<span style=\"color: #000000; text-decoration-color: #000000\"> 2     </span>│\n",
       "│<span style=\"color: #000000; text-decoration-color: #000000\"> TOV    </span>│<span style=\"color: #000000; text-decoration-color: #000000\"> 248.3  </span>│<span style=\"color: #000000; text-decoration-color: #000000\"> 257.5  </span>│<span style=\"color: #000000; text-decoration-color: #000000\"> 41.8  </span>│<span style=\"color: #000000; text-decoration-color: #000000\"> 18.4   </span>│<span style=\"color: #000000; text-decoration-color: #000000\"> 347    </span>│<span style=\"color: #000000; text-decoration-color: #000000\"> 168    </span>│<span style=\"color: #000000; text-decoration-color: #000000\"> 63.4   </span>│<span style=\"color: #000000; text-decoration-color: #000000\"> 66.0   </span>│<span style=\"color: #000000; text-decoration-color: #000000\"> 18.5  </span>│<span style=\"color: #000000; text-decoration-color: #000000\"> 3.7    </span>│<span style=\"color: #000000; text-decoration-color: #000000\"> 94     </span>│<span style=\"color: #000000; text-decoration-color: #000000\"> 25    </span>│\n",
       "│<span style=\"color: #000000; text-decoration-color: #000000\"> PF     </span>│<span style=\"color: #000000; text-decoration-color: #000000\"> 130.2  </span>│<span style=\"color: #000000; text-decoration-color: #000000\"> 134.5  </span>│<span style=\"color: #000000; text-decoration-color: #000000\"> 28.4  </span>│<span style=\"color: #000000; text-decoration-color: #000000\"> 8.5    </span>│<span style=\"color: #000000; text-decoration-color: #000000\"> 181    </span>│<span style=\"color: #000000; text-decoration-color: #000000\"> 70     </span>│<span style=\"color: #000000; text-decoration-color: #000000\"> 40.2   </span>│<span style=\"color: #000000; text-decoration-color: #000000\"> 43.0   </span>│<span style=\"color: #000000; text-decoration-color: #000000\"> 13.0  </span>│<span style=\"color: #000000; text-decoration-color: #000000\"> 1.8    </span>│<span style=\"color: #000000; text-decoration-color: #000000\"> 58     </span>│<span style=\"color: #000000; text-decoration-color: #000000\"> 7     </span>│\n",
       "└────────┴────────┴────────┴───────┴────────┴────────┴────────┴────────┴────────┴───────┴────────┴────────┴───────┘\n",
       "</pre>\n"
      ],
      "text/plain": [
       "\u001b[3m                                      Medidas de Resumo LeBron James RS X PO                                       \u001b[0m\n",
       "┏━━━━━━━━┳━━━━━━━━┳━━━━━━━━┳━━━━━━━┳━━━━━━━━┳━━━━━━━━┳━━━━━━━━┳━━━━━━━━┳━━━━━━━━┳━━━━━━━┳━━━━━━━━┳━━━━━━━━┳━━━━━━━┓\n",
       "┃\u001b[1m \u001b[0m\u001b[1mVARIÁ…\u001b[0m\u001b[1m \u001b[0m┃\u001b[1m \u001b[0m\u001b[1mMÉDIA…\u001b[0m\u001b[1m \u001b[0m┃\u001b[1m \u001b[0m\u001b[1mMEDIA…\u001b[0m\u001b[1m \u001b[0m┃\u001b[1m \u001b[0m\u001b[1mDP_RS\u001b[0m\u001b[1m \u001b[0m┃\u001b[1m \u001b[0m\u001b[1mVAR_R…\u001b[0m\u001b[1m \u001b[0m┃\u001b[1m \u001b[0m\u001b[1mMÁX_RS\u001b[0m\u001b[1m \u001b[0m┃\u001b[1m \u001b[0m\u001b[1mMÍN_RS\u001b[0m\u001b[1m \u001b[0m┃\u001b[1m \u001b[0m\u001b[1mMÉDIA…\u001b[0m\u001b[1m \u001b[0m┃\u001b[1m \u001b[0m\u001b[1mMEDIA…\u001b[0m\u001b[1m \u001b[0m┃\u001b[1m \u001b[0m\u001b[1mDP_PO\u001b[0m\u001b[1m \u001b[0m┃\u001b[1m \u001b[0m\u001b[1mVAR_P…\u001b[0m\u001b[1m \u001b[0m┃\u001b[1m \u001b[0m\u001b[1mMÁX_PO\u001b[0m\u001b[1m \u001b[0m┃\u001b[1m \u001b[0m\u001b[1mMÍN_…\u001b[0m\u001b[1m \u001b[0m┃\n",
       "┡━━━━━━━━╇━━━━━━━━╇━━━━━━━━╇━━━━━━━╇━━━━━━━━╇━━━━━━━━╇━━━━━━━━╇━━━━━━━━╇━━━━━━━━╇━━━━━━━╇━━━━━━━━╇━━━━━━━━╇━━━━━━━┩\n",
       "│\u001b[30m \u001b[0m\u001b[30mGP    \u001b[0m\u001b[30m \u001b[0m│\u001b[30m \u001b[0m\u001b[30m71.0  \u001b[0m\u001b[30m \u001b[0m│\u001b[30m \u001b[0m\u001b[30m76.0  \u001b[0m\u001b[30m \u001b[0m│\u001b[30m \u001b[0m\u001b[30m10.5 \u001b[0m\u001b[30m \u001b[0m│\u001b[30m \u001b[0m\u001b[30m1.2   \u001b[0m\u001b[30m \u001b[0m│\u001b[30m \u001b[0m\u001b[30m82    \u001b[0m\u001b[30m \u001b[0m│\u001b[30m \u001b[0m\u001b[30m45    \u001b[0m\u001b[30m \u001b[0m│\u001b[30m \u001b[0m\u001b[30m17.6  \u001b[0m\u001b[30m \u001b[0m│\u001b[30m \u001b[0m\u001b[30m20.0  \u001b[0m\u001b[30m \u001b[0m│\u001b[30m \u001b[0m\u001b[30m4.8  \u001b[0m\u001b[30m \u001b[0m│\u001b[30m \u001b[0m\u001b[30m0.2   \u001b[0m\u001b[30m \u001b[0m│\u001b[30m \u001b[0m\u001b[30m23    \u001b[0m\u001b[30m \u001b[0m│\u001b[30m \u001b[0m\u001b[30m6    \u001b[0m\u001b[30m \u001b[0m│\n",
       "│\u001b[30m \u001b[0m\u001b[30mGS    \u001b[0m\u001b[30m \u001b[0m│\u001b[30m \u001b[0m\u001b[30m71.0  \u001b[0m\u001b[30m \u001b[0m│\u001b[30m \u001b[0m\u001b[30m76.0  \u001b[0m\u001b[30m \u001b[0m│\u001b[30m \u001b[0m\u001b[30m10.5 \u001b[0m\u001b[30m \u001b[0m│\u001b[30m \u001b[0m\u001b[30m1.2   \u001b[0m\u001b[30m \u001b[0m│\u001b[30m \u001b[0m\u001b[30m82    \u001b[0m\u001b[30m \u001b[0m│\u001b[30m \u001b[0m\u001b[30m45    \u001b[0m\u001b[30m \u001b[0m│\u001b[30m \u001b[0m\u001b[30m17.6  \u001b[0m\u001b[30m \u001b[0m│\u001b[30m \u001b[0m\u001b[30m20.0  \u001b[0m\u001b[30m \u001b[0m│\u001b[30m \u001b[0m\u001b[30m4.8  \u001b[0m\u001b[30m \u001b[0m│\u001b[30m \u001b[0m\u001b[30m0.2   \u001b[0m\u001b[30m \u001b[0m│\u001b[30m \u001b[0m\u001b[30m23    \u001b[0m\u001b[30m \u001b[0m│\u001b[30m \u001b[0m\u001b[30m6    \u001b[0m\u001b[30m \u001b[0m│\n",
       "│\u001b[30m \u001b[0m\u001b[30mMIN   \u001b[0m\u001b[30m \u001b[0m│\u001b[30m \u001b[0m\u001b[30m2704.6\u001b[0m\u001b[30m \u001b[0m│\u001b[30m \u001b[0m\u001b[30m2889.5\u001b[0m\u001b[30m \u001b[0m│\u001b[30m \u001b[0m\u001b[30m511.2\u001b[0m\u001b[30m \u001b[0m│\u001b[30m \u001b[0m\u001b[30m2751.2\u001b[0m\u001b[30m \u001b[0m│\u001b[30m \u001b[0m\u001b[30m3388  \u001b[0m\u001b[30m \u001b[0m│\u001b[30m \u001b[0m\u001b[30m1504  \u001b[0m\u001b[30m \u001b[0m│\u001b[30m \u001b[0m\u001b[30m728.4 \u001b[0m\u001b[30m \u001b[0m│\u001b[30m \u001b[0m\u001b[30m762.5 \u001b[0m\u001b[30m \u001b[0m│\u001b[30m \u001b[0m\u001b[30m201.9\u001b[0m\u001b[30m \u001b[0m│\u001b[30m \u001b[0m\u001b[30m434.8 \u001b[0m\u001b[30m \u001b[0m│\u001b[30m \u001b[0m\u001b[30m983   \u001b[0m\u001b[30m \u001b[0m│\u001b[30m \u001b[0m\u001b[30m224  \u001b[0m\u001b[30m \u001b[0m│\n",
       "│\u001b[30m \u001b[0m\u001b[30mPTS   \u001b[0m\u001b[30m \u001b[0m│\u001b[30m \u001b[0m\u001b[30m1932.6\u001b[0m\u001b[30m \u001b[0m│\u001b[30m \u001b[0m\u001b[30m1995.0\u001b[0m\u001b[30m \u001b[0m│\u001b[30m \u001b[0m\u001b[30m327.7\u001b[0m\u001b[30m \u001b[0m│\u001b[30m \u001b[0m\u001b[30m1130.4\u001b[0m\u001b[30m \u001b[0m│\u001b[30m \u001b[0m\u001b[30m2478  \u001b[0m\u001b[30m \u001b[0m│\u001b[30m \u001b[0m\u001b[30m1126  \u001b[0m\u001b[30m \u001b[0m│\u001b[30m \u001b[0m\u001b[30m501.4 \u001b[0m\u001b[30m \u001b[0m│\u001b[30m \u001b[0m\u001b[30m524.5 \u001b[0m\u001b[30m \u001b[0m│\u001b[30m \u001b[0m\u001b[30m146.0\u001b[0m\u001b[30m \u001b[0m│\u001b[30m \u001b[0m\u001b[30m227.4 \u001b[0m\u001b[30m \u001b[0m│\u001b[30m \u001b[0m\u001b[30m748   \u001b[0m\u001b[30m \u001b[0m│\u001b[30m \u001b[0m\u001b[30m140  \u001b[0m\u001b[30m \u001b[0m│\n",
       "│\u001b[30m \u001b[0m\u001b[30mFGM   \u001b[0m\u001b[30m \u001b[0m│\u001b[30m \u001b[0m\u001b[30m707.6 \u001b[0m\u001b[30m \u001b[0m│\u001b[30m \u001b[0m\u001b[30m747.5 \u001b[0m\u001b[30m \u001b[0m│\u001b[30m \u001b[0m\u001b[30m108.4\u001b[0m\u001b[30m \u001b[0m│\u001b[30m \u001b[0m\u001b[30m123.8 \u001b[0m\u001b[30m \u001b[0m│\u001b[30m \u001b[0m\u001b[30m875   \u001b[0m\u001b[30m \u001b[0m│\u001b[30m \u001b[0m\u001b[30m422   \u001b[0m\u001b[30m \u001b[0m│\u001b[30m \u001b[0m\u001b[30m179.5 \u001b[0m\u001b[30m \u001b[0m│\u001b[30m \u001b[0m\u001b[30m183.0 \u001b[0m\u001b[30m \u001b[0m│\u001b[30m \u001b[0m\u001b[30m56.0 \u001b[0m\u001b[30m \u001b[0m│\u001b[30m \u001b[0m\u001b[30m33.5  \u001b[0m\u001b[30m \u001b[0m│\u001b[30m \u001b[0m\u001b[30m275   \u001b[0m\u001b[30m \u001b[0m│\u001b[30m \u001b[0m\u001b[30m54   \u001b[0m\u001b[30m \u001b[0m│\n",
       "│\u001b[30m \u001b[0m\u001b[30mFGA   \u001b[0m\u001b[30m \u001b[0m│\u001b[30m \u001b[0m\u001b[30m1402.2\u001b[0m\u001b[30m \u001b[0m│\u001b[30m \u001b[0m\u001b[30m1385.0\u001b[0m\u001b[30m \u001b[0m│\u001b[30m \u001b[0m\u001b[30m229.4\u001b[0m\u001b[30m \u001b[0m│\u001b[30m \u001b[0m\u001b[30m554.0 \u001b[0m\u001b[30m \u001b[0m│\u001b[30m \u001b[0m\u001b[30m1823  \u001b[0m\u001b[30m \u001b[0m│\u001b[30m \u001b[0m\u001b[30m823   \u001b[0m\u001b[30m \u001b[0m│\u001b[30m \u001b[0m\u001b[30m362.3 \u001b[0m\u001b[30m \u001b[0m│\u001b[30m \u001b[0m\u001b[30m377.5 \u001b[0m\u001b[30m \u001b[0m│\u001b[30m \u001b[0m\u001b[30m108.2\u001b[0m\u001b[30m \u001b[0m│\u001b[30m \u001b[0m\u001b[30m124.9 \u001b[0m\u001b[30m \u001b[0m│\u001b[30m \u001b[0m\u001b[30m544   \u001b[0m\u001b[30m \u001b[0m│\u001b[30m \u001b[0m\u001b[30m114  \u001b[0m\u001b[30m \u001b[0m│\n",
       "│\u001b[30m \u001b[0m\u001b[30mFG%   \u001b[0m\u001b[30m \u001b[0m│\u001b[30m \u001b[0m\u001b[30m50.7  \u001b[0m\u001b[30m \u001b[0m│\u001b[30m \u001b[0m\u001b[30m50.6  \u001b[0m\u001b[30m \u001b[0m│\u001b[30m \u001b[0m\u001b[30m3.4  \u001b[0m\u001b[30m \u001b[0m│\u001b[30m \u001b[0m\u001b[30m0.1   \u001b[0m\u001b[30m \u001b[0m│\u001b[30m \u001b[0m\u001b[30m56.7  \u001b[0m\u001b[30m \u001b[0m│\u001b[30m \u001b[0m\u001b[30m41.7  \u001b[0m\u001b[30m \u001b[0m│\u001b[30m \u001b[0m\u001b[30m49.5  \u001b[0m\u001b[30m \u001b[0m│\u001b[30m \u001b[0m\u001b[30m49.9  \u001b[0m\u001b[30m \u001b[0m│\u001b[30m \u001b[0m\u001b[30m4.9  \u001b[0m\u001b[30m \u001b[0m│\u001b[30m \u001b[0m\u001b[30m0.3   \u001b[0m\u001b[30m \u001b[0m│\u001b[30m \u001b[0m\u001b[30m56.5  \u001b[0m\u001b[30m \u001b[0m│\u001b[30m \u001b[0m\u001b[30m41.1 \u001b[0m\u001b[30m \u001b[0m│\n",
       "│\u001b[30m \u001b[0m\u001b[30m3PM   \u001b[0m\u001b[30m \u001b[0m│\u001b[30m \u001b[0m\u001b[30m113.0 \u001b[0m\u001b[30m \u001b[0m│\u001b[30m \u001b[0m\u001b[30m114.5 \u001b[0m\u001b[30m \u001b[0m│\u001b[30m \u001b[0m\u001b[30m25.9 \u001b[0m\u001b[30m \u001b[0m│\u001b[30m \u001b[0m\u001b[30m7.0   \u001b[0m\u001b[30m \u001b[0m│\u001b[30m \u001b[0m\u001b[30m161   \u001b[0m\u001b[30m \u001b[0m│\u001b[30m \u001b[0m\u001b[30m54    \u001b[0m\u001b[30m \u001b[0m│\u001b[30m \u001b[0m\u001b[30m28.8  \u001b[0m\u001b[30m \u001b[0m│\u001b[30m \u001b[0m\u001b[30m27.5  \u001b[0m\u001b[30m \u001b[0m│\u001b[30m \u001b[0m\u001b[30m8.5  \u001b[0m\u001b[30m \u001b[0m│\u001b[30m \u001b[0m\u001b[30m0.8   \u001b[0m\u001b[30m \u001b[0m│\u001b[30m \u001b[0m\u001b[30m44    \u001b[0m\u001b[30m \u001b[0m│\u001b[30m \u001b[0m\u001b[30m18   \u001b[0m\u001b[30m \u001b[0m│\n",
       "│\u001b[30m \u001b[0m\u001b[30m3PA   \u001b[0m\u001b[30m \u001b[0m│\u001b[30m \u001b[0m\u001b[30m328.1 \u001b[0m\u001b[30m \u001b[0m│\u001b[30m \u001b[0m\u001b[30m333.0 \u001b[0m\u001b[30m \u001b[0m│\u001b[30m \u001b[0m\u001b[30m70.8 \u001b[0m\u001b[30m \u001b[0m│\u001b[30m \u001b[0m\u001b[30m52.7  \u001b[0m\u001b[30m \u001b[0m│\u001b[30m \u001b[0m\u001b[30m448   \u001b[0m\u001b[30m \u001b[0m│\u001b[30m \u001b[0m\u001b[30m149   \u001b[0m\u001b[30m \u001b[0m│\u001b[30m \u001b[0m\u001b[30m86.8  \u001b[0m\u001b[30m \u001b[0m│\u001b[30m \u001b[0m\u001b[30m85.5  \u001b[0m\u001b[30m \u001b[0m│\u001b[30m \u001b[0m\u001b[30m21.1 \u001b[0m\u001b[30m \u001b[0m│\u001b[30m \u001b[0m\u001b[30m4.7   \u001b[0m\u001b[30m \u001b[0m│\u001b[30m \u001b[0m\u001b[30m119   \u001b[0m\u001b[30m \u001b[0m│\u001b[30m \u001b[0m\u001b[30m48   \u001b[0m\u001b[30m \u001b[0m│\n",
       "│\u001b[30m \u001b[0m\u001b[30m3P%   \u001b[0m\u001b[30m \u001b[0m│\u001b[30m \u001b[0m\u001b[30m34.4  \u001b[0m\u001b[30m \u001b[0m│\u001b[30m \u001b[0m\u001b[30m34.6  \u001b[0m\u001b[30m \u001b[0m│\u001b[30m \u001b[0m\u001b[30m2.6  \u001b[0m\u001b[30m \u001b[0m│\u001b[30m \u001b[0m\u001b[30m0.1   \u001b[0m\u001b[30m \u001b[0m│\u001b[30m \u001b[0m\u001b[30m40.6  \u001b[0m\u001b[30m \u001b[0m│\u001b[30m \u001b[0m\u001b[30m29.0  \u001b[0m\u001b[30m \u001b[0m│\u001b[30m \u001b[0m\u001b[30m33.3  \u001b[0m\u001b[30m \u001b[0m│\u001b[30m \u001b[0m\u001b[30m34.1  \u001b[0m\u001b[30m \u001b[0m│\u001b[30m \u001b[0m\u001b[30m5.7  \u001b[0m\u001b[30m \u001b[0m│\u001b[30m \u001b[0m\u001b[30m0.3   \u001b[0m\u001b[30m \u001b[0m│\u001b[30m \u001b[0m\u001b[30m41.1  \u001b[0m\u001b[30m \u001b[0m│\u001b[30m \u001b[0m\u001b[30m22.7 \u001b[0m\u001b[30m \u001b[0m│\n",
       "│\u001b[30m \u001b[0m\u001b[30mFTM   \u001b[0m\u001b[30m \u001b[0m│\u001b[30m \u001b[0m\u001b[30m404.4 \u001b[0m\u001b[30m \u001b[0m│\u001b[30m \u001b[0m\u001b[30m387.5 \u001b[0m\u001b[30m \u001b[0m│\u001b[30m \u001b[0m\u001b[30m121.8\u001b[0m\u001b[30m \u001b[0m│\u001b[30m \u001b[0m\u001b[30m156.0 \u001b[0m\u001b[30m \u001b[0m│\u001b[30m \u001b[0m\u001b[30m601   \u001b[0m\u001b[30m \u001b[0m│\u001b[30m \u001b[0m\u001b[30m178   \u001b[0m\u001b[30m \u001b[0m│\u001b[30m \u001b[0m\u001b[30m113.7 \u001b[0m\u001b[30m \u001b[0m│\u001b[30m \u001b[0m\u001b[30m120.5 \u001b[0m\u001b[30m \u001b[0m│\u001b[30m \u001b[0m\u001b[30m38.0 \u001b[0m\u001b[30m \u001b[0m│\u001b[30m \u001b[0m\u001b[30m15.4  \u001b[0m\u001b[30m \u001b[0m│\u001b[30m \u001b[0m\u001b[30m173   \u001b[0m\u001b[30m \u001b[0m│\u001b[30m \u001b[0m\u001b[30m14   \u001b[0m\u001b[30m \u001b[0m│\n",
       "│\u001b[30m \u001b[0m\u001b[30mFTA   \u001b[0m\u001b[30m \u001b[0m│\u001b[30m \u001b[0m\u001b[30m550   \u001b[0m\u001b[30m \u001b[0m│\u001b[30m \u001b[0m\u001b[30m531.0 \u001b[0m\u001b[30m \u001b[0m│\u001b[30m \u001b[0m\u001b[30m158.3\u001b[0m\u001b[30m \u001b[0m│\u001b[30m \u001b[0m\u001b[30m263.8 \u001b[0m\u001b[30m \u001b[0m│\u001b[30m \u001b[0m\u001b[30m814   \u001b[0m\u001b[30m \u001b[0m│\u001b[30m \u001b[0m\u001b[30m255   \u001b[0m\u001b[30m \u001b[0m│\u001b[30m \u001b[0m\u001b[30m153.5 \u001b[0m\u001b[30m \u001b[0m│\u001b[30m \u001b[0m\u001b[30m161.0 \u001b[0m\u001b[30m \u001b[0m│\u001b[30m \u001b[0m\u001b[30m49.3 \u001b[0m\u001b[30m \u001b[0m│\u001b[30m \u001b[0m\u001b[30m25.9  \u001b[0m\u001b[30m \u001b[0m│\u001b[30m \u001b[0m\u001b[30m234   \u001b[0m\u001b[30m \u001b[0m│\u001b[30m \u001b[0m\u001b[30m23   \u001b[0m\u001b[30m \u001b[0m│\n",
       "│\u001b[30m \u001b[0m\u001b[30mFT%   \u001b[0m\u001b[30m \u001b[0m│\u001b[30m \u001b[0m\u001b[30m73.3  \u001b[0m\u001b[30m \u001b[0m│\u001b[30m \u001b[0m\u001b[30m74.4  \u001b[0m\u001b[30m \u001b[0m│\u001b[30m \u001b[0m\u001b[30m3.3  \u001b[0m\u001b[30m \u001b[0m│\u001b[30m \u001b[0m\u001b[30m0.1   \u001b[0m\u001b[30m \u001b[0m│\u001b[30m \u001b[0m\u001b[30m78.0  \u001b[0m\u001b[30m \u001b[0m│\u001b[30m \u001b[0m\u001b[30m66.5  \u001b[0m\u001b[30m \u001b[0m│\u001b[30m \u001b[0m\u001b[30m73.2  \u001b[0m\u001b[30m \u001b[0m│\u001b[30m \u001b[0m\u001b[30m73.8  \u001b[0m\u001b[30m \u001b[0m│\u001b[30m \u001b[0m\u001b[30m4.5  \u001b[0m\u001b[30m \u001b[0m│\u001b[30m \u001b[0m\u001b[30m0.2   \u001b[0m\u001b[30m \u001b[0m│\u001b[30m \u001b[0m\u001b[30m80.6  \u001b[0m\u001b[30m \u001b[0m│\u001b[30m \u001b[0m\u001b[30m60.9 \u001b[0m\u001b[30m \u001b[0m│\n",
       "│\u001b[30m \u001b[0m\u001b[30mOREB  \u001b[0m\u001b[30m \u001b[0m│\u001b[30m \u001b[0m\u001b[30m83.3  \u001b[0m\u001b[30m \u001b[0m│\u001b[30m \u001b[0m\u001b[30m82.0  \u001b[0m\u001b[30m \u001b[0m│\u001b[30m \u001b[0m\u001b[30m23.9 \u001b[0m\u001b[30m \u001b[0m│\u001b[30m \u001b[0m\u001b[30m6.0   \u001b[0m\u001b[30m \u001b[0m│\u001b[30m \u001b[0m\u001b[30m133   \u001b[0m\u001b[30m \u001b[0m│\u001b[30m \u001b[0m\u001b[30m29    \u001b[0m\u001b[30m \u001b[0m│\u001b[30m \u001b[0m\u001b[30m26.6  \u001b[0m\u001b[30m \u001b[0m│\u001b[30m \u001b[0m\u001b[30m25.5  \u001b[0m\u001b[30m \u001b[0m│\u001b[30m \u001b[0m\u001b[30m11.8 \u001b[0m\u001b[30m \u001b[0m│\u001b[30m \u001b[0m\u001b[30m1.5   \u001b[0m\u001b[30m \u001b[0m│\u001b[30m \u001b[0m\u001b[30m54    \u001b[0m\u001b[30m \u001b[0m│\u001b[30m \u001b[0m\u001b[30m7    \u001b[0m\u001b[30m \u001b[0m│\n",
       "│\u001b[30m \u001b[0m\u001b[30mDREB  \u001b[0m\u001b[30m \u001b[0m│\u001b[30m \u001b[0m\u001b[30m450.1 \u001b[0m\u001b[30m \u001b[0m│\u001b[30m \u001b[0m\u001b[30m456.5 \u001b[0m\u001b[30m \u001b[0m│\u001b[30m \u001b[0m\u001b[30m70.0 \u001b[0m\u001b[30m \u001b[0m│\u001b[30m \u001b[0m\u001b[30m51.5  \u001b[0m\u001b[30m \u001b[0m│\u001b[30m \u001b[0m\u001b[30m612   \u001b[0m\u001b[30m \u001b[0m│\u001b[30m \u001b[0m\u001b[30m317   \u001b[0m\u001b[30m \u001b[0m│\u001b[30m \u001b[0m\u001b[30m132.7 \u001b[0m\u001b[30m \u001b[0m│\u001b[30m \u001b[0m\u001b[30m138.5 \u001b[0m\u001b[30m \u001b[0m│\u001b[30m \u001b[0m\u001b[30m42.0 \u001b[0m\u001b[30m \u001b[0m│\u001b[30m \u001b[0m\u001b[30m18.8  \u001b[0m\u001b[30m \u001b[0m│\u001b[30m \u001b[0m\u001b[30m198   \u001b[0m\u001b[30m \u001b[0m│\u001b[30m \u001b[0m\u001b[30m36   \u001b[0m\u001b[30m \u001b[0m│\n",
       "│\u001b[30m \u001b[0m\u001b[30mREB   \u001b[0m\u001b[30m \u001b[0m│\u001b[30m \u001b[0m\u001b[30m533.4 \u001b[0m\u001b[30m \u001b[0m│\u001b[30m \u001b[0m\u001b[30m543.5 \u001b[0m\u001b[30m \u001b[0m│\u001b[30m \u001b[0m\u001b[30m84.5 \u001b[0m\u001b[30m \u001b[0m│\u001b[30m \u001b[0m\u001b[30m75.2  \u001b[0m\u001b[30m \u001b[0m│\u001b[30m \u001b[0m\u001b[30m709   \u001b[0m\u001b[30m \u001b[0m│\u001b[30m \u001b[0m\u001b[30m346   \u001b[0m\u001b[30m \u001b[0m│\u001b[30m \u001b[0m\u001b[30m159.3 \u001b[0m\u001b[30m \u001b[0m│\u001b[30m \u001b[0m\u001b[30m162.5 \u001b[0m\u001b[30m \u001b[0m│\u001b[30m \u001b[0m\u001b[30m51.4 \u001b[0m\u001b[30m \u001b[0m│\u001b[30m \u001b[0m\u001b[30m28.1  \u001b[0m\u001b[30m \u001b[0m│\u001b[30m \u001b[0m\u001b[30m226   \u001b[0m\u001b[30m \u001b[0m│\u001b[30m \u001b[0m\u001b[30m43   \u001b[0m\u001b[30m \u001b[0m│\n",
       "│\u001b[30m \u001b[0m\u001b[30mAST   \u001b[0m\u001b[30m \u001b[0m│\u001b[30m \u001b[0m\u001b[30m521   \u001b[0m\u001b[30m \u001b[0m│\u001b[30m \u001b[0m\u001b[30m517.5 \u001b[0m\u001b[30m \u001b[0m│\u001b[30m \u001b[0m\u001b[30m107.1\u001b[0m\u001b[30m \u001b[0m│\u001b[30m \u001b[0m\u001b[30m120.8 \u001b[0m\u001b[30m \u001b[0m│\u001b[30m \u001b[0m\u001b[30m747   \u001b[0m\u001b[30m \u001b[0m│\u001b[30m \u001b[0m\u001b[30m349   \u001b[0m\u001b[30m \u001b[0m│\u001b[30m \u001b[0m\u001b[30m126.4 \u001b[0m\u001b[30m \u001b[0m│\u001b[30m \u001b[0m\u001b[30m126.0 \u001b[0m\u001b[30m \u001b[0m│\u001b[30m \u001b[0m\u001b[30m40.8 \u001b[0m\u001b[30m \u001b[0m│\u001b[30m \u001b[0m\u001b[30m17.8  \u001b[0m\u001b[30m \u001b[0m│\u001b[30m \u001b[0m\u001b[30m198   \u001b[0m\u001b[30m \u001b[0m│\u001b[30m \u001b[0m\u001b[30m48   \u001b[0m\u001b[30m \u001b[0m│\n",
       "│\u001b[30m \u001b[0m\u001b[30mSTL   \u001b[0m\u001b[30m \u001b[0m│\u001b[30m \u001b[0m\u001b[30m109.3 \u001b[0m\u001b[30m \u001b[0m│\u001b[30m \u001b[0m\u001b[30m118.5 \u001b[0m\u001b[30m \u001b[0m│\u001b[30m \u001b[0m\u001b[30m31.1 \u001b[0m\u001b[30m \u001b[0m│\u001b[30m \u001b[0m\u001b[30m10.2  \u001b[0m\u001b[30m \u001b[0m│\u001b[30m \u001b[0m\u001b[30m177   \u001b[0m\u001b[30m \u001b[0m│\u001b[30m \u001b[0m\u001b[30m48    \u001b[0m\u001b[30m \u001b[0m│\u001b[30m \u001b[0m\u001b[30m29.4  \u001b[0m\u001b[30m \u001b[0m│\u001b[30m \u001b[0m\u001b[30m31.5  \u001b[0m\u001b[30m \u001b[0m│\u001b[30m \u001b[0m\u001b[30m10.4 \u001b[0m\u001b[30m \u001b[0m│\u001b[30m \u001b[0m\u001b[30m1.2   \u001b[0m\u001b[30m \u001b[0m│\u001b[30m \u001b[0m\u001b[30m49    \u001b[0m\u001b[30m \u001b[0m│\u001b[30m \u001b[0m\u001b[30m9    \u001b[0m\u001b[30m \u001b[0m│\n",
       "│\u001b[30m \u001b[0m\u001b[30mBLK   \u001b[0m\u001b[30m \u001b[0m│\u001b[30m \u001b[0m\u001b[30m53.6  \u001b[0m\u001b[30m \u001b[0m│\u001b[30m \u001b[0m\u001b[30m51.0  \u001b[0m\u001b[30m \u001b[0m│\u001b[30m \u001b[0m\u001b[30m18.0 \u001b[0m\u001b[30m \u001b[0m│\u001b[30m \u001b[0m\u001b[30m3.4   \u001b[0m\u001b[30m \u001b[0m│\u001b[30m \u001b[0m\u001b[30m93    \u001b[0m\u001b[30m \u001b[0m│\u001b[30m \u001b[0m\u001b[30m25    \u001b[0m\u001b[30m \u001b[0m│\u001b[30m \u001b[0m\u001b[30m16.9  \u001b[0m\u001b[30m \u001b[0m│\u001b[30m \u001b[0m\u001b[30m18.0  \u001b[0m\u001b[30m \u001b[0m│\u001b[30m \u001b[0m\u001b[30m6.4  \u001b[0m\u001b[30m \u001b[0m│\u001b[30m \u001b[0m\u001b[30m0.4   \u001b[0m\u001b[30m \u001b[0m│\u001b[30m \u001b[0m\u001b[30m27    \u001b[0m\u001b[30m \u001b[0m│\u001b[30m \u001b[0m\u001b[30m2    \u001b[0m\u001b[30m \u001b[0m│\n",
       "│\u001b[30m \u001b[0m\u001b[30mTOV   \u001b[0m\u001b[30m \u001b[0m│\u001b[30m \u001b[0m\u001b[30m248.3 \u001b[0m\u001b[30m \u001b[0m│\u001b[30m \u001b[0m\u001b[30m257.5 \u001b[0m\u001b[30m \u001b[0m│\u001b[30m \u001b[0m\u001b[30m41.8 \u001b[0m\u001b[30m \u001b[0m│\u001b[30m \u001b[0m\u001b[30m18.4  \u001b[0m\u001b[30m \u001b[0m│\u001b[30m \u001b[0m\u001b[30m347   \u001b[0m\u001b[30m \u001b[0m│\u001b[30m \u001b[0m\u001b[30m168   \u001b[0m\u001b[30m \u001b[0m│\u001b[30m \u001b[0m\u001b[30m63.4  \u001b[0m\u001b[30m \u001b[0m│\u001b[30m \u001b[0m\u001b[30m66.0  \u001b[0m\u001b[30m \u001b[0m│\u001b[30m \u001b[0m\u001b[30m18.5 \u001b[0m\u001b[30m \u001b[0m│\u001b[30m \u001b[0m\u001b[30m3.7   \u001b[0m\u001b[30m \u001b[0m│\u001b[30m \u001b[0m\u001b[30m94    \u001b[0m\u001b[30m \u001b[0m│\u001b[30m \u001b[0m\u001b[30m25   \u001b[0m\u001b[30m \u001b[0m│\n",
       "│\u001b[30m \u001b[0m\u001b[30mPF    \u001b[0m\u001b[30m \u001b[0m│\u001b[30m \u001b[0m\u001b[30m130.2 \u001b[0m\u001b[30m \u001b[0m│\u001b[30m \u001b[0m\u001b[30m134.5 \u001b[0m\u001b[30m \u001b[0m│\u001b[30m \u001b[0m\u001b[30m28.4 \u001b[0m\u001b[30m \u001b[0m│\u001b[30m \u001b[0m\u001b[30m8.5   \u001b[0m\u001b[30m \u001b[0m│\u001b[30m \u001b[0m\u001b[30m181   \u001b[0m\u001b[30m \u001b[0m│\u001b[30m \u001b[0m\u001b[30m70    \u001b[0m\u001b[30m \u001b[0m│\u001b[30m \u001b[0m\u001b[30m40.2  \u001b[0m\u001b[30m \u001b[0m│\u001b[30m \u001b[0m\u001b[30m43.0  \u001b[0m\u001b[30m \u001b[0m│\u001b[30m \u001b[0m\u001b[30m13.0 \u001b[0m\u001b[30m \u001b[0m│\u001b[30m \u001b[0m\u001b[30m1.8   \u001b[0m\u001b[30m \u001b[0m│\u001b[30m \u001b[0m\u001b[30m58    \u001b[0m\u001b[30m \u001b[0m│\u001b[30m \u001b[0m\u001b[30m7    \u001b[0m\u001b[30m \u001b[0m│\n",
       "└────────┴────────┴────────┴───────┴────────┴────────┴────────┴────────┴────────┴───────┴────────┴────────┴───────┘\n"
      ]
     },
     "metadata": {},
     "output_type": "display_data"
    }
   ],
   "source": [
    "funcoes_estatistica.medidas_de_resumo(lebron_df_rs, lebron_df_po, lista_variaveis_quant, \"Medidas de Resumo LeBron James RS X PO\")"
   ]
  },
  {
   "cell_type": "code",
   "execution_count": 12,
   "id": "c95ecad4-94d9-4ee2-8c10-9afb687a193f",
   "metadata": {},
   "outputs": [
    {
     "data": {
      "text/html": [
       "<pre style=\"white-space:pre;overflow-x:auto;line-height:normal;font-family:Menlo,'DejaVu Sans Mono',consolas,'Courier New',monospace\"><span style=\"font-style: italic\">                                     Medidas de Resumo Michael Jordan RS X PO                                      </span>\n",
       "┏━━━━━━━━┳━━━━━━━━┳━━━━━━━━┳━━━━━━━┳━━━━━━━━┳━━━━━━━━┳━━━━━━━━┳━━━━━━━━┳━━━━━━━━┳━━━━━━━┳━━━━━━━━┳━━━━━━━━┳━━━━━━━┓\n",
       "┃<span style=\"font-weight: bold\"> VARIÁ… </span>┃<span style=\"font-weight: bold\"> MÉDIA… </span>┃<span style=\"font-weight: bold\"> MEDIA… </span>┃<span style=\"font-weight: bold\"> DP_RS </span>┃<span style=\"font-weight: bold\"> VAR_R… </span>┃<span style=\"font-weight: bold\"> MÁX_RS </span>┃<span style=\"font-weight: bold\"> MÍN_RS </span>┃<span style=\"font-weight: bold\"> MÉDIA… </span>┃<span style=\"font-weight: bold\"> MEDIA… </span>┃<span style=\"font-weight: bold\"> DP_PO </span>┃<span style=\"font-weight: bold\"> VAR_P… </span>┃<span style=\"font-weight: bold\"> MÁX_PO </span>┃<span style=\"font-weight: bold\"> MÍN_… </span>┃\n",
       "┡━━━━━━━━╇━━━━━━━━╇━━━━━━━━╇━━━━━━━╇━━━━━━━━╇━━━━━━━━╇━━━━━━━━╇━━━━━━━━╇━━━━━━━━╇━━━━━━━╇━━━━━━━━╇━━━━━━━━╇━━━━━━━┩\n",
       "│<span style=\"color: #000000; text-decoration-color: #000000\"> GP     </span>│<span style=\"color: #000000; text-decoration-color: #000000\"> 71.5   </span>│<span style=\"color: #000000; text-decoration-color: #000000\"> 82     </span>│<span style=\"color: #000000; text-decoration-color: #000000\"> 21.9  </span>│<span style=\"color: #000000; text-decoration-color: #000000\"> 5.1    </span>│<span style=\"color: #000000; text-decoration-color: #000000\"> 82     </span>│<span style=\"color: #000000; text-decoration-color: #000000\"> 17     </span>│<span style=\"color: #000000; text-decoration-color: #000000\"> 13.8   </span>│<span style=\"color: #000000; text-decoration-color: #000000\"> 17     </span>│<span style=\"color: #000000; text-decoration-color: #000000\"> 6.6   </span>│<span style=\"color: #000000; text-decoration-color: #000000\"> 0.5    </span>│<span style=\"color: #000000; text-decoration-color: #000000\"> 22     </span>│<span style=\"color: #000000; text-decoration-color: #000000\"> 3     </span>│\n",
       "│<span style=\"color: #000000; text-decoration-color: #000000\"> GS     </span>│<span style=\"color: #000000; text-decoration-color: #000000\"> 69.3   </span>│<span style=\"color: #000000; text-decoration-color: #000000\"> 82     </span>│<span style=\"color: #000000; text-decoration-color: #000000\"> 23.8  </span>│<span style=\"color: #000000; text-decoration-color: #000000\"> 6.1    </span>│<span style=\"color: #000000; text-decoration-color: #000000\"> 82     </span>│<span style=\"color: #000000; text-decoration-color: #000000\"> 7      </span>│<span style=\"color: #000000; text-decoration-color: #000000\"> 13.8   </span>│<span style=\"color: #000000; text-decoration-color: #000000\"> 17     </span>│<span style=\"color: #000000; text-decoration-color: #000000\"> 6.6   </span>│<span style=\"color: #000000; text-decoration-color: #000000\"> 0.5    </span>│<span style=\"color: #000000; text-decoration-color: #000000\"> 22     </span>│<span style=\"color: #000000; text-decoration-color: #000000\"> 3     </span>│\n",
       "│<span style=\"color: #000000; text-decoration-color: #000000\"> MIN    </span>│<span style=\"color: #000000; text-decoration-color: #000000\"> 2733.9 </span>│<span style=\"color: #000000; text-decoration-color: #000000\"> 3102   </span>│<span style=\"color: #000000; text-decoration-color: #000000\"> 897.1 </span>│<span style=\"color: #000000; text-decoration-color: #000000\"> 8623.6 </span>│<span style=\"color: #000000; text-decoration-color: #000000\"> 3311   </span>│<span style=\"color: #000000; text-decoration-color: #000000\"> 451    </span>│<span style=\"color: #000000; text-decoration-color: #000000\"> 574.9  </span>│<span style=\"color: #000000; text-decoration-color: #000000\"> 689    </span>│<span style=\"color: #000000; text-decoration-color: #000000\"> 273.7 </span>│<span style=\"color: #000000; text-decoration-color: #000000\"> 811.4  </span>│<span style=\"color: #000000; text-decoration-color: #000000\"> 920    </span>│<span style=\"color: #000000; text-decoration-color: #000000\"> 128   </span>│\n",
       "│<span style=\"color: #000000; text-decoration-color: #000000\"> PTS    </span>│<span style=\"color: #000000; text-decoration-color: #000000\"> 2152.8 </span>│<span style=\"color: #000000; text-decoration-color: #000000\"> 2431   </span>│<span style=\"color: #000000; text-decoration-color: #000000\"> 788.9 </span>│<span style=\"color: #000000; text-decoration-color: #000000\"> 6667.6 </span>│<span style=\"color: #000000; text-decoration-color: #000000\"> 3041   </span>│<span style=\"color: #000000; text-decoration-color: #000000\"> 408    </span>│<span style=\"color: #000000; text-decoration-color: #000000\"> 460.5  </span>│<span style=\"color: #000000; text-decoration-color: #000000\"> 552    </span>│<span style=\"color: #000000; text-decoration-color: #000000\"> 219.2 </span>│<span style=\"color: #000000; text-decoration-color: #000000\"> 520.5  </span>│<span style=\"color: #000000; text-decoration-color: #000000\"> 759    </span>│<span style=\"color: #000000; text-decoration-color: #000000\"> 107   </span>│\n",
       "│<span style=\"color: #000000; text-decoration-color: #000000\"> FGM    </span>│<span style=\"color: #000000; text-decoration-color: #000000\"> 812.8  </span>│<span style=\"color: #000000; text-decoration-color: #000000\"> 920    </span>│<span style=\"color: #000000; text-decoration-color: #000000\"> 291.1 </span>│<span style=\"color: #000000; text-decoration-color: #000000\"> 908.1  </span>│<span style=\"color: #000000; text-decoration-color: #000000\"> 1098   </span>│<span style=\"color: #000000; text-decoration-color: #000000\"> 150    </span>│<span style=\"color: #000000; text-decoration-color: #000000\"> 168.3  </span>│<span style=\"color: #000000; text-decoration-color: #000000\"> 197    </span>│<span style=\"color: #000000; text-decoration-color: #000000\"> 82.7  </span>│<span style=\"color: #000000; text-decoration-color: #000000\"> 74.1   </span>│<span style=\"color: #000000; text-decoration-color: #000000\"> 290    </span>│<span style=\"color: #000000; text-decoration-color: #000000\"> 34    </span>│\n",
       "│<span style=\"color: #000000; text-decoration-color: #000000\"> FGA    </span>│<span style=\"color: #000000; text-decoration-color: #000000\"> 1635.8 </span>│<span style=\"color: #000000; text-decoration-color: #000000\"> 1837   </span>│<span style=\"color: #000000; text-decoration-color: #000000\"> 541.7 </span>│<span style=\"color: #000000; text-decoration-color: #000000\"> 3143.6 </span>│<span style=\"color: #000000; text-decoration-color: #000000\"> 2279   </span>│<span style=\"color: #000000; text-decoration-color: #000000\"> 328    </span>│<span style=\"color: #000000; text-decoration-color: #000000\"> 345.9  </span>│<span style=\"color: #000000; text-decoration-color: #000000\"> 390    </span>│<span style=\"color: #000000; text-decoration-color: #000000\"> 170.4 </span>│<span style=\"color: #000000; text-decoration-color: #000000\"> 314.4  </span>│<span style=\"color: #000000; text-decoration-color: #000000\"> 581    </span>│<span style=\"color: #000000; text-decoration-color: #000000\"> 78    </span>│\n",
       "│<span style=\"color: #000000; text-decoration-color: #000000\"> FG%    </span>│<span style=\"color: #000000; text-decoration-color: #000000\"> 48.8   </span>│<span style=\"color: #000000; text-decoration-color: #000000\"> 49.5   </span>│<span style=\"color: #000000; text-decoration-color: #000000\"> 4.1   </span>│<span style=\"color: #000000; text-decoration-color: #000000\"> 0.2    </span>│<span style=\"color: #000000; text-decoration-color: #000000\"> 53.9   </span>│<span style=\"color: #000000; text-decoration-color: #000000\"> 41.1   </span>│<span style=\"color: #000000; text-decoration-color: #000000\"> 48.2   </span>│<span style=\"color: #000000; text-decoration-color: #000000\"> 48.4   </span>│<span style=\"color: #000000; text-decoration-color: #000000\"> 3.4   </span>│<span style=\"color: #000000; text-decoration-color: #000000\"> 0.1    </span>│<span style=\"color: #000000; text-decoration-color: #000000\"> 53.1   </span>│<span style=\"color: #000000; text-decoration-color: #000000\"> 41.7  </span>│\n",
       "│<span style=\"color: #000000; text-decoration-color: #000000\"> 3PM    </span>│<span style=\"color: #000000; text-decoration-color: #000000\"> 38.7   </span>│<span style=\"color: #000000; text-decoration-color: #000000\"> 27     </span>│<span style=\"color: #000000; text-decoration-color: #000000\"> 37.6  </span>│<span style=\"color: #000000; text-decoration-color: #000000\"> 15.2   </span>│<span style=\"color: #000000; text-decoration-color: #000000\"> 111    </span>│<span style=\"color: #000000; text-decoration-color: #000000\"> 3      </span>│<span style=\"color: #000000; text-decoration-color: #000000\"> 11.4   </span>│<span style=\"color: #000000; text-decoration-color: #000000\"> 11     </span>│<span style=\"color: #000000; text-decoration-color: #000000\"> 8.5   </span>│<span style=\"color: #000000; text-decoration-color: #000000\"> 0.8    </span>│<span style=\"color: #000000; text-decoration-color: #000000\"> 28     </span>│<span style=\"color: #000000; text-decoration-color: #000000\"> 1     </span>│\n",
       "│<span style=\"color: #000000; text-decoration-color: #000000\"> 3PA    </span>│<span style=\"color: #000000; text-decoration-color: #000000\"> 118.5  </span>│<span style=\"color: #000000; text-decoration-color: #000000\"> 93     </span>│<span style=\"color: #000000; text-decoration-color: #000000\"> 89.1  </span>│<span style=\"color: #000000; text-decoration-color: #000000\"> 85.1   </span>│<span style=\"color: #000000; text-decoration-color: #000000\"> 297    </span>│<span style=\"color: #000000; text-decoration-color: #000000\"> 18     </span>│<span style=\"color: #000000; text-decoration-color: #000000\"> 34.3   </span>│<span style=\"color: #000000; text-decoration-color: #000000\"> 35     </span>│<span style=\"color: #000000; text-decoration-color: #000000\"> 23.9  </span>│<span style=\"color: #000000; text-decoration-color: #000000\"> 6.2    </span>│<span style=\"color: #000000; text-decoration-color: #000000\"> 72     </span>│<span style=\"color: #000000; text-decoration-color: #000000\"> 1     </span>│\n",
       "│<span style=\"color: #000000; text-decoration-color: #000000\"> 3P%    </span>│<span style=\"color: #000000; text-decoration-color: #000000\"> 28.4   </span>│<span style=\"color: #000000; text-decoration-color: #000000\"> 27.6   </span>│<span style=\"color: #000000; text-decoration-color: #000000\"> 10.3  </span>│<span style=\"color: #000000; text-decoration-color: #000000\"> 1.1    </span>│<span style=\"color: #000000; text-decoration-color: #000000\"> 50.0   </span>│<span style=\"color: #000000; text-decoration-color: #000000\"> 13.2   </span>│<span style=\"color: #000000; text-decoration-color: #000000\"> 37.6   </span>│<span style=\"color: #000000; text-decoration-color: #000000\"> 36.7   </span>│<span style=\"color: #000000; text-decoration-color: #000000\"> 19.7  </span>│<span style=\"color: #000000; text-decoration-color: #000000\"> 4.2    </span>│<span style=\"color: #000000; text-decoration-color: #000000\"> 100.0  </span>│<span style=\"color: #000000; text-decoration-color: #000000\"> 12.5  </span>│\n",
       "│<span style=\"color: #000000; text-decoration-color: #000000\"> FTM    </span>│<span style=\"color: #000000; text-decoration-color: #000000\"> 488.5  </span>│<span style=\"color: #000000; text-decoration-color: #000000\"> 548    </span>│<span style=\"color: #000000; text-decoration-color: #000000\"> 207.7 </span>│<span style=\"color: #000000; text-decoration-color: #000000\"> 462.1  </span>│<span style=\"color: #000000; text-decoration-color: #000000\"> 833    </span>│<span style=\"color: #000000; text-decoration-color: #000000\"> 105    </span>│<span style=\"color: #000000; text-decoration-color: #000000\"> 112.5  </span>│<span style=\"color: #000000; text-decoration-color: #000000\"> 125    </span>│<span style=\"color: #000000; text-decoration-color: #000000\"> 51.4  </span>│<span style=\"color: #000000; text-decoration-color: #000000\"> 28.6   </span>│<span style=\"color: #000000; text-decoration-color: #000000\"> 183    </span>│<span style=\"color: #000000; text-decoration-color: #000000\"> 34    </span>│\n",
       "│<span style=\"color: #000000; text-decoration-color: #000000\"> FTA    </span>│<span style=\"color: #000000; text-decoration-color: #000000\"> 584.8  </span>│<span style=\"color: #000000; text-decoration-color: #000000\"> 657    </span>│<span style=\"color: #000000; text-decoration-color: #000000\"> 242.7 </span>│<span style=\"color: #000000; text-decoration-color: #000000\"> 631.3  </span>│<span style=\"color: #000000; text-decoration-color: #000000\"> 972    </span>│<span style=\"color: #000000; text-decoration-color: #000000\"> 125    </span>│<span style=\"color: #000000; text-decoration-color: #000000\"> 135.8  </span>│<span style=\"color: #000000; text-decoration-color: #000000\"> 148    </span>│<span style=\"color: #000000; text-decoration-color: #000000\"> 63.9  </span>│<span style=\"color: #000000; text-decoration-color: #000000\"> 44.2   </span>│<span style=\"color: #000000; text-decoration-color: #000000\"> 229    </span>│<span style=\"color: #000000; text-decoration-color: #000000\"> 39    </span>│\n",
       "│<span style=\"color: #000000; text-decoration-color: #000000\"> FT%    </span>│<span style=\"color: #000000; text-decoration-color: #000000\"> 83.1   </span>│<span style=\"color: #000000; text-decoration-color: #000000\"> 83.7   </span>│<span style=\"color: #000000; text-decoration-color: #000000\"> 2.2   </span>│<span style=\"color: #000000; text-decoration-color: #000000\"> 0.1    </span>│<span style=\"color: #000000; text-decoration-color: #000000\"> 85.7   </span>│<span style=\"color: #000000; text-decoration-color: #000000\"> 78.4   </span>│<span style=\"color: #000000; text-decoration-color: #000000\"> 83.7   </span>│<span style=\"color: #000000; text-decoration-color: #000000\"> 83.1   </span>│<span style=\"color: #000000; text-decoration-color: #000000\"> 2.9   </span>│<span style=\"color: #000000; text-decoration-color: #000000\"> 0.1    </span>│<span style=\"color: #000000; text-decoration-color: #000000\"> 89.7   </span>│<span style=\"color: #000000; text-decoration-color: #000000\"> 79.9  </span>│\n",
       "│<span style=\"color: #000000; text-decoration-color: #000000\"> OREB   </span>│<span style=\"color: #000000; text-decoration-color: #000000\"> 111.2  </span>│<span style=\"color: #000000; text-decoration-color: #000000\"> 130    </span>│<span style=\"color: #000000; text-decoration-color: #000000\"> 46.6  </span>│<span style=\"color: #000000; text-decoration-color: #000000\"> 23.3   </span>│<span style=\"color: #000000; text-decoration-color: #000000\"> 167    </span>│<span style=\"color: #000000; text-decoration-color: #000000\"> 23     </span>│<span style=\"color: #000000; text-decoration-color: #000000\"> 23.5   </span>│<span style=\"color: #000000; text-decoration-color: #000000\"> 24     </span>│<span style=\"color: #000000; text-decoration-color: #000000\"> 11.4  </span>│<span style=\"color: #000000; text-decoration-color: #000000\"> 1.4    </span>│<span style=\"color: #000000; text-decoration-color: #000000\"> 42     </span>│<span style=\"color: #000000; text-decoration-color: #000000\"> 5     </span>│\n",
       "│<span style=\"color: #000000; text-decoration-color: #000000\"> DREB   </span>│<span style=\"color: #000000; text-decoration-color: #000000\"> 333.6  </span>│<span style=\"color: #000000; text-decoration-color: #000000\"> 369    </span>│<span style=\"color: #000000; text-decoration-color: #000000\"> 119.6 </span>│<span style=\"color: #000000; text-decoration-color: #000000\"> 153.3  </span>│<span style=\"color: #000000; text-decoration-color: #000000\"> 503    </span>│<span style=\"color: #000000; text-decoration-color: #000000\"> 41     </span>│<span style=\"color: #000000; text-decoration-color: #000000\"> 65.2   </span>│<span style=\"color: #000000; text-decoration-color: #000000\"> 74     </span>│<span style=\"color: #000000; text-decoration-color: #000000\"> 33.4  </span>│<span style=\"color: #000000; text-decoration-color: #000000\"> 12.1   </span>│<span style=\"color: #000000; text-decoration-color: #000000\"> 108    </span>│<span style=\"color: #000000; text-decoration-color: #000000\"> 14    </span>│\n",
       "│<span style=\"color: #000000; text-decoration-color: #000000\"> REB    </span>│<span style=\"color: #000000; text-decoration-color: #000000\"> 444.8  </span>│<span style=\"color: #000000; text-decoration-color: #000000\"> 492    </span>│<span style=\"color: #000000; text-decoration-color: #000000\"> 154.2 </span>│<span style=\"color: #000000; text-decoration-color: #000000\"> 254.6  </span>│<span style=\"color: #000000; text-decoration-color: #000000\"> 652    </span>│<span style=\"color: #000000; text-decoration-color: #000000\"> 64     </span>│<span style=\"color: #000000; text-decoration-color: #000000\"> 88.6   </span>│<span style=\"color: #000000; text-decoration-color: #000000\"> 107    </span>│<span style=\"color: #000000; text-decoration-color: #000000\"> 43.5  </span>│<span style=\"color: #000000; text-decoration-color: #000000\"> 20.5   </span>│<span style=\"color: #000000; text-decoration-color: #000000\"> 150    </span>│<span style=\"color: #000000; text-decoration-color: #000000\"> 19    </span>│\n",
       "│<span style=\"color: #000000; text-decoration-color: #000000\"> AST    </span>│<span style=\"color: #000000; text-decoration-color: #000000\"> 375.5  </span>│<span style=\"color: #000000; text-decoration-color: #000000\"> 377    </span>│<span style=\"color: #000000; text-decoration-color: #000000\"> 151.5 </span>│<span style=\"color: #000000; text-decoration-color: #000000\"> 246.0  </span>│<span style=\"color: #000000; text-decoration-color: #000000\"> 650    </span>│<span style=\"color: #000000; text-decoration-color: #000000\"> 53     </span>│<span style=\"color: #000000; text-decoration-color: #000000\"> 78.6   </span>│<span style=\"color: #000000; text-decoration-color: #000000\"> 74     </span>│<span style=\"color: #000000; text-decoration-color: #000000\"> 42.0  </span>│<span style=\"color: #000000; text-decoration-color: #000000\"> 19.1   </span>│<span style=\"color: #000000; text-decoration-color: #000000\"> 142    </span>│<span style=\"color: #000000; text-decoration-color: #000000\"> 17    </span>│\n",
       "│<span style=\"color: #000000; text-decoration-color: #000000\"> STL    </span>│<span style=\"color: #000000; text-decoration-color: #000000\"> 167.6  </span>│<span style=\"color: #000000; text-decoration-color: #000000\"> 182    </span>│<span style=\"color: #000000; text-decoration-color: #000000\"> 70.4  </span>│<span style=\"color: #000000; text-decoration-color: #000000\"> 53.1   </span>│<span style=\"color: #000000; text-decoration-color: #000000\"> 259    </span>│<span style=\"color: #000000; text-decoration-color: #000000\"> 30     </span>│<span style=\"color: #000000; text-decoration-color: #000000\"> 28.9   </span>│<span style=\"color: #000000; text-decoration-color: #000000\"> 32     </span>│<span style=\"color: #000000; text-decoration-color: #000000\"> 13.3  </span>│<span style=\"color: #000000; text-decoration-color: #000000\"> 1.9    </span>│<span style=\"color: #000000; text-decoration-color: #000000\"> 45     </span>│<span style=\"color: #000000; text-decoration-color: #000000\"> 6     </span>│\n",
       "│<span style=\"color: #000000; text-decoration-color: #000000\"> BLK    </span>│<span style=\"color: #000000; text-decoration-color: #000000\"> 59.5   </span>│<span style=\"color: #000000; text-decoration-color: #000000\"> 54     </span>│<span style=\"color: #000000; text-decoration-color: #000000\"> 33.0  </span>│<span style=\"color: #000000; text-decoration-color: #000000\"> 11.6   </span>│<span style=\"color: #000000; text-decoration-color: #000000\"> 131    </span>│<span style=\"color: #000000; text-decoration-color: #000000\"> 13     </span>│<span style=\"color: #000000; text-decoration-color: #000000\"> 12.2   </span>│<span style=\"color: #000000; text-decoration-color: #000000\"> 13     </span>│<span style=\"color: #000000; text-decoration-color: #000000\"> 5.4   </span>│<span style=\"color: #000000; text-decoration-color: #000000\"> 0.3    </span>│<span style=\"color: #000000; text-decoration-color: #000000\"> 23     </span>│<span style=\"color: #000000; text-decoration-color: #000000\"> 4     </span>│\n",
       "│<span style=\"color: #000000; text-decoration-color: #000000\"> TOV    </span>│<span style=\"color: #000000; text-decoration-color: #000000\"> 194.9  </span>│<span style=\"color: #000000; text-decoration-color: #000000\"> 200    </span>│<span style=\"color: #000000; text-decoration-color: #000000\"> 73.5  </span>│<span style=\"color: #000000; text-decoration-color: #000000\"> 57.8   </span>│<span style=\"color: #000000; text-decoration-color: #000000\"> 291    </span>│<span style=\"color: #000000; text-decoration-color: #000000\"> 35     </span>│<span style=\"color: #000000; text-decoration-color: #000000\"> 42     </span>│<span style=\"color: #000000; text-decoration-color: #000000\"> 43     </span>│<span style=\"color: #000000; text-decoration-color: #000000\"> 19.9  </span>│<span style=\"color: #000000; text-decoration-color: #000000\"> 4.3    </span>│<span style=\"color: #000000; text-decoration-color: #000000\"> 81     </span>│<span style=\"color: #000000; text-decoration-color: #000000\"> 8     </span>│\n",
       "│<span style=\"color: #000000; text-decoration-color: #000000\"> PF     </span>│<span style=\"color: #000000; text-decoration-color: #000000\"> 185.5  </span>│<span style=\"color: #000000; text-decoration-color: #000000\"> 195    </span>│<span style=\"color: #000000; text-decoration-color: #000000\"> 70.3  </span>│<span style=\"color: #000000; text-decoration-color: #000000\"> 52.9   </span>│<span style=\"color: #000000; text-decoration-color: #000000\"> 285    </span>│<span style=\"color: #000000; text-decoration-color: #000000\"> 46     </span>│<span style=\"color: #000000; text-decoration-color: #000000\"> 41.6   </span>│<span style=\"color: #000000; text-decoration-color: #000000\"> 47     </span>│<span style=\"color: #000000; text-decoration-color: #000000\"> 18.0  </span>│<span style=\"color: #000000; text-decoration-color: #000000\"> 3.5    </span>│<span style=\"color: #000000; text-decoration-color: #000000\"> 65     </span>│<span style=\"color: #000000; text-decoration-color: #000000\"> 11    </span>│\n",
       "└────────┴────────┴────────┴───────┴────────┴────────┴────────┴────────┴────────┴───────┴────────┴────────┴───────┘\n",
       "</pre>\n"
      ],
      "text/plain": [
       "\u001b[3m                                     Medidas de Resumo Michael Jordan RS X PO                                      \u001b[0m\n",
       "┏━━━━━━━━┳━━━━━━━━┳━━━━━━━━┳━━━━━━━┳━━━━━━━━┳━━━━━━━━┳━━━━━━━━┳━━━━━━━━┳━━━━━━━━┳━━━━━━━┳━━━━━━━━┳━━━━━━━━┳━━━━━━━┓\n",
       "┃\u001b[1m \u001b[0m\u001b[1mVARIÁ…\u001b[0m\u001b[1m \u001b[0m┃\u001b[1m \u001b[0m\u001b[1mMÉDIA…\u001b[0m\u001b[1m \u001b[0m┃\u001b[1m \u001b[0m\u001b[1mMEDIA…\u001b[0m\u001b[1m \u001b[0m┃\u001b[1m \u001b[0m\u001b[1mDP_RS\u001b[0m\u001b[1m \u001b[0m┃\u001b[1m \u001b[0m\u001b[1mVAR_R…\u001b[0m\u001b[1m \u001b[0m┃\u001b[1m \u001b[0m\u001b[1mMÁX_RS\u001b[0m\u001b[1m \u001b[0m┃\u001b[1m \u001b[0m\u001b[1mMÍN_RS\u001b[0m\u001b[1m \u001b[0m┃\u001b[1m \u001b[0m\u001b[1mMÉDIA…\u001b[0m\u001b[1m \u001b[0m┃\u001b[1m \u001b[0m\u001b[1mMEDIA…\u001b[0m\u001b[1m \u001b[0m┃\u001b[1m \u001b[0m\u001b[1mDP_PO\u001b[0m\u001b[1m \u001b[0m┃\u001b[1m \u001b[0m\u001b[1mVAR_P…\u001b[0m\u001b[1m \u001b[0m┃\u001b[1m \u001b[0m\u001b[1mMÁX_PO\u001b[0m\u001b[1m \u001b[0m┃\u001b[1m \u001b[0m\u001b[1mMÍN_…\u001b[0m\u001b[1m \u001b[0m┃\n",
       "┡━━━━━━━━╇━━━━━━━━╇━━━━━━━━╇━━━━━━━╇━━━━━━━━╇━━━━━━━━╇━━━━━━━━╇━━━━━━━━╇━━━━━━━━╇━━━━━━━╇━━━━━━━━╇━━━━━━━━╇━━━━━━━┩\n",
       "│\u001b[30m \u001b[0m\u001b[30mGP    \u001b[0m\u001b[30m \u001b[0m│\u001b[30m \u001b[0m\u001b[30m71.5  \u001b[0m\u001b[30m \u001b[0m│\u001b[30m \u001b[0m\u001b[30m82    \u001b[0m\u001b[30m \u001b[0m│\u001b[30m \u001b[0m\u001b[30m21.9 \u001b[0m\u001b[30m \u001b[0m│\u001b[30m \u001b[0m\u001b[30m5.1   \u001b[0m\u001b[30m \u001b[0m│\u001b[30m \u001b[0m\u001b[30m82    \u001b[0m\u001b[30m \u001b[0m│\u001b[30m \u001b[0m\u001b[30m17    \u001b[0m\u001b[30m \u001b[0m│\u001b[30m \u001b[0m\u001b[30m13.8  \u001b[0m\u001b[30m \u001b[0m│\u001b[30m \u001b[0m\u001b[30m17    \u001b[0m\u001b[30m \u001b[0m│\u001b[30m \u001b[0m\u001b[30m6.6  \u001b[0m\u001b[30m \u001b[0m│\u001b[30m \u001b[0m\u001b[30m0.5   \u001b[0m\u001b[30m \u001b[0m│\u001b[30m \u001b[0m\u001b[30m22    \u001b[0m\u001b[30m \u001b[0m│\u001b[30m \u001b[0m\u001b[30m3    \u001b[0m\u001b[30m \u001b[0m│\n",
       "│\u001b[30m \u001b[0m\u001b[30mGS    \u001b[0m\u001b[30m \u001b[0m│\u001b[30m \u001b[0m\u001b[30m69.3  \u001b[0m\u001b[30m \u001b[0m│\u001b[30m \u001b[0m\u001b[30m82    \u001b[0m\u001b[30m \u001b[0m│\u001b[30m \u001b[0m\u001b[30m23.8 \u001b[0m\u001b[30m \u001b[0m│\u001b[30m \u001b[0m\u001b[30m6.1   \u001b[0m\u001b[30m \u001b[0m│\u001b[30m \u001b[0m\u001b[30m82    \u001b[0m\u001b[30m \u001b[0m│\u001b[30m \u001b[0m\u001b[30m7     \u001b[0m\u001b[30m \u001b[0m│\u001b[30m \u001b[0m\u001b[30m13.8  \u001b[0m\u001b[30m \u001b[0m│\u001b[30m \u001b[0m\u001b[30m17    \u001b[0m\u001b[30m \u001b[0m│\u001b[30m \u001b[0m\u001b[30m6.6  \u001b[0m\u001b[30m \u001b[0m│\u001b[30m \u001b[0m\u001b[30m0.5   \u001b[0m\u001b[30m \u001b[0m│\u001b[30m \u001b[0m\u001b[30m22    \u001b[0m\u001b[30m \u001b[0m│\u001b[30m \u001b[0m\u001b[30m3    \u001b[0m\u001b[30m \u001b[0m│\n",
       "│\u001b[30m \u001b[0m\u001b[30mMIN   \u001b[0m\u001b[30m \u001b[0m│\u001b[30m \u001b[0m\u001b[30m2733.9\u001b[0m\u001b[30m \u001b[0m│\u001b[30m \u001b[0m\u001b[30m3102  \u001b[0m\u001b[30m \u001b[0m│\u001b[30m \u001b[0m\u001b[30m897.1\u001b[0m\u001b[30m \u001b[0m│\u001b[30m \u001b[0m\u001b[30m8623.6\u001b[0m\u001b[30m \u001b[0m│\u001b[30m \u001b[0m\u001b[30m3311  \u001b[0m\u001b[30m \u001b[0m│\u001b[30m \u001b[0m\u001b[30m451   \u001b[0m\u001b[30m \u001b[0m│\u001b[30m \u001b[0m\u001b[30m574.9 \u001b[0m\u001b[30m \u001b[0m│\u001b[30m \u001b[0m\u001b[30m689   \u001b[0m\u001b[30m \u001b[0m│\u001b[30m \u001b[0m\u001b[30m273.7\u001b[0m\u001b[30m \u001b[0m│\u001b[30m \u001b[0m\u001b[30m811.4 \u001b[0m\u001b[30m \u001b[0m│\u001b[30m \u001b[0m\u001b[30m920   \u001b[0m\u001b[30m \u001b[0m│\u001b[30m \u001b[0m\u001b[30m128  \u001b[0m\u001b[30m \u001b[0m│\n",
       "│\u001b[30m \u001b[0m\u001b[30mPTS   \u001b[0m\u001b[30m \u001b[0m│\u001b[30m \u001b[0m\u001b[30m2152.8\u001b[0m\u001b[30m \u001b[0m│\u001b[30m \u001b[0m\u001b[30m2431  \u001b[0m\u001b[30m \u001b[0m│\u001b[30m \u001b[0m\u001b[30m788.9\u001b[0m\u001b[30m \u001b[0m│\u001b[30m \u001b[0m\u001b[30m6667.6\u001b[0m\u001b[30m \u001b[0m│\u001b[30m \u001b[0m\u001b[30m3041  \u001b[0m\u001b[30m \u001b[0m│\u001b[30m \u001b[0m\u001b[30m408   \u001b[0m\u001b[30m \u001b[0m│\u001b[30m \u001b[0m\u001b[30m460.5 \u001b[0m\u001b[30m \u001b[0m│\u001b[30m \u001b[0m\u001b[30m552   \u001b[0m\u001b[30m \u001b[0m│\u001b[30m \u001b[0m\u001b[30m219.2\u001b[0m\u001b[30m \u001b[0m│\u001b[30m \u001b[0m\u001b[30m520.5 \u001b[0m\u001b[30m \u001b[0m│\u001b[30m \u001b[0m\u001b[30m759   \u001b[0m\u001b[30m \u001b[0m│\u001b[30m \u001b[0m\u001b[30m107  \u001b[0m\u001b[30m \u001b[0m│\n",
       "│\u001b[30m \u001b[0m\u001b[30mFGM   \u001b[0m\u001b[30m \u001b[0m│\u001b[30m \u001b[0m\u001b[30m812.8 \u001b[0m\u001b[30m \u001b[0m│\u001b[30m \u001b[0m\u001b[30m920   \u001b[0m\u001b[30m \u001b[0m│\u001b[30m \u001b[0m\u001b[30m291.1\u001b[0m\u001b[30m \u001b[0m│\u001b[30m \u001b[0m\u001b[30m908.1 \u001b[0m\u001b[30m \u001b[0m│\u001b[30m \u001b[0m\u001b[30m1098  \u001b[0m\u001b[30m \u001b[0m│\u001b[30m \u001b[0m\u001b[30m150   \u001b[0m\u001b[30m \u001b[0m│\u001b[30m \u001b[0m\u001b[30m168.3 \u001b[0m\u001b[30m \u001b[0m│\u001b[30m \u001b[0m\u001b[30m197   \u001b[0m\u001b[30m \u001b[0m│\u001b[30m \u001b[0m\u001b[30m82.7 \u001b[0m\u001b[30m \u001b[0m│\u001b[30m \u001b[0m\u001b[30m74.1  \u001b[0m\u001b[30m \u001b[0m│\u001b[30m \u001b[0m\u001b[30m290   \u001b[0m\u001b[30m \u001b[0m│\u001b[30m \u001b[0m\u001b[30m34   \u001b[0m\u001b[30m \u001b[0m│\n",
       "│\u001b[30m \u001b[0m\u001b[30mFGA   \u001b[0m\u001b[30m \u001b[0m│\u001b[30m \u001b[0m\u001b[30m1635.8\u001b[0m\u001b[30m \u001b[0m│\u001b[30m \u001b[0m\u001b[30m1837  \u001b[0m\u001b[30m \u001b[0m│\u001b[30m \u001b[0m\u001b[30m541.7\u001b[0m\u001b[30m \u001b[0m│\u001b[30m \u001b[0m\u001b[30m3143.6\u001b[0m\u001b[30m \u001b[0m│\u001b[30m \u001b[0m\u001b[30m2279  \u001b[0m\u001b[30m \u001b[0m│\u001b[30m \u001b[0m\u001b[30m328   \u001b[0m\u001b[30m \u001b[0m│\u001b[30m \u001b[0m\u001b[30m345.9 \u001b[0m\u001b[30m \u001b[0m│\u001b[30m \u001b[0m\u001b[30m390   \u001b[0m\u001b[30m \u001b[0m│\u001b[30m \u001b[0m\u001b[30m170.4\u001b[0m\u001b[30m \u001b[0m│\u001b[30m \u001b[0m\u001b[30m314.4 \u001b[0m\u001b[30m \u001b[0m│\u001b[30m \u001b[0m\u001b[30m581   \u001b[0m\u001b[30m \u001b[0m│\u001b[30m \u001b[0m\u001b[30m78   \u001b[0m\u001b[30m \u001b[0m│\n",
       "│\u001b[30m \u001b[0m\u001b[30mFG%   \u001b[0m\u001b[30m \u001b[0m│\u001b[30m \u001b[0m\u001b[30m48.8  \u001b[0m\u001b[30m \u001b[0m│\u001b[30m \u001b[0m\u001b[30m49.5  \u001b[0m\u001b[30m \u001b[0m│\u001b[30m \u001b[0m\u001b[30m4.1  \u001b[0m\u001b[30m \u001b[0m│\u001b[30m \u001b[0m\u001b[30m0.2   \u001b[0m\u001b[30m \u001b[0m│\u001b[30m \u001b[0m\u001b[30m53.9  \u001b[0m\u001b[30m \u001b[0m│\u001b[30m \u001b[0m\u001b[30m41.1  \u001b[0m\u001b[30m \u001b[0m│\u001b[30m \u001b[0m\u001b[30m48.2  \u001b[0m\u001b[30m \u001b[0m│\u001b[30m \u001b[0m\u001b[30m48.4  \u001b[0m\u001b[30m \u001b[0m│\u001b[30m \u001b[0m\u001b[30m3.4  \u001b[0m\u001b[30m \u001b[0m│\u001b[30m \u001b[0m\u001b[30m0.1   \u001b[0m\u001b[30m \u001b[0m│\u001b[30m \u001b[0m\u001b[30m53.1  \u001b[0m\u001b[30m \u001b[0m│\u001b[30m \u001b[0m\u001b[30m41.7 \u001b[0m\u001b[30m \u001b[0m│\n",
       "│\u001b[30m \u001b[0m\u001b[30m3PM   \u001b[0m\u001b[30m \u001b[0m│\u001b[30m \u001b[0m\u001b[30m38.7  \u001b[0m\u001b[30m \u001b[0m│\u001b[30m \u001b[0m\u001b[30m27    \u001b[0m\u001b[30m \u001b[0m│\u001b[30m \u001b[0m\u001b[30m37.6 \u001b[0m\u001b[30m \u001b[0m│\u001b[30m \u001b[0m\u001b[30m15.2  \u001b[0m\u001b[30m \u001b[0m│\u001b[30m \u001b[0m\u001b[30m111   \u001b[0m\u001b[30m \u001b[0m│\u001b[30m \u001b[0m\u001b[30m3     \u001b[0m\u001b[30m \u001b[0m│\u001b[30m \u001b[0m\u001b[30m11.4  \u001b[0m\u001b[30m \u001b[0m│\u001b[30m \u001b[0m\u001b[30m11    \u001b[0m\u001b[30m \u001b[0m│\u001b[30m \u001b[0m\u001b[30m8.5  \u001b[0m\u001b[30m \u001b[0m│\u001b[30m \u001b[0m\u001b[30m0.8   \u001b[0m\u001b[30m \u001b[0m│\u001b[30m \u001b[0m\u001b[30m28    \u001b[0m\u001b[30m \u001b[0m│\u001b[30m \u001b[0m\u001b[30m1    \u001b[0m\u001b[30m \u001b[0m│\n",
       "│\u001b[30m \u001b[0m\u001b[30m3PA   \u001b[0m\u001b[30m \u001b[0m│\u001b[30m \u001b[0m\u001b[30m118.5 \u001b[0m\u001b[30m \u001b[0m│\u001b[30m \u001b[0m\u001b[30m93    \u001b[0m\u001b[30m \u001b[0m│\u001b[30m \u001b[0m\u001b[30m89.1 \u001b[0m\u001b[30m \u001b[0m│\u001b[30m \u001b[0m\u001b[30m85.1  \u001b[0m\u001b[30m \u001b[0m│\u001b[30m \u001b[0m\u001b[30m297   \u001b[0m\u001b[30m \u001b[0m│\u001b[30m \u001b[0m\u001b[30m18    \u001b[0m\u001b[30m \u001b[0m│\u001b[30m \u001b[0m\u001b[30m34.3  \u001b[0m\u001b[30m \u001b[0m│\u001b[30m \u001b[0m\u001b[30m35    \u001b[0m\u001b[30m \u001b[0m│\u001b[30m \u001b[0m\u001b[30m23.9 \u001b[0m\u001b[30m \u001b[0m│\u001b[30m \u001b[0m\u001b[30m6.2   \u001b[0m\u001b[30m \u001b[0m│\u001b[30m \u001b[0m\u001b[30m72    \u001b[0m\u001b[30m \u001b[0m│\u001b[30m \u001b[0m\u001b[30m1    \u001b[0m\u001b[30m \u001b[0m│\n",
       "│\u001b[30m \u001b[0m\u001b[30m3P%   \u001b[0m\u001b[30m \u001b[0m│\u001b[30m \u001b[0m\u001b[30m28.4  \u001b[0m\u001b[30m \u001b[0m│\u001b[30m \u001b[0m\u001b[30m27.6  \u001b[0m\u001b[30m \u001b[0m│\u001b[30m \u001b[0m\u001b[30m10.3 \u001b[0m\u001b[30m \u001b[0m│\u001b[30m \u001b[0m\u001b[30m1.1   \u001b[0m\u001b[30m \u001b[0m│\u001b[30m \u001b[0m\u001b[30m50.0  \u001b[0m\u001b[30m \u001b[0m│\u001b[30m \u001b[0m\u001b[30m13.2  \u001b[0m\u001b[30m \u001b[0m│\u001b[30m \u001b[0m\u001b[30m37.6  \u001b[0m\u001b[30m \u001b[0m│\u001b[30m \u001b[0m\u001b[30m36.7  \u001b[0m\u001b[30m \u001b[0m│\u001b[30m \u001b[0m\u001b[30m19.7 \u001b[0m\u001b[30m \u001b[0m│\u001b[30m \u001b[0m\u001b[30m4.2   \u001b[0m\u001b[30m \u001b[0m│\u001b[30m \u001b[0m\u001b[30m100.0 \u001b[0m\u001b[30m \u001b[0m│\u001b[30m \u001b[0m\u001b[30m12.5 \u001b[0m\u001b[30m \u001b[0m│\n",
       "│\u001b[30m \u001b[0m\u001b[30mFTM   \u001b[0m\u001b[30m \u001b[0m│\u001b[30m \u001b[0m\u001b[30m488.5 \u001b[0m\u001b[30m \u001b[0m│\u001b[30m \u001b[0m\u001b[30m548   \u001b[0m\u001b[30m \u001b[0m│\u001b[30m \u001b[0m\u001b[30m207.7\u001b[0m\u001b[30m \u001b[0m│\u001b[30m \u001b[0m\u001b[30m462.1 \u001b[0m\u001b[30m \u001b[0m│\u001b[30m \u001b[0m\u001b[30m833   \u001b[0m\u001b[30m \u001b[0m│\u001b[30m \u001b[0m\u001b[30m105   \u001b[0m\u001b[30m \u001b[0m│\u001b[30m \u001b[0m\u001b[30m112.5 \u001b[0m\u001b[30m \u001b[0m│\u001b[30m \u001b[0m\u001b[30m125   \u001b[0m\u001b[30m \u001b[0m│\u001b[30m \u001b[0m\u001b[30m51.4 \u001b[0m\u001b[30m \u001b[0m│\u001b[30m \u001b[0m\u001b[30m28.6  \u001b[0m\u001b[30m \u001b[0m│\u001b[30m \u001b[0m\u001b[30m183   \u001b[0m\u001b[30m \u001b[0m│\u001b[30m \u001b[0m\u001b[30m34   \u001b[0m\u001b[30m \u001b[0m│\n",
       "│\u001b[30m \u001b[0m\u001b[30mFTA   \u001b[0m\u001b[30m \u001b[0m│\u001b[30m \u001b[0m\u001b[30m584.8 \u001b[0m\u001b[30m \u001b[0m│\u001b[30m \u001b[0m\u001b[30m657   \u001b[0m\u001b[30m \u001b[0m│\u001b[30m \u001b[0m\u001b[30m242.7\u001b[0m\u001b[30m \u001b[0m│\u001b[30m \u001b[0m\u001b[30m631.3 \u001b[0m\u001b[30m \u001b[0m│\u001b[30m \u001b[0m\u001b[30m972   \u001b[0m\u001b[30m \u001b[0m│\u001b[30m \u001b[0m\u001b[30m125   \u001b[0m\u001b[30m \u001b[0m│\u001b[30m \u001b[0m\u001b[30m135.8 \u001b[0m\u001b[30m \u001b[0m│\u001b[30m \u001b[0m\u001b[30m148   \u001b[0m\u001b[30m \u001b[0m│\u001b[30m \u001b[0m\u001b[30m63.9 \u001b[0m\u001b[30m \u001b[0m│\u001b[30m \u001b[0m\u001b[30m44.2  \u001b[0m\u001b[30m \u001b[0m│\u001b[30m \u001b[0m\u001b[30m229   \u001b[0m\u001b[30m \u001b[0m│\u001b[30m \u001b[0m\u001b[30m39   \u001b[0m\u001b[30m \u001b[0m│\n",
       "│\u001b[30m \u001b[0m\u001b[30mFT%   \u001b[0m\u001b[30m \u001b[0m│\u001b[30m \u001b[0m\u001b[30m83.1  \u001b[0m\u001b[30m \u001b[0m│\u001b[30m \u001b[0m\u001b[30m83.7  \u001b[0m\u001b[30m \u001b[0m│\u001b[30m \u001b[0m\u001b[30m2.2  \u001b[0m\u001b[30m \u001b[0m│\u001b[30m \u001b[0m\u001b[30m0.1   \u001b[0m\u001b[30m \u001b[0m│\u001b[30m \u001b[0m\u001b[30m85.7  \u001b[0m\u001b[30m \u001b[0m│\u001b[30m \u001b[0m\u001b[30m78.4  \u001b[0m\u001b[30m \u001b[0m│\u001b[30m \u001b[0m\u001b[30m83.7  \u001b[0m\u001b[30m \u001b[0m│\u001b[30m \u001b[0m\u001b[30m83.1  \u001b[0m\u001b[30m \u001b[0m│\u001b[30m \u001b[0m\u001b[30m2.9  \u001b[0m\u001b[30m \u001b[0m│\u001b[30m \u001b[0m\u001b[30m0.1   \u001b[0m\u001b[30m \u001b[0m│\u001b[30m \u001b[0m\u001b[30m89.7  \u001b[0m\u001b[30m \u001b[0m│\u001b[30m \u001b[0m\u001b[30m79.9 \u001b[0m\u001b[30m \u001b[0m│\n",
       "│\u001b[30m \u001b[0m\u001b[30mOREB  \u001b[0m\u001b[30m \u001b[0m│\u001b[30m \u001b[0m\u001b[30m111.2 \u001b[0m\u001b[30m \u001b[0m│\u001b[30m \u001b[0m\u001b[30m130   \u001b[0m\u001b[30m \u001b[0m│\u001b[30m \u001b[0m\u001b[30m46.6 \u001b[0m\u001b[30m \u001b[0m│\u001b[30m \u001b[0m\u001b[30m23.3  \u001b[0m\u001b[30m \u001b[0m│\u001b[30m \u001b[0m\u001b[30m167   \u001b[0m\u001b[30m \u001b[0m│\u001b[30m \u001b[0m\u001b[30m23    \u001b[0m\u001b[30m \u001b[0m│\u001b[30m \u001b[0m\u001b[30m23.5  \u001b[0m\u001b[30m \u001b[0m│\u001b[30m \u001b[0m\u001b[30m24    \u001b[0m\u001b[30m \u001b[0m│\u001b[30m \u001b[0m\u001b[30m11.4 \u001b[0m\u001b[30m \u001b[0m│\u001b[30m \u001b[0m\u001b[30m1.4   \u001b[0m\u001b[30m \u001b[0m│\u001b[30m \u001b[0m\u001b[30m42    \u001b[0m\u001b[30m \u001b[0m│\u001b[30m \u001b[0m\u001b[30m5    \u001b[0m\u001b[30m \u001b[0m│\n",
       "│\u001b[30m \u001b[0m\u001b[30mDREB  \u001b[0m\u001b[30m \u001b[0m│\u001b[30m \u001b[0m\u001b[30m333.6 \u001b[0m\u001b[30m \u001b[0m│\u001b[30m \u001b[0m\u001b[30m369   \u001b[0m\u001b[30m \u001b[0m│\u001b[30m \u001b[0m\u001b[30m119.6\u001b[0m\u001b[30m \u001b[0m│\u001b[30m \u001b[0m\u001b[30m153.3 \u001b[0m\u001b[30m \u001b[0m│\u001b[30m \u001b[0m\u001b[30m503   \u001b[0m\u001b[30m \u001b[0m│\u001b[30m \u001b[0m\u001b[30m41    \u001b[0m\u001b[30m \u001b[0m│\u001b[30m \u001b[0m\u001b[30m65.2  \u001b[0m\u001b[30m \u001b[0m│\u001b[30m \u001b[0m\u001b[30m74    \u001b[0m\u001b[30m \u001b[0m│\u001b[30m \u001b[0m\u001b[30m33.4 \u001b[0m\u001b[30m \u001b[0m│\u001b[30m \u001b[0m\u001b[30m12.1  \u001b[0m\u001b[30m \u001b[0m│\u001b[30m \u001b[0m\u001b[30m108   \u001b[0m\u001b[30m \u001b[0m│\u001b[30m \u001b[0m\u001b[30m14   \u001b[0m\u001b[30m \u001b[0m│\n",
       "│\u001b[30m \u001b[0m\u001b[30mREB   \u001b[0m\u001b[30m \u001b[0m│\u001b[30m \u001b[0m\u001b[30m444.8 \u001b[0m\u001b[30m \u001b[0m│\u001b[30m \u001b[0m\u001b[30m492   \u001b[0m\u001b[30m \u001b[0m│\u001b[30m \u001b[0m\u001b[30m154.2\u001b[0m\u001b[30m \u001b[0m│\u001b[30m \u001b[0m\u001b[30m254.6 \u001b[0m\u001b[30m \u001b[0m│\u001b[30m \u001b[0m\u001b[30m652   \u001b[0m\u001b[30m \u001b[0m│\u001b[30m \u001b[0m\u001b[30m64    \u001b[0m\u001b[30m \u001b[0m│\u001b[30m \u001b[0m\u001b[30m88.6  \u001b[0m\u001b[30m \u001b[0m│\u001b[30m \u001b[0m\u001b[30m107   \u001b[0m\u001b[30m \u001b[0m│\u001b[30m \u001b[0m\u001b[30m43.5 \u001b[0m\u001b[30m \u001b[0m│\u001b[30m \u001b[0m\u001b[30m20.5  \u001b[0m\u001b[30m \u001b[0m│\u001b[30m \u001b[0m\u001b[30m150   \u001b[0m\u001b[30m \u001b[0m│\u001b[30m \u001b[0m\u001b[30m19   \u001b[0m\u001b[30m \u001b[0m│\n",
       "│\u001b[30m \u001b[0m\u001b[30mAST   \u001b[0m\u001b[30m \u001b[0m│\u001b[30m \u001b[0m\u001b[30m375.5 \u001b[0m\u001b[30m \u001b[0m│\u001b[30m \u001b[0m\u001b[30m377   \u001b[0m\u001b[30m \u001b[0m│\u001b[30m \u001b[0m\u001b[30m151.5\u001b[0m\u001b[30m \u001b[0m│\u001b[30m \u001b[0m\u001b[30m246.0 \u001b[0m\u001b[30m \u001b[0m│\u001b[30m \u001b[0m\u001b[30m650   \u001b[0m\u001b[30m \u001b[0m│\u001b[30m \u001b[0m\u001b[30m53    \u001b[0m\u001b[30m \u001b[0m│\u001b[30m \u001b[0m\u001b[30m78.6  \u001b[0m\u001b[30m \u001b[0m│\u001b[30m \u001b[0m\u001b[30m74    \u001b[0m\u001b[30m \u001b[0m│\u001b[30m \u001b[0m\u001b[30m42.0 \u001b[0m\u001b[30m \u001b[0m│\u001b[30m \u001b[0m\u001b[30m19.1  \u001b[0m\u001b[30m \u001b[0m│\u001b[30m \u001b[0m\u001b[30m142   \u001b[0m\u001b[30m \u001b[0m│\u001b[30m \u001b[0m\u001b[30m17   \u001b[0m\u001b[30m \u001b[0m│\n",
       "│\u001b[30m \u001b[0m\u001b[30mSTL   \u001b[0m\u001b[30m \u001b[0m│\u001b[30m \u001b[0m\u001b[30m167.6 \u001b[0m\u001b[30m \u001b[0m│\u001b[30m \u001b[0m\u001b[30m182   \u001b[0m\u001b[30m \u001b[0m│\u001b[30m \u001b[0m\u001b[30m70.4 \u001b[0m\u001b[30m \u001b[0m│\u001b[30m \u001b[0m\u001b[30m53.1  \u001b[0m\u001b[30m \u001b[0m│\u001b[30m \u001b[0m\u001b[30m259   \u001b[0m\u001b[30m \u001b[0m│\u001b[30m \u001b[0m\u001b[30m30    \u001b[0m\u001b[30m \u001b[0m│\u001b[30m \u001b[0m\u001b[30m28.9  \u001b[0m\u001b[30m \u001b[0m│\u001b[30m \u001b[0m\u001b[30m32    \u001b[0m\u001b[30m \u001b[0m│\u001b[30m \u001b[0m\u001b[30m13.3 \u001b[0m\u001b[30m \u001b[0m│\u001b[30m \u001b[0m\u001b[30m1.9   \u001b[0m\u001b[30m \u001b[0m│\u001b[30m \u001b[0m\u001b[30m45    \u001b[0m\u001b[30m \u001b[0m│\u001b[30m \u001b[0m\u001b[30m6    \u001b[0m\u001b[30m \u001b[0m│\n",
       "│\u001b[30m \u001b[0m\u001b[30mBLK   \u001b[0m\u001b[30m \u001b[0m│\u001b[30m \u001b[0m\u001b[30m59.5  \u001b[0m\u001b[30m \u001b[0m│\u001b[30m \u001b[0m\u001b[30m54    \u001b[0m\u001b[30m \u001b[0m│\u001b[30m \u001b[0m\u001b[30m33.0 \u001b[0m\u001b[30m \u001b[0m│\u001b[30m \u001b[0m\u001b[30m11.6  \u001b[0m\u001b[30m \u001b[0m│\u001b[30m \u001b[0m\u001b[30m131   \u001b[0m\u001b[30m \u001b[0m│\u001b[30m \u001b[0m\u001b[30m13    \u001b[0m\u001b[30m \u001b[0m│\u001b[30m \u001b[0m\u001b[30m12.2  \u001b[0m\u001b[30m \u001b[0m│\u001b[30m \u001b[0m\u001b[30m13    \u001b[0m\u001b[30m \u001b[0m│\u001b[30m \u001b[0m\u001b[30m5.4  \u001b[0m\u001b[30m \u001b[0m│\u001b[30m \u001b[0m\u001b[30m0.3   \u001b[0m\u001b[30m \u001b[0m│\u001b[30m \u001b[0m\u001b[30m23    \u001b[0m\u001b[30m \u001b[0m│\u001b[30m \u001b[0m\u001b[30m4    \u001b[0m\u001b[30m \u001b[0m│\n",
       "│\u001b[30m \u001b[0m\u001b[30mTOV   \u001b[0m\u001b[30m \u001b[0m│\u001b[30m \u001b[0m\u001b[30m194.9 \u001b[0m\u001b[30m \u001b[0m│\u001b[30m \u001b[0m\u001b[30m200   \u001b[0m\u001b[30m \u001b[0m│\u001b[30m \u001b[0m\u001b[30m73.5 \u001b[0m\u001b[30m \u001b[0m│\u001b[30m \u001b[0m\u001b[30m57.8  \u001b[0m\u001b[30m \u001b[0m│\u001b[30m \u001b[0m\u001b[30m291   \u001b[0m\u001b[30m \u001b[0m│\u001b[30m \u001b[0m\u001b[30m35    \u001b[0m\u001b[30m \u001b[0m│\u001b[30m \u001b[0m\u001b[30m42    \u001b[0m\u001b[30m \u001b[0m│\u001b[30m \u001b[0m\u001b[30m43    \u001b[0m\u001b[30m \u001b[0m│\u001b[30m \u001b[0m\u001b[30m19.9 \u001b[0m\u001b[30m \u001b[0m│\u001b[30m \u001b[0m\u001b[30m4.3   \u001b[0m\u001b[30m \u001b[0m│\u001b[30m \u001b[0m\u001b[30m81    \u001b[0m\u001b[30m \u001b[0m│\u001b[30m \u001b[0m\u001b[30m8    \u001b[0m\u001b[30m \u001b[0m│\n",
       "│\u001b[30m \u001b[0m\u001b[30mPF    \u001b[0m\u001b[30m \u001b[0m│\u001b[30m \u001b[0m\u001b[30m185.5 \u001b[0m\u001b[30m \u001b[0m│\u001b[30m \u001b[0m\u001b[30m195   \u001b[0m\u001b[30m \u001b[0m│\u001b[30m \u001b[0m\u001b[30m70.3 \u001b[0m\u001b[30m \u001b[0m│\u001b[30m \u001b[0m\u001b[30m52.9  \u001b[0m\u001b[30m \u001b[0m│\u001b[30m \u001b[0m\u001b[30m285   \u001b[0m\u001b[30m \u001b[0m│\u001b[30m \u001b[0m\u001b[30m46    \u001b[0m\u001b[30m \u001b[0m│\u001b[30m \u001b[0m\u001b[30m41.6  \u001b[0m\u001b[30m \u001b[0m│\u001b[30m \u001b[0m\u001b[30m47    \u001b[0m\u001b[30m \u001b[0m│\u001b[30m \u001b[0m\u001b[30m18.0 \u001b[0m\u001b[30m \u001b[0m│\u001b[30m \u001b[0m\u001b[30m3.5   \u001b[0m\u001b[30m \u001b[0m│\u001b[30m \u001b[0m\u001b[30m65    \u001b[0m\u001b[30m \u001b[0m│\u001b[30m \u001b[0m\u001b[30m11   \u001b[0m\u001b[30m \u001b[0m│\n",
       "└────────┴────────┴────────┴───────┴────────┴────────┴────────┴────────┴────────┴───────┴────────┴────────┴───────┘\n"
      ]
     },
     "metadata": {},
     "output_type": "display_data"
    }
   ],
   "source": [
    "funcoes_estatistica.medidas_de_resumo(jordan_df_rs, jordan_df_po, lista_variaveis_quant, \"Medidas de Resumo Michael Jordan RS X PO\")"
   ]
  },
  {
   "cell_type": "markdown",
   "id": "60f183a1-73ba-40f0-8378-f7f59a70e390",
   "metadata": {},
   "source": [
    "* **GP**: No critério de jogos disputados, LeBron e Jordan disputaram praticamente o mesmo número de jogos por temporada ao longo da carreira, porém a constância do LeBron é maior, uma vez que a sua variância e o seu desvio padrão são menores que o do Jordan. Quando o assunto é playoffs, LeBron leva uma grande vantagem. \n",
    "* **GP**: No critério de jogos como titular, a situação é a mesma. Na temporada regular, existe certa disputa entre James e Jordan, porém contando a constância maior de LeBron e melhores números nos playoffs, fica claro que LeBron leva vantagem. Vale destacar que Kobe Bryant não entra sequer na disputa, muito por conta de suas lesões. Por exemplo, Lebron e Jordan começaram todos os jogos de playoffs na carreira, Kobe foi reserva em alguns jogos e perdeu muitos outros na temporada regular.\n",
    "* **MIN**: O normal, até porque estão relacionados, é que os minutos acompanhem os números de jogos. Isso de fato é visto. Assim como nas análises acima, contando a temporada regular e os playoffs, quem leva vantagem é LeBron \"King\" James. Analisando essas três variáveis, a conclusão é que a condição atlética de LeBron é um grande destaque e isso pode explicar a sua grande longevidade, que já foi destacada acima.\n",
    "* **PTS**: Esse talvez seja um dos principais critérios, pois são os pontos que decidem jogos. Antes de analisar os números, é válido lembrar, que na temporada 2022-23, LeBron ultrapassou Kareem Abdul-Jabbar como maior pontuador da história da liga. Porém, quando olhamos para os pontos na temporada regular, Jordan leva vantagem, nos playoffs a vantagem é de LeBron. Kobe, por sua vez, fica um pouco pra trás em relação aos outros dois. Analisando os fatos, considerando que as diferenças são mínimas entre os dois, podemos considerá-los igualmente letais, ou favorecer James por ter essa grande marca de maior pontuador da história. Eu daria a vitória para LeBron James pela constância, expressa na variância e no desvio padrão, e pelo recorde citado acima.\n",
    "* **FGM**: O número de arremessos convertidos por jogo pode não ser muito importante, o ideal é analisar a porcentagem de acerto. Assim, será possível identificar qual dos três jogadores é o melhor arremessador de quadra.\n",
    "* **FGA**: Novamente, o número de arremessos tentado pode indicar muito pouco, talvez apenas que aquele jogador é de fato o centro dos arremessos do time. Como todos eles foram referências absolutas em todas as suas equipes, eles eram de fato os principais arremessadores da equipe. Quem tentava mais arremessos dentre os três era o Jordan, mas a diferença não significa muita coisa. \n",
    "* **FG%**: Esse dado sim pode ser um grande indicador. Analisando apenas a média de aproveitamento, vemos que LeBron James possui o melhor aproveitamento, com cerca de 50%. Além disso é o mais contante, ou seja, manteve praticamente a mesma média durante toda a carreira. Isso pode explicar, talvez, o fato dele ser ligeiramente um melhor pontuador que o Jordan. \n",
    "* **3PM**: Diferente dos arremessos de quadra, é possível tirar uma boa conclusão do número de arremessos de três pontos convertidos. Analisando os dados, Kobe e LeBron se destacam, mas novamente James leva vantagem. Portanto, teoricamente, ele é o que joga mais fora do garrafão e longe da cesta. Isso torna ainda mais impressionante o seu número de pontos, uma vez que pontuar de mais longe é algo bem mais difícil.\n",
    "* **3PA**: Como era de se esperar pela análise acima, LeBron é o que mais tenta arremessos de três pontos. Inicialmente, isso não indica muita coisa, apenas que ele é o que mais tenta os arremessos. Isso corrobora ainda mais para a tese levantada acima. \n",
    "* **3P%**: Esse critério, de fato, pode indicar quais dos três foi o melhor arremessador de três. Vale destacar o que nenhum deles tinha como grande característica o arremesso de três. Existem vários jogadores ao longo da história, com carreiras bem menos brilhantes, que possuem aproveitamento melhor. Porém, analisando apenas os três, o melhor aproveitamento é o do LeBron, quase 35%, como dito anteriormente, não é nada grandioso, mas fica longe de ser ruim. LeBron por exemplo tem várias bolas de três importantes. \n",
    "* **FTM**: O número de lances livres convertido pode não dizer muita coisa, portanto vou seguara as análises mais profundas para as variáveis a seguir. \n",
    "* **FTA**: Analisando o número de arremessos de lances livres tentados, podemos de alguma forma, mensurar quais dos times sofriam mais faltas. Não necessariamente teremos grande precisão, pois temos vários tipos de falta, mas pode ser um indicativo. Quem se destaca nesse fator é o Jordan. \n",
    "* **FT%**: No aproveitamento dos lances livres, temos uma disputa acirradíssima entre Kobe e Jordan. Porém, vemos que o Kobe leva uma ligeira vantagem, além de ser o mais constante. Portanto, nos lances livres, que são parte fundamental do jogo, o mais confiável era Kobe Bryant. Esse é o primeiro critério em que Kobe leva vantagem sobre os demais. \n",
    "* **OREB**: Nos rebotes ofensivos a análise é bem simples. Michael Jordan leva uma vantagem confortável sobre os outros dois. Uma ressalva importante é de que nenhum deles são pivôs, que são os maiores e mais fortes jogadores em quadra, que lutam por esse tipo de bola. \n",
    "* **DREB**: Nos rebotes defensivos, temos LeBron James como o maior contribuidor disparado. Isso aponta para um compromentimento defesivo bem maior que os outros dois atletas. Apenas reforçando a ideia, que é defendida por alguns, de que LeBron James é o jogador mais completo da história do basquete, uma vez que como já vimos ele é um grande atleta ofensivo e os números apontam para um grande atleta defensivo.\n",
    "* **REB**: Nos rebotes gerais, LeBron vai levar vantagem. Muito por sua destacável contribuição defensiva que o destacae o difere de Michael Jordan e Kobe Bryant.  \n",
    "* **AST**: Analisando de maneira simples, como essa análise pede, LeBron James é de longe o maior assitente. Isso corrobora para a nossa tese de que ele é extremamente completo. Além de ser um grande pontuador e ter uma boa contribuição defensiva, ele é um grande assistente. Isso aponta para o fato de que James é um grande tomador de decisão e joga para o time, saber a hora de arremessar ou passar a bola é uma das principais valências de um jogador de basquete, além de ser extremamente rara. \n",
    "* **STL**: No número de roubadas de bola, temos algo surpreendente. Michael Jordan se destaca nas roubadas de bola de maneira impressionante. Apontando para uma contribuição relevante do jordan na fase defensiva, talvez não tão grande quanto à do LeBron, mas relevante. \n",
    "* **BLK**: Nos bloqueios, popularmente conhecidos como \"tocos\", Jordan novamente se destaca, dessa vez com uma vantagem pequena em relação a James, mas mesmo assim à frente. Kobe fica em terceiro lugar nessas estatísticas defensivas, podemos tentar explicar isso pelo fato dele ser o menos prvilegiado atleticamente entre os três.\n",
    "* **TOV**: Nas perdas de bola, que é uma parte negativa, temos LeBron como o que cuida pior da bola. Quase 250 perdas de bola por temporada regular e 65 nos playoffs é um número de fato impressionante. Talvez seja possível explicar pelo fato de que a estrela do time, assim como em todos os esportes, é o personagem que tenta as jogadas mais difíceis e fica mais vunerável à perdas de bola.\n",
    "* **PF**: Nas faltas pessoais temos algo diferente, Kobe se destaca negativamente nos playoffs e Jordan na temporada regular. Porém, a diferença é mínima nos playoffs e muito maior na temporada regular, portanto, podemos afirmar que Michael Jordan é o principal cometedor de faltas dentre os três."
   ]
  },
  {
   "cell_type": "markdown",
   "id": "d1a00684-efad-4423-994c-6638765a1c04",
   "metadata": {},
   "source": [
    "### Análise Bidimensional dos Dados:"
   ]
  },
  {
   "cell_type": "markdown",
   "id": "146114fc-dd07-494f-8dda-b49fa4cdfd23",
   "metadata": {},
   "source": [
    "#### Idade X Média de Pontos:"
   ]
  },
  {
   "cell_type": "markdown",
   "id": "161e3f3d-810d-463b-8a68-bf23c165cd0c",
   "metadata": {},
   "source": [
    "##### Temporada Regular:"
   ]
  },
  {
   "cell_type": "markdown",
   "id": "37579727-186d-4b18-becb-553d8b95f91d",
   "metadata": {},
   "source": [
    "![Gráfico de Correlação Média de Pontos Por Jogo (Regular Season) / Idade](imagens/graf_1.png \"Primeiro Gráfico\")"
   ]
  },
  {
   "cell_type": "markdown",
   "id": "153b3791-3502-4802-a6cd-e465c2995d01",
   "metadata": {},
   "source": [
    "##### Playoffs:"
   ]
  },
  {
   "cell_type": "markdown",
   "id": "dd648f53-ac2e-43ab-a911-190d2d753ea4",
   "metadata": {},
   "source": [
    "![Gráfico de Correlação Média de Pontos Por Jogo (Playoffs) / Idade](imagens/graf_2.png \"Primeiro Gráfico\")"
   ]
  },
  {
   "cell_type": "markdown",
   "id": "6f84fc84-2386-4d66-94d0-3c6453b31218",
   "metadata": {},
   "source": [
    "Antes de tudo, quero destacar que a linha pontilhada, ou \"target line, foi uma opção gráfica minha para conseguir visualizar melhor em quais temporadas eles de fato alcançaram uma marca expressiva, esse recursp foi utilizado em todos os gráficos, no caso dos pontos a linha está nos 30 pontos por jogo, uma marca extremamente impressionante e digna de todos os louros. Compreendo que o gráfico de linhas seja o mais recomendado para visualizar a passagem do tempo, mas como eu queria dar um destaque para os times com as cores, o gráfico de linhas não ficava legal, portanto apenas no caso dos pontos eu preferi o gráfico de dispersão. Primeiramente, gostaria de destacar que nesse gráfico não estamos analisando o número de pontos totais por temporada, como foi feito na análise unidimensional, estamos analisando a média de pontos por partida. Isso gera uma análise um pouco diferente da análise já feita. Primeiramente, temos que destacar que todos tem ótimos números e por isso estão nessa análise, mas vamos ser um pouco mais criteriosos. Olhando friamente para as médias, Jordan é o que possui melhores médias ao longo da carreira, tanto em temporada regular, quanto em playoffs. Porém, quando olhamos para a regularidade, vemos que LeBron leva vatagem, sua média de pontuação ao longo da temporada regular é extremamente constante, algo que já constatamos acima. Contudo, nos playoffs, Jordan foi ainda mais constante, com apenas uma temporada abaixo de 30 pontos. Vemos na média de pontos, de fato, o vencedor seria Jordan. Para finalizar, faço um ponto para a carreira do Kobe, que claramente possui uma curva no formato de pico. Isso incida que quando mais novo não tinha números tão expressivos, evoluiu e atingiu seu melhor momento por volta dos 25 anos, e iniciou seu declínio a partir dos 30 anos. "
   ]
  },
  {
   "cell_type": "markdown",
   "id": "676d9347-9858-459b-ac36-1d512e2ae6b4",
   "metadata": {},
   "source": [
    "#### Idade X Média de Assistências:"
   ]
  },
  {
   "cell_type": "markdown",
   "id": "7b7e56af-279e-4167-b81a-2a920b7e35cd",
   "metadata": {},
   "source": [
    "![Gráfico de Correlação Média de Assistência Por Jogo (Temporada Regular) / Idade](imagens/graf_3.png \"Primeiro Gráfico\")"
   ]
  },
  {
   "cell_type": "markdown",
   "id": "4872b119-317c-4e1b-9905-59186184983a",
   "metadata": {
    "tags": []
   },
   "source": [
    "![Gráfico de Correlação Média de Assistência Por Jogo (Playoffs) / Idade](imagens/graf_4.png \"Primeiro Gráfico\")"
   ]
  },
  {
   "cell_type": "markdown",
   "id": "2f856b70-84e6-4201-811f-1855044327f9",
   "metadata": {},
   "source": [
    "Inicialmente, destaco que a linha pontilhada representa 7 assistências por jogo. Essa marca não é algo gritante, mas é extremamente relevante. Analisando as curvas, vemos que novamente, Kobe Bryant não consegue disputar com Michael e LeBron. Olhando apenas para os dois, podemos perceber que na grande maioria do tempo, James leva grande vantagem sobre Jordan. Contatação que apenas reforça a nossa tese explicitada acima de que, dentre os jogadores analisados, LeBron era o melhor passador. Isso fica bem claro. Outro fato interessante é que o pico do Michael Jordan foi entre 25-30 anos, o do LeBron foi depois dos 30 anos. A partir disso podemos, mais uma vez, valorizar sua longevidade e ressaltar que o seu jogo amadureceu, pois como explicamos acima, para uma estrela, distribuir assistências significa tomar a decisão correta, uma vez que esperamos principalmente pontos de jogadores desse calibre. "
   ]
  },
  {
   "cell_type": "markdown",
   "id": "22a32ed9-7b5f-454a-8ce2-01c4dfdce15f",
   "metadata": {},
   "source": [
    "#### Idade X Média de Rebotes:"
   ]
  },
  {
   "cell_type": "markdown",
   "id": "9b7e4920-2821-4a5c-b60b-ffdaf0607a07",
   "metadata": {},
   "source": [
    "![Gráfico de Correlação Média de Rebotes Por Jogo (Playoffs) / Idade](imagens/graf_5.png \"Primeiro Gráfico\")"
   ]
  },
  {
   "cell_type": "markdown",
   "id": "d0806ed2-8978-4fb3-af13-285bc89592e1",
   "metadata": {},
   "source": [
    "![Gráfico de Correlação Média de Rebotes Por Jogo (Playoffs) / Idade](imagens/graf_6.png \"Primeiro Gráfico\")"
   ]
  },
  {
   "cell_type": "markdown",
   "id": "b5b8f41a-81e4-474e-b9ae-4953a72a69ff",
   "metadata": {},
   "source": [
    "Para finalizar, depois de ter analisado um atributo de ataque e um de armação, vamos analisar um parâmetro defensivo. Destaco que, assim como nos gráficos das assistências, a linha pontilhada representa os 7 rebotes por jogo. Essa análise é a mais óbvia das três, visto que existe um amplo domínio de LeBron James no critério defensivo. Enquanto 7 rebotes por jogo para Kobe Bryant e Michael Jordan foi praticamente o máximo de suas carreiras, LeBron James mateve essa marca em praticamente todos os anos em que jogou. Podemos afirmar com toda a certeza, que o melhor defensor dentre os três é o LeBron. "
   ]
  },
  {
   "cell_type": "markdown",
   "id": "28e0bf57-3fe3-45f0-b54e-30bc17951b27",
   "metadata": {},
   "source": [
    "## Parte C:"
   ]
  },
  {
   "cell_type": "markdown",
   "id": "b018d22a-ff56-459b-a492-0390566ecef5",
   "metadata": {},
   "source": [
    "### Público Alvo:"
   ]
  },
  {
   "cell_type": "markdown",
   "id": "fdc53db5-d64f-4dab-a178-ac199fe0f66a",
   "metadata": {},
   "source": [
    "Para a peça gráfica, que será o resultado final do trabalho, o público seria geral, qualquer desconhecedor do assunto poderia compreender do que se trata e qual a mensagem que ela transmite. Quanto ao arquvio notebook, acredito que seja necessário algum conhecimento prévio, não muito, embora eu tenha explicado todos os pontos. "
   ]
  },
  {
   "cell_type": "markdown",
   "id": "0f95d3a4-d4a7-4bbf-b811-b3b58c2dc600",
   "metadata": {},
   "source": [
    "### Qualidade Expressiva:"
   ]
  },
  {
   "cell_type": "markdown",
   "id": "616c9a3a-8d55-4131-b266-e866379383e3",
   "metadata": {},
   "source": [
    "Meu objetivo é produzir algo dramático, inicialmente seria alguma montagem, isso ainda fará parte do trabalho, mas mudei a minha rota e vou tentar entregar um html. A peça se resume ao LeBron tentando fazer sua enterrada característica em um plano mais alto, indicando sua superioridade em relação aos outros dois, e em um plano mais baixo Michael e Kobe tentando impedir o movimento plástico do jogador do Lakers. As imagens que serão usadas estão acima na parte das inspirações."
   ]
  },
  {
   "cell_type": "markdown",
   "id": "353c6806-8830-4669-996b-9c50e325a53a",
   "metadata": {},
   "source": [
    "### Representatividade:"
   ]
  },
  {
   "cell_type": "markdown",
   "id": "8d34caed-c113-41c3-b6ec-0a7e6c38885a",
   "metadata": {},
   "source": [
    "Como dito acima, meu objetivo é entregar uma página html, que além da imagem explique um poucoi da análise. Vou tentar inserir interatividade com o css, para que ao passar o mouse sobre o jogador você consiga ver um resumo da sua carreira e em que pontos ele vence os demais. "
   ]
  },
  {
   "cell_type": "markdown",
   "id": "253d1752-8e74-4190-9a13-ca63919d50ea",
   "metadata": {},
   "source": [
    "### Ferramentas:"
   ]
  },
  {
   "cell_type": "markdown",
   "id": "db29df66-d86e-44f2-a4d3-2901783f5446",
   "metadata": {},
   "source": [
    "As ferramentas serão simples, apenas um software de photoshop para editar as imagens e uma IDE, provavelmente VS Code, que me permita criar a página html. Para a parte de iteratividade, que é sustentada pelo css, irei usar a ajuda do Chat GPT, não para criar a página, mas para me fornecer funções e comandos que possam atender minhas necessidades quando usados de forma própria. Farei uso da ferramenta, pois não sou um grande conhecedor de html e nunca programei com css."
   ]
  },
  {
   "cell_type": "markdown",
   "id": "c6c442e7-2081-4656-af0a-b3de8ea67ad1",
   "metadata": {},
   "source": [
    "## Parte D:"
   ]
  }
 ],
 "metadata": {
  "kernelspec": {
   "display_name": "Python 3 (ipykernel)",
   "language": "python",
   "name": "python3"
  },
  "language_info": {
   "codemirror_mode": {
    "name": "ipython",
    "version": 3
   },
   "file_extension": ".py",
   "mimetype": "text/x-python",
   "name": "python",
   "nbconvert_exporter": "python",
   "pygments_lexer": "ipython3",
   "version": "3.10.6"
  }
 },
 "nbformat": 4,
 "nbformat_minor": 5
}
